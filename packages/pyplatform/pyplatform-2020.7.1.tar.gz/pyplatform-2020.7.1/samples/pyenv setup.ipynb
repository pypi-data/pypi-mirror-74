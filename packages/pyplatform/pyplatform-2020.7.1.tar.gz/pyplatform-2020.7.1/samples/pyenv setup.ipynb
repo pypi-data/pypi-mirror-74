{
 "cells": [
  {
   "cell_type": "code",
   "execution_count": 1,
   "metadata": {},
   "outputs": [
    {
     "name": "stdout",
     "output_type": "stream",
     "text": [
      "authenticating with /Users/muhammad.hadi@mckesson.com/Documents/python_proj/admin/mto-platanalyt-dev-4819-1ef67bdbb3e5.json\n",
      "you are authenticated as: bq-1064482349014@bigquery-encryption.iam.gserviceaccount.com on GCP,        \n",
      "\t bigquery Client has been setup as: client        \n",
      "\t cloud storage client has been setup as: storage_client        \n",
      "\t env variable PROJECT_ID is: mto-platanalyt-dev-4819        \n",
      "\t env variable bigquery DATASET is: temptables_dev        \n",
      "\t env variable STORAGE_BUCKET is: temp_migration_dev \n"
     ]
    }
   ],
   "source": [
    "from pyplatform_dev import *"
   ]
  },
  {
   "cell_type": "code",
   "execution_count": 6,
   "metadata": {},
   "outputs": [
    {
     "name": "stderr",
     "output_type": "stream",
     "text": [
      "DEBUG:root:Log level set to DEBUG\n"
     ]
    }
   ],
   "source": [
    "import logging\n",
    "logger = logging.getLogger('main_logger')\n",
    "\n",
    "logging.basicConfig(level=logging.DEBUG)\n",
    "logging.debug('Log level set to DEBUG')"
   ]
  },
  {
   "cell_type": "code",
   "execution_count": 179,
   "metadata": {},
   "outputs": [
    {
     "name": "stdout",
     "output_type": "stream",
     "text": [
      "Collecting pypandoc\n",
      "  Downloading pypandoc-1.5.tar.gz (26 kB)\n",
      "Requirement already satisfied: setuptools in /Users/muhammad.hadi@mckesson.com/opt/anaconda3/envs/pd_latest/lib/python3.7/site-packages (from pypandoc) (46.4.0)\n",
      "Requirement already satisfied: pip>=8.1.0 in /Users/muhammad.hadi@mckesson.com/opt/anaconda3/envs/pd_latest/lib/python3.7/site-packages (from pypandoc) (20.1.1)\n",
      "Requirement already satisfied: wheel>=0.25.0 in /Users/muhammad.hadi@mckesson.com/opt/anaconda3/envs/pd_latest/lib/python3.7/site-packages (from pypandoc) (0.34.2)\n",
      "Building wheels for collected packages: pypandoc\n",
      "  Building wheel for pypandoc (setup.py) ... \u001b[?25ldone\n",
      "\u001b[?25h  Created wheel for pypandoc: filename=pypandoc-1.5-py3-none-any.whl size=17036 sha256=53d0a170e09fa554033745bad042069678a67c096fb0f6db67d4100bec313707\n",
      "  Stored in directory: /Users/muhammad.hadi@mckesson.com/Library/Caches/pip/wheels/06/a7/1d/3259fbf0089b15d491d9166b97de3a23d1f915bf7591abafc7\n",
      "Successfully built pypandoc\n",
      "Installing collected packages: pypandoc\n",
      "Successfully installed pypandoc-1.5\n"
     ]
    }
   ],
   "source": [
    "!pip install pypandoc"
   ]
  },
  {
   "cell_type": "code",
   "execution_count": 1,
   "metadata": {},
   "outputs": [],
   "source": [
    "!conda env export --no-builds > pyplatform_dev.yml"
   ]
  },
  {
   "cell_type": "code",
   "execution_count": 177,
   "metadata": {},
   "outputs": [],
   "source": [
    "!pip freeze > dev.txt"
   ]
  },
  {
   "cell_type": "markdown",
   "metadata": {},
   "source": [
    "\n",
    "\n",
    "\n",
    "\n",
    "# components:\n",
    "\n",
    "# database/ datawarehouse- bq\n",
    "-gcs \n",
    "\n",
    "# general purpose storage - gcs\n",
    "- datalake\n",
    "- stagging ground\n",
    "\n",
    "# compute (gcf\n",
    "- gcf\n",
    "- azure logic apps\n",
    "    -azure functions\n",
    "- pivotal cloud foundry\n",
    "\n",
    "# utitlis\n"
   ]
  },
  {
   "cell_type": "code",
   "execution_count": null,
   "metadata": {},
   "outputs": [],
   "source": [
    "database\n",
    "storage\n",
    "compute\n",
    "\n",
    "\n"
   ]
  },
  {
   "cell_type": "markdown",
   "metadata": {},
   "source": [
    "# contributing"
   ]
  },
  {
   "cell_type": "markdown",
   "metadata": {},
   "source": [
    "nameing convention\n",
    "\n",
    "- command line style\n",
    "\n",
    " -source-destination\n",
    "\n",
    "    \n",
    "chaining function\n",
    "- output to next\n",
    "\n",
    "class vs collection\n",
    "\n",
    "serverless\n",
    "- io in put and output\n"
   ]
  },
  {
   "cell_type": "code",
   "execution_count": null,
   "metadata": {},
   "outputs": [],
   "source": []
  },
  {
   "cell_type": "code",
   "execution_count": 1,
   "metadata": {},
   "outputs": [
    {
     "data": {
      "text/plain": [
       "['/Users/muhammad.hadi@mckesson.com/Documents/pivotal_dev/pyplatform/samples',\n",
       " '/Users/muhammad.hadi@mckesson.com/Documents/pivotal_dev/pyplatform/samples',\n",
       " '',\n",
       " '/Library/Frameworks/Python.framework/Versions/3.7/lib/python3.7/site-packages',\n",
       " '/Users/muhammad.hadi@mckesson.com/opt/anaconda3/envs/pd_latest/lib/python37.zip',\n",
       " '/Users/muhammad.hadi@mckesson.com/opt/anaconda3/envs/pd_latest/lib/python3.7',\n",
       " '/Users/muhammad.hadi@mckesson.com/opt/anaconda3/envs/pd_latest/lib/python3.7/lib-dynload',\n",
       " '/Users/muhammad.hadi@mckesson.com/opt/anaconda3/envs/pd_latest/lib/python3.7/site-packages',\n",
       " '/Library/Frameworks/Python.framework/Versions/3.7/lib/python3.7/site-packages/IPython/extensions',\n",
       " '/Users/muhammad.hadi@mckesson.com/Documents/python_proj',\n",
       " '/Library/Frameworks/Python.framework/Versions/3.7/bin',\n",
       " '/Users/muhammad.hadi@mckesson.com/Documents/pivotal_dev/pyplatform']"
      ]
     },
     "execution_count": 1,
     "metadata": {},
     "output_type": "execute_result"
    }
   ],
   "source": [
    "import sys\n",
    "sys.path.append('/Users/muhammad.hadi@mckesson.com/Documents/pivotal_dev/pyplatform')\n",
    "sys.path"
   ]
  },
  {
   "cell_type": "code",
   "execution_count": null,
   "metadata": {},
   "outputs": [],
   "source": []
  },
  {
   "cell_type": "code",
   "execution_count": null,
   "metadata": {},
   "outputs": [],
   "source": [
    "show_me(docstring=True)"
   ]
  },
  {
   "cell_type": "code",
   "execution_count": 62,
   "metadata": {},
   "outputs": [],
   "source": []
  },
  {
   "cell_type": "code",
   "execution_count": 51,
   "metadata": {},
   "outputs": [
    {
     "name": "stderr",
     "output_type": "stream",
     "text": [
      "DEBUG:urllib3.util.retry:Converted retries value: 3 -> Retry(total=3, connect=None, read=None, redirect=None, status=None)\n",
      "DEBUG:google.auth.transport.requests:Making request: POST https://oauth2.googleapis.com/token\n",
      "DEBUG:urllib3.connectionpool:Starting new HTTPS connection (1): oauth2.googleapis.com:443\n",
      "DEBUG:urllib3.connectionpool:https://oauth2.googleapis.com:443 \"POST /token HTTP/1.1\" 200 None\n",
      "DEBUG:urllib3.connectionpool:Starting new HTTPS connection (1): bigquery.googleapis.com:443\n",
      "DEBUG:urllib3.connectionpool:https://bigquery.googleapis.com:443 \"GET /bigquery/v2/projects/composite-drive-276806/datasets HTTP/1.1\" 200 None\n"
     ]
    },
    {
     "data": {
      "text/plain": [
       "['composite-drive-276806.DataSources',\n",
       " 'composite-drive-276806.hello',\n",
       " 'composite-drive-276806.hyper_sources']"
      ]
     },
     "execution_count": 51,
     "metadata": {},
     "output_type": "execute_result"
    }
   ],
   "source": [
    "cred = '/Users/muhammad.hadi@mckesson.com/Documents/pivotal_dev/tableau_hyperdb/credentials/gcp_service_account_dev.json'\n",
    "\n",
    "new_client = bigquery.Client().from_service_account_json(cred)\n",
    "# bq_create_dataset(dataset_name='DataSources', client=new_client,exists_ok=True)\n",
    "bq_list_datasets(client=new_client)"
   ]
  },
  {
   "cell_type": "code",
   "execution_count": 54,
   "metadata": {},
   "outputs": [
    {
     "name": "stderr",
     "output_type": "stream",
     "text": [
      "DEBUG:root:instantiating bigquery client from defualt environment variable\n",
      "DEBUG:urllib3.util.retry:Converted retries value: 3 -> Retry(total=3, connect=None, read=None, redirect=None, status=None)\n",
      "DEBUG:google.auth.transport.requests:Making request: POST https://oauth2.googleapis.com/token\n",
      "DEBUG:urllib3.connectionpool:Starting new HTTPS connection (1): oauth2.googleapis.com:443\n",
      "DEBUG:urllib3.connectionpool:https://oauth2.googleapis.com:443 \"POST /token HTTP/1.1\" 200 None\n",
      "DEBUG:urllib3.connectionpool:Starting new HTTPS connection (1): bigquery.googleapis.com:443\n",
      "DEBUG:urllib3.connectionpool:https://bigquery.googleapis.com:443 \"GET /bigquery/v2/projects/mto-platanalyt-dev-4819/datasets HTTP/1.1\" 200 None\n"
     ]
    },
    {
     "data": {
      "text/plain": [
       "['mto-platanalyt-dev-4819.forecast_models',\n",
       " 'mto-platanalyt-dev-4819.mckessonbilling_dev',\n",
       " 'mto-platanalyt-dev-4819.temptables_dev',\n",
       " 'mto-platanalyt-dev-4819.udf_dev',\n",
       " 'mto-platanalyt-dev-4819.vra']"
      ]
     },
     "execution_count": 54,
     "metadata": {},
     "output_type": "execute_result"
    }
   ],
   "source": [
    "bq_list_datasets()\n",
    "bq_list_tables('bigquery-public-data.irs_990')"
   ]
  },
  {
   "cell_type": "code",
   "execution_count": 104,
   "metadata": {},
   "outputs": [
    {
     "name": "stderr",
     "output_type": "stream",
     "text": [
      "DEBUG:root:instantiating bigquery client from defualt environment variable\n",
      "DEBUG:urllib3.util.retry:Converted retries value: 3 -> Retry(total=3, connect=None, read=None, redirect=None, status=None)\n",
      "DEBUG:google.auth.transport.requests:Making request: POST https://oauth2.googleapis.com/token\n",
      "DEBUG:urllib3.connectionpool:Starting new HTTPS connection (1): oauth2.googleapis.com:443\n",
      "DEBUG:urllib3.connectionpool:https://oauth2.googleapis.com:443 \"POST /token HTTP/1.1\" 200 None\n",
      "DEBUG:urllib3.connectionpool:Starting new HTTPS connection (1): bigquery.googleapis.com:443\n",
      "DEBUG:urllib3.connectionpool:https://bigquery.googleapis.com:443 \"GET /bigquery/v2/projects/mto-platanalyt-dev-4819/datasets/vra/tables HTTP/1.1\" 200 None\n",
      "DEBUG:root:12 tables in vra\n",
      "DEBUG:urllib3.connectionpool:https://bigquery.googleapis.com:443 \"GET /bigquery/v2/projects/mto-platanalyt-dev-4819/datasets/vra/tables/fact_onecloud_billing_calc HTTP/1.1\" 200 None\n",
      "DEBUG:urllib3.connectionpool:https://bigquery.googleapis.com:443 \"GET /bigquery/v2/projects/mto-platanalyt-dev-4819/datasets/vra/tables/fact_solari_billing_calc HTTP/1.1\" 200 None\n",
      "DEBUG:urllib3.connectionpool:https://bigquery.googleapis.com:443 \"GET /bigquery/v2/projects/mto-platanalyt-dev-4819/datasets/vra/tables/test_onecloud_CostProfiles HTTP/1.1\" 200 None\n",
      "DEBUG:urllib3.connectionpool:https://bigquery.googleapis.com:443 \"GET /bigquery/v2/projects/mto-platanalyt-dev-4819/datasets/vra/tables/test_onecloud_ProvisioningGroups HTTP/1.1\" 200 None\n",
      "DEBUG:urllib3.connectionpool:https://bigquery.googleapis.com:443 \"GET /bigquery/v2/projects/mto-platanalyt-dev-4819/datasets/vra/tables/test_onecloud_Requests HTTP/1.1\" 200 None\n",
      "DEBUG:urllib3.connectionpool:https://bigquery.googleapis.com:443 \"GET /bigquery/v2/projects/mto-platanalyt-dev-4819/datasets/vra/tables/test_onecloud_VMPerformances HTTP/1.1\" 200 None\n",
      "DEBUG:urllib3.connectionpool:https://bigquery.googleapis.com:443 \"GET /bigquery/v2/projects/mto-platanalyt-dev-4819/datasets/vra/tables/test_onecloud_VirtualMachineExts HTTP/1.1\" 200 None\n",
      "DEBUG:urllib3.connectionpool:https://bigquery.googleapis.com:443 \"GET /bigquery/v2/projects/mto-platanalyt-dev-4819/datasets/vra/tables/test_onecloud_VirtualMachineHistories HTTP/1.1\" 200 None\n",
      "DEBUG:urllib3.connectionpool:https://bigquery.googleapis.com:443 \"GET /bigquery/v2/projects/mto-platanalyt-dev-4819/datasets/vra/tables/test_onecloud_VirtualMachineProperties HTTP/1.1\" 200 None\n",
      "DEBUG:urllib3.connectionpool:https://bigquery.googleapis.com:443 \"GET /bigquery/v2/projects/mto-platanalyt-dev-4819/datasets/vra/tables/test_onecloud_VirtualMachines HTTP/1.1\" 200 None\n",
      "DEBUG:urllib3.connectionpool:https://bigquery.googleapis.com:443 \"GET /bigquery/v2/projects/mto-platanalyt-dev-4819/datasets/vra/tables/test_usage_onecloud HTTP/1.1\" 200 None\n",
      "DEBUG:urllib3.connectionpool:https://bigquery.googleapis.com:443 \"GET /bigquery/v2/projects/mto-platanalyt-dev-4819/datasets/vra/tables/test_usage_onecloud_solari HTTP/1.1\" 200 None\n"
     ]
    },
    {
     "data": {
      "text/html": [
       "<div>\n",
       "<style scoped>\n",
       "    .dataframe tbody tr th:only-of-type {\n",
       "        vertical-align: middle;\n",
       "    }\n",
       "\n",
       "    .dataframe tbody tr th {\n",
       "        vertical-align: top;\n",
       "    }\n",
       "\n",
       "    .dataframe thead th {\n",
       "        text-align: right;\n",
       "    }\n",
       "</style>\n",
       "<table border=\"1\" class=\"dataframe\">\n",
       "  <thead>\n",
       "    <tr style=\"text-align: right;\">\n",
       "      <th></th>\n",
       "      <th>table_id</th>\n",
       "      <th>table_name</th>\n",
       "      <th>created</th>\n",
       "      <th>modified</th>\n",
       "      <th>size_MB</th>\n",
       "      <th>num_rows</th>\n",
       "      <th>table_type</th>\n",
       "      <th>table_labels</th>\n",
       "      <th>partitioning_type</th>\n",
       "    </tr>\n",
       "  </thead>\n",
       "  <tbody>\n",
       "    <tr>\n",
       "      <th>0</th>\n",
       "      <td>mto-platanalyt-dev-4819.vra.fact_onecloud_bill...</td>\n",
       "      <td>fact_onecloud_billing_calc</td>\n",
       "      <td>2020-03-14 05:16:14.215000+00:00</td>\n",
       "      <td>2020-05-01 14:01:15.301000+00:00</td>\n",
       "      <td>1.284945</td>\n",
       "      <td>4335</td>\n",
       "      <td>TABLE</td>\n",
       "      <td>{'env': 'dev'}</td>\n",
       "      <td>None</td>\n",
       "    </tr>\n",
       "    <tr>\n",
       "      <th>1</th>\n",
       "      <td>mto-platanalyt-dev-4819.vra.fact_solari_billin...</td>\n",
       "      <td>fact_solari_billing_calc</td>\n",
       "      <td>2020-03-26 17:58:53.258000+00:00</td>\n",
       "      <td>2020-05-01 14:01:52.709000+00:00</td>\n",
       "      <td>0.279315</td>\n",
       "      <td>995</td>\n",
       "      <td>TABLE</td>\n",
       "      <td>{'env': 'dev'}</td>\n",
       "      <td>None</td>\n",
       "    </tr>\n",
       "    <tr>\n",
       "      <th>2</th>\n",
       "      <td>mto-platanalyt-dev-4819.vra.test_onecloud_Cost...</td>\n",
       "      <td>test_onecloud_CostProfiles</td>\n",
       "      <td>2020-03-12 21:39:39.383000+00:00</td>\n",
       "      <td>2020-03-12 21:39:39.383000+00:00</td>\n",
       "      <td>0.001402</td>\n",
       "      <td>14</td>\n",
       "      <td>TABLE</td>\n",
       "      <td>{}</td>\n",
       "      <td>None</td>\n",
       "    </tr>\n",
       "    <tr>\n",
       "      <th>3</th>\n",
       "      <td>mto-platanalyt-dev-4819.vra.test_onecloud_Prov...</td>\n",
       "      <td>test_onecloud_ProvisioningGroups</td>\n",
       "      <td>2020-03-12 21:38:45.172000+00:00</td>\n",
       "      <td>2020-03-12 21:38:45.172000+00:00</td>\n",
       "      <td>0.063301</td>\n",
       "      <td>339</td>\n",
       "      <td>TABLE</td>\n",
       "      <td>{}</td>\n",
       "      <td>None</td>\n",
       "    </tr>\n",
       "    <tr>\n",
       "      <th>4</th>\n",
       "      <td>mto-platanalyt-dev-4819.vra.test_onecloud_Requ...</td>\n",
       "      <td>test_onecloud_Requests</td>\n",
       "      <td>2020-03-12 21:38:37.743000+00:00</td>\n",
       "      <td>2020-03-12 21:38:37.743000+00:00</td>\n",
       "      <td>0.008224</td>\n",
       "      <td>135</td>\n",
       "      <td>TABLE</td>\n",
       "      <td>{}</td>\n",
       "      <td>None</td>\n",
       "    </tr>\n",
       "    <tr>\n",
       "      <th>5</th>\n",
       "      <td>mto-platanalyt-dev-4819.vra.test_onecloud_VMPe...</td>\n",
       "      <td>test_onecloud_VMPerformances</td>\n",
       "      <td>2020-03-12 21:39:26.996000+00:00</td>\n",
       "      <td>2020-03-12 21:39:26.996000+00:00</td>\n",
       "      <td>0.398589</td>\n",
       "      <td>3470</td>\n",
       "      <td>TABLE</td>\n",
       "      <td>{}</td>\n",
       "      <td>None</td>\n",
       "    </tr>\n",
       "    <tr>\n",
       "      <th>6</th>\n",
       "      <td>mto-platanalyt-dev-4819.vra.test_onecloud_Virt...</td>\n",
       "      <td>test_onecloud_VirtualMachineExts</td>\n",
       "      <td>2020-03-12 21:35:59.392000+00:00</td>\n",
       "      <td>2020-03-12 21:38:24.005000+00:00</td>\n",
       "      <td>4.211252</td>\n",
       "      <td>5697</td>\n",
       "      <td>TABLE</td>\n",
       "      <td>{}</td>\n",
       "      <td>None</td>\n",
       "    </tr>\n",
       "    <tr>\n",
       "      <th>7</th>\n",
       "      <td>mto-platanalyt-dev-4819.vra.test_onecloud_Virt...</td>\n",
       "      <td>test_onecloud_VirtualMachineHistories</td>\n",
       "      <td>2020-03-12 21:39:13.039000+00:00</td>\n",
       "      <td>2020-03-12 21:39:13.039000+00:00</td>\n",
       "      <td>9.992307</td>\n",
       "      <td>15596</td>\n",
       "      <td>TABLE</td>\n",
       "      <td>{}</td>\n",
       "      <td>None</td>\n",
       "    </tr>\n",
       "    <tr>\n",
       "      <th>8</th>\n",
       "      <td>mto-platanalyt-dev-4819.vra.test_onecloud_Virt...</td>\n",
       "      <td>test_onecloud_VirtualMachineProperties</td>\n",
       "      <td>2020-03-12 21:49:22.206000+00:00</td>\n",
       "      <td>2020-03-12 21:49:22.206000+00:00</td>\n",
       "      <td>41.000327</td>\n",
       "      <td>665196</td>\n",
       "      <td>TABLE</td>\n",
       "      <td>{}</td>\n",
       "      <td>None</td>\n",
       "    </tr>\n",
       "    <tr>\n",
       "      <th>9</th>\n",
       "      <td>mto-platanalyt-dev-4819.vra.test_onecloud_Virt...</td>\n",
       "      <td>test_onecloud_VirtualMachines</td>\n",
       "      <td>2020-03-12 21:35:32.558000+00:00</td>\n",
       "      <td>2020-03-12 21:38:01.095000+00:00</td>\n",
       "      <td>4.406978</td>\n",
       "      <td>5697</td>\n",
       "      <td>TABLE</td>\n",
       "      <td>{}</td>\n",
       "      <td>None</td>\n",
       "    </tr>\n",
       "    <tr>\n",
       "      <th>10</th>\n",
       "      <td>mto-platanalyt-dev-4819.vra.test_usage_onecloud</td>\n",
       "      <td>test_usage_onecloud</td>\n",
       "      <td>2020-03-14 06:26:15.116000+00:00</td>\n",
       "      <td>2020-04-29 08:56:04.315000+00:00</td>\n",
       "      <td>4.019089</td>\n",
       "      <td>13231</td>\n",
       "      <td>TABLE</td>\n",
       "      <td>{}</td>\n",
       "      <td>DAY</td>\n",
       "    </tr>\n",
       "    <tr>\n",
       "      <th>11</th>\n",
       "      <td>mto-platanalyt-dev-4819.vra.test_usage_oneclou...</td>\n",
       "      <td>test_usage_onecloud_solari</td>\n",
       "      <td>2020-03-26 20:38:19.235000+00:00</td>\n",
       "      <td>2020-04-29 08:58:39.734000+00:00</td>\n",
       "      <td>0.441867</td>\n",
       "      <td>2005</td>\n",
       "      <td>TABLE</td>\n",
       "      <td>{}</td>\n",
       "      <td>DAY</td>\n",
       "    </tr>\n",
       "  </tbody>\n",
       "</table>\n",
       "</div>"
      ],
      "text/plain": [
       "                                             table_id  \\\n",
       "0   mto-platanalyt-dev-4819.vra.fact_onecloud_bill...   \n",
       "1   mto-platanalyt-dev-4819.vra.fact_solari_billin...   \n",
       "2   mto-platanalyt-dev-4819.vra.test_onecloud_Cost...   \n",
       "3   mto-platanalyt-dev-4819.vra.test_onecloud_Prov...   \n",
       "4   mto-platanalyt-dev-4819.vra.test_onecloud_Requ...   \n",
       "5   mto-platanalyt-dev-4819.vra.test_onecloud_VMPe...   \n",
       "6   mto-platanalyt-dev-4819.vra.test_onecloud_Virt...   \n",
       "7   mto-platanalyt-dev-4819.vra.test_onecloud_Virt...   \n",
       "8   mto-platanalyt-dev-4819.vra.test_onecloud_Virt...   \n",
       "9   mto-platanalyt-dev-4819.vra.test_onecloud_Virt...   \n",
       "10    mto-platanalyt-dev-4819.vra.test_usage_onecloud   \n",
       "11  mto-platanalyt-dev-4819.vra.test_usage_oneclou...   \n",
       "\n",
       "                                table_name                          created  \\\n",
       "0               fact_onecloud_billing_calc 2020-03-14 05:16:14.215000+00:00   \n",
       "1                 fact_solari_billing_calc 2020-03-26 17:58:53.258000+00:00   \n",
       "2               test_onecloud_CostProfiles 2020-03-12 21:39:39.383000+00:00   \n",
       "3         test_onecloud_ProvisioningGroups 2020-03-12 21:38:45.172000+00:00   \n",
       "4                   test_onecloud_Requests 2020-03-12 21:38:37.743000+00:00   \n",
       "5             test_onecloud_VMPerformances 2020-03-12 21:39:26.996000+00:00   \n",
       "6         test_onecloud_VirtualMachineExts 2020-03-12 21:35:59.392000+00:00   \n",
       "7    test_onecloud_VirtualMachineHistories 2020-03-12 21:39:13.039000+00:00   \n",
       "8   test_onecloud_VirtualMachineProperties 2020-03-12 21:49:22.206000+00:00   \n",
       "9            test_onecloud_VirtualMachines 2020-03-12 21:35:32.558000+00:00   \n",
       "10                     test_usage_onecloud 2020-03-14 06:26:15.116000+00:00   \n",
       "11              test_usage_onecloud_solari 2020-03-26 20:38:19.235000+00:00   \n",
       "\n",
       "                           modified    size_MB  num_rows table_type  \\\n",
       "0  2020-05-01 14:01:15.301000+00:00   1.284945      4335      TABLE   \n",
       "1  2020-05-01 14:01:52.709000+00:00   0.279315       995      TABLE   \n",
       "2  2020-03-12 21:39:39.383000+00:00   0.001402        14      TABLE   \n",
       "3  2020-03-12 21:38:45.172000+00:00   0.063301       339      TABLE   \n",
       "4  2020-03-12 21:38:37.743000+00:00   0.008224       135      TABLE   \n",
       "5  2020-03-12 21:39:26.996000+00:00   0.398589      3470      TABLE   \n",
       "6  2020-03-12 21:38:24.005000+00:00   4.211252      5697      TABLE   \n",
       "7  2020-03-12 21:39:13.039000+00:00   9.992307     15596      TABLE   \n",
       "8  2020-03-12 21:49:22.206000+00:00  41.000327    665196      TABLE   \n",
       "9  2020-03-12 21:38:01.095000+00:00   4.406978      5697      TABLE   \n",
       "10 2020-04-29 08:56:04.315000+00:00   4.019089     13231      TABLE   \n",
       "11 2020-04-29 08:58:39.734000+00:00   0.441867      2005      TABLE   \n",
       "\n",
       "      table_labels partitioning_type  \n",
       "0   {'env': 'dev'}              None  \n",
       "1   {'env': 'dev'}              None  \n",
       "2               {}              None  \n",
       "3               {}              None  \n",
       "4               {}              None  \n",
       "5               {}              None  \n",
       "6               {}              None  \n",
       "7               {}              None  \n",
       "8               {}              None  \n",
       "9               {}              None  \n",
       "10              {}               DAY  \n",
       "11              {}               DAY  "
      ]
     },
     "execution_count": 104,
     "metadata": {},
     "output_type": "execute_result"
    }
   ],
   "source": [
    "bq_list_tables('vra',output_option='DF')"
   ]
  },
  {
   "cell_type": "code",
   "execution_count": 111,
   "metadata": {},
   "outputs": [
    {
     "name": "stderr",
     "output_type": "stream",
     "text": [
      "DEBUG:root:instantiating bigquery client from defualt environment variable\n",
      "DEBUG:urllib3.util.retry:Converted retries value: 3 -> Retry(total=3, connect=None, read=None, redirect=None, status=None)\n",
      "DEBUG:google.auth.transport.requests:Making request: POST https://oauth2.googleapis.com/token\n",
      "DEBUG:urllib3.connectionpool:Starting new HTTPS connection (1): oauth2.googleapis.com:443\n",
      "DEBUG:urllib3.connectionpool:https://oauth2.googleapis.com:443 \"POST /token HTTP/1.1\" 200 None\n",
      "DEBUG:urllib3.connectionpool:Starting new HTTPS connection (1): bigquery.googleapis.com:443\n",
      "DEBUG:urllib3.connectionpool:https://bigquery.googleapis.com:443 \"GET /bigquery/v2/projects/mto-platanalyt-dev-4819/datasets/vra/tables HTTP/1.1\" 200 None\n",
      "DEBUG:root:12 tables in vra\n"
     ]
    },
    {
     "data": {
      "text/plain": [
       "['mto-platanalyt-dev-4819.vra.fact_onecloud_billing_calc',\n",
       " 'mto-platanalyt-dev-4819.vra.fact_solari_billing_calc',\n",
       " 'mto-platanalyt-dev-4819.vra.test_onecloud_CostProfiles',\n",
       " 'mto-platanalyt-dev-4819.vra.test_onecloud_ProvisioningGroups',\n",
       " 'mto-platanalyt-dev-4819.vra.test_onecloud_Requests',\n",
       " 'mto-platanalyt-dev-4819.vra.test_onecloud_VMPerformances',\n",
       " 'mto-platanalyt-dev-4819.vra.test_onecloud_VirtualMachineExts',\n",
       " 'mto-platanalyt-dev-4819.vra.test_onecloud_VirtualMachineHistories',\n",
       " 'mto-platanalyt-dev-4819.vra.test_onecloud_VirtualMachineProperties',\n",
       " 'mto-platanalyt-dev-4819.vra.test_onecloud_VirtualMachines',\n",
       " 'mto-platanalyt-dev-4819.vra.test_usage_onecloud',\n",
       " 'mto-platanalyt-dev-4819.vra.test_usage_onecloud_solari']"
      ]
     },
     "execution_count": 111,
     "metadata": {},
     "output_type": "execute_result"
    }
   ],
   "source": [
    "bq_list_tables('vra')"
   ]
  },
  {
   "cell_type": "code",
   "execution_count": 87,
   "metadata": {},
   "outputs": [
    {
     "name": "stderr",
     "output_type": "stream",
     "text": [
      "DEBUG:google.auth.transport.requests:Making request: POST https://oauth2.googleapis.com/token\n",
      "DEBUG:urllib3.connectionpool:Resetting dropped connection: oauth2.googleapis.com\n",
      "DEBUG:urllib3.connectionpool:https://oauth2.googleapis.com:443 \"POST /token HTTP/1.1\" 200 None\n",
      "DEBUG:urllib3.connectionpool:Resetting dropped connection: bigquery.googleapis.com\n",
      "DEBUG:urllib3.connectionpool:https://bigquery.googleapis.com:443 \"GET /bigquery/v2/projects/bigquery-public-data/datasets/irs_990/tables HTTP/1.1\" 200 None\n"
     ]
    }
   ],
   "source": [
    "tables = list(client.list_tables('bigquery-public-data.irs_990'))"
   ]
  },
  {
   "cell_type": "code",
   "execution_count": 89,
   "metadata": {},
   "outputs": [],
   "source": [
    "t = tables[0]"
   ]
  },
  {
   "cell_type": "code",
   "execution_count": 90,
   "metadata": {},
   "outputs": [
    {
     "data": {
      "text/plain": [
       "'irs_990'"
      ]
     },
     "execution_count": 90,
     "metadata": {},
     "output_type": "execute_result"
    }
   ],
   "source": [
    "t.dataset_id"
   ]
  },
  {
   "cell_type": "code",
   "execution_count": null,
   "metadata": {},
   "outputs": [],
   "source": [
    "t."
   ]
  },
  {
   "cell_type": "code",
   "execution_count": 41,
   "metadata": {},
   "outputs": [
    {
     "ename": "NameError",
     "evalue": "name 'module' is not defined",
     "output_type": "error",
     "traceback": [
      "\u001b[0;31m---------------------------------------------------------------------------\u001b[0m",
      "\u001b[0;31mNameError\u001b[0m                                 Traceback (most recent call last)",
      "\u001b[0;32m<ipython-input-41-b370c569c8b9>\u001b[0m in \u001b[0;36m<module>\u001b[0;34m\u001b[0m\n\u001b[0;32m----> 1\u001b[0;31m \u001b[0misinstance\u001b[0m\u001b[0;34m(\u001b[0m\u001b[0mpd\u001b[0m\u001b[0;34m,\u001b[0m\u001b[0mmodule\u001b[0m\u001b[0;34m)\u001b[0m\u001b[0;34m\u001b[0m\u001b[0;34m\u001b[0m\u001b[0m\n\u001b[0m",
      "\u001b[0;31mNameError\u001b[0m: name 'module' is not defined"
     ]
    }
   ],
   "source": [
    "isinstance(pd,module)"
   ]
  },
  {
   "cell_type": "code",
   "execution_count": 42,
   "metadata": {},
   "outputs": [
    {
     "data": {
      "text/plain": [
       "True"
      ]
     },
     "execution_count": 42,
     "metadata": {},
     "output_type": "execute_result"
    }
   ],
   "source": []
  },
  {
   "cell_type": "code",
   "execution_count": 43,
   "metadata": {},
   "outputs": [
    {
     "data": {
      "text/plain": [
       "'/Users/muhammad.hadi@mckesson.com/opt/anaconda3/envs/pd_latest/lib/python3.7/site-packages/pandas/__init__.py'"
      ]
     },
     "execution_count": 43,
     "metadata": {},
     "output_type": "execute_result"
    }
   ],
   "source": []
  },
  {
   "cell_type": "code",
   "execution_count": 105,
   "metadata": {},
   "outputs": [
    {
     "data": {
      "text/plain": [
       "google.cloud.bigquery.job.QueryJobConfig"
      ]
     },
     "execution_count": 105,
     "metadata": {},
     "output_type": "execute_result"
    }
   ],
   "source": [
    "bigquery.QueryJobConfig"
   ]
  },
  {
   "cell_type": "code",
   "execution_count": 119,
   "metadata": {},
   "outputs": [
    {
     "data": {
      "text/plain": [
       "google.cloud.bigquery.job.LoadJobConfig"
      ]
     },
     "execution_count": 119,
     "metadata": {},
     "output_type": "execute_result"
    }
   ],
   "source": [
    "bigquery.LoadJobConfig"
   ]
  },
  {
   "cell_type": "code",
   "execution_count": 120,
   "metadata": {},
   "outputs": [
    {
     "data": {
      "text/plain": [
       "google.cloud.bigquery.job.ExtractJobConfig"
      ]
     },
     "execution_count": 120,
     "metadata": {},
     "output_type": "execute_result"
    }
   ],
   "source": [
    "bigquery.ExtractJobConfig"
   ]
  },
  {
   "cell_type": "code",
   "execution_count": 121,
   "metadata": {},
   "outputs": [
    {
     "data": {
      "text/plain": [
       "google.cloud.bigquery.job.CopyJobConfig"
      ]
     },
     "execution_count": 121,
     "metadata": {},
     "output_type": "execute_result"
    }
   ],
   "source": [
    "bigquery.CopyJobConfig"
   ]
  },
  {
   "cell_type": "code",
   "execution_count": 107,
   "metadata": {},
   "outputs": [
    {
     "data": {
      "text/plain": [
       "google.cloud.bigquery.schema.SchemaField"
      ]
     },
     "execution_count": 107,
     "metadata": {},
     "output_type": "execute_result"
    }
   ],
   "source": [
    "bigquery.SchemaField"
   ]
  },
  {
   "cell_type": "code",
   "execution_count": 110,
   "metadata": {},
   "outputs": [
    {
     "data": {
      "text/plain": [
       "<module 'google.cloud.bigquery.schema' from '/Library/Frameworks/Python.framework/Versions/3.7/lib/python3.7/site-packages/google/cloud/bigquery/schema.py'>"
      ]
     },
     "execution_count": 110,
     "metadata": {},
     "output_type": "execute_result"
    }
   ],
   "source": [
    "bigquery.schema"
   ]
  },
  {
   "cell_type": "code",
   "execution_count": 113,
   "metadata": {},
   "outputs": [
    {
     "name": "stderr",
     "output_type": "stream",
     "text": [
      "DEBUG:urllib3.connectionpool:https://bigquery.googleapis.com:443 \"GET /bigquery/v2/projects/mto-platanalyt-dev-4819/datasets/vra/tables/fact_onecloud_billing_calc HTTP/1.1\" 200 None\n"
     ]
    }
   ],
   "source": [
    "t = get_table_schema('mto-platanalyt-dev-4819.vra.fact_onecloud_billing_calc')"
   ]
  },
  {
   "cell_type": "code",
   "execution_count": 116,
   "metadata": {},
   "outputs": [],
   "source": [
    "a = t.pop()"
   ]
  },
  {
   "cell_type": "code",
   "execution_count": 118,
   "metadata": {},
   "outputs": [
    {
     "data": {
      "text/plain": [
       "google.cloud.bigquery.schema.SchemaField"
      ]
     },
     "execution_count": 118,
     "metadata": {},
     "output_type": "execute_result"
    }
   ],
   "source": [
    "type(a)"
   ]
  },
  {
   "cell_type": "code",
   "execution_count": null,
   "metadata": {},
   "outputs": [],
   "source": [
    "bigquery.job.LoadJob"
   ]
  },
  {
   "cell_type": "code",
   "execution_count": null,
   "metadata": {},
   "outputs": [],
   "source": []
  },
  {
   "cell_type": "code",
   "execution_count": 130,
   "metadata": {},
   "outputs": [
    {
     "name": "stdout",
     "output_type": "stream",
     "text": [
      "Collecting pipreqs\n",
      "  Downloading pipreqs-0.4.10-py2.py3-none-any.whl (25 kB)\n",
      "Processing /Users/muhammad.hadi@mckesson.com/Library/Caches/pip/wheels/9b/04/dd/7daf4150b6d9b12949298737de9431a324d4b797ffd63f526e/docopt-0.6.2-py2.py3-none-any.whl\n",
      "Collecting yarg\n",
      "  Downloading yarg-0.1.9-py2.py3-none-any.whl (19 kB)\n",
      "Requirement already satisfied: requests in /Users/muhammad.hadi@mckesson.com/opt/anaconda3/envs/pd_latest/lib/python3.7/site-packages (from yarg->pipreqs) (2.23.0)\n",
      "Requirement already satisfied: chardet<4,>=3.0.2 in /Library/Frameworks/Python.framework/Versions/3.7/lib/python3.7/site-packages (from requests->yarg->pipreqs) (3.0.4)\n",
      "Requirement already satisfied: urllib3!=1.25.0,!=1.25.1,<1.26,>=1.21.1 in /Library/Frameworks/Python.framework/Versions/3.7/lib/python3.7/site-packages (from requests->yarg->pipreqs) (1.25.9)\n",
      "Requirement already satisfied: certifi>=2017.4.17 in /Library/Frameworks/Python.framework/Versions/3.7/lib/python3.7/site-packages (from requests->yarg->pipreqs) (2019.11.28)\n",
      "Requirement already satisfied: idna<3,>=2.5 in /Library/Frameworks/Python.framework/Versions/3.7/lib/python3.7/site-packages (from requests->yarg->pipreqs) (2.8)\n",
      "Installing collected packages: docopt, yarg, pipreqs\n",
      "Successfully installed docopt-0.6.2 pipreqs-0.4.10 yarg-0.1.9\n"
     ]
    }
   ],
   "source": [
    "!pip install pipreqs"
   ]
  },
  {
   "cell_type": "code",
   "execution_count": 131,
   "metadata": {},
   "outputs": [],
   "source": [
    "import pipreqs as req"
   ]
  },
  {
   "cell_type": "code",
   "execution_count": 137,
   "metadata": {},
   "outputs": [],
   "source": [
    "import sys"
   ]
  },
  {
   "cell_type": "code",
   "execution_count": 173,
   "metadata": {},
   "outputs": [],
   "source": [
    "def make_requirements_txt(project_dir='.'):\n",
    "    \"\"\"Make requirements.txt file from main.py or module folder\n",
    "\n",
    "    Keyword Arguments:\n",
    "        project_dir {str} -- path to main.py or project folder (default: {'current directory'})\n",
    "            Note: project folder must end with / (mac/linux) or \\ for Windows\n",
    "    \"\"\"\n",
    "    if project_dir == '.':\n",
    "        project_dir = os.path.curdir\n",
    "    else:\n",
    "        project_dir = os.path.dirname(project_dir)\n",
    "#         os.chdir(script_path)\n",
    "    return os.system(f\"pipreqs {project_dir}\")"
   ]
  },
  {
   "cell_type": "code",
   "execution_count": 151,
   "metadata": {},
   "outputs": [
    {
     "name": "stdout",
     "output_type": "stream",
     "text": [
      "/Users/muhammad.hadi@mckesson.com/Documents/pivotal_dev/pyplatform/samples\n"
     ]
    }
   ],
   "source": [
    "!pwd"
   ]
  },
  {
   "cell_type": "code",
   "execution_count": 146,
   "metadata": {},
   "outputs": [
    {
     "data": {
      "text/plain": [
       "0"
      ]
     },
     "execution_count": 146,
     "metadata": {},
     "output_type": "execute_result"
    }
   ],
   "source": [
    "make_requirements_txt(project_dir='.')"
   ]
  },
  {
   "cell_type": "code",
   "execution_count": 159,
   "metadata": {},
   "outputs": [
    {
     "data": {
      "text/plain": [
       "''"
      ]
     },
     "execution_count": 159,
     "metadata": {},
     "output_type": "execute_result"
    }
   ],
   "source": [
    "project_dir='.'\n",
    "\n",
    "os.path.dirname(project_dir)"
   ]
  },
  {
   "cell_type": "code",
   "execution_count": 174,
   "metadata": {},
   "outputs": [
    {
     "data": {
      "text/plain": [
       "256"
      ]
     },
     "execution_count": 174,
     "metadata": {},
     "output_type": "execute_result"
    }
   ],
   "source": [
    "\n",
    "make_requirements_txt(project_dir='/Users/muhammad.hadi@mckesson.com/Documents/pivotal_dev/tableau_hyperdb/samples/azurescript.py')"
   ]
  },
  {
   "cell_type": "code",
   "execution_count": 136,
   "metadata": {},
   "outputs": [
    {
     "name": "stdout",
     "output_type": "stream",
     "text": [
      "INFO: Successfully saved requirements file in /Users/muhammad.hadi@mckesson.com/Documents/pivotal_dev/tableau_hyperdb/samples/google_cloud_function/requirements.txt\n"
     ]
    }
   ],
   "source": [
    "!pipreqs '/Users/muhammad.hadi@mckesson.com/Documents/pivotal_dev/tableau_hyperdb/samples/google_cloud_function'"
   ]
  },
  {
   "cell_type": "code",
   "execution_count": null,
   "metadata": {},
   "outputs": [],
   "source": [
    "from modulefinder import ModuleFinder\n",
    "f = ModuleFinder()\n",
    "# Run the main script\n",
    "f.run_script('/Users/muhammad.hadi@mckesson.com/Documents/pivotal_dev/pyplatform/pyplatform/admin.py')\n",
    "f.run_script('/Users/muhammad.hadi@mckesson.com/opt/anaconda3/envs/pd_latest/lib/python3.7/pyplatform_dev.py')\n",
    "# Get names of all the imported modules\n",
    "names = list(f.modules.keys())\n",
    "# Get a sorted list of the root modules imported\n",
    "basemods = sorted(set([name.split('.')[0] for name in names]))\n",
    "# Print it nicely\n",
    "print( \"\\n\".join(basemods))"
   ]
  },
  {
   "cell_type": "code",
   "execution_count": null,
   "metadata": {},
   "outputs": [],
   "source": [
    "names"
   ]
  },
  {
   "cell_type": "code",
   "execution_count": null,
   "metadata": {},
   "outputs": [],
   "source": []
  },
  {
   "cell_type": "code",
   "execution_count": 4,
   "metadata": {},
   "outputs": [
    {
     "name": "stdout",
     "output_type": "stream",
     "text": [
      "*** ===============        datalake         =============== *** \n",
      "\n",
      "def gcs_list_buckets(storage_client=None):\n",
      "\n",
      "def gcs_list_blobs(bucket_id=None, storage_client=None, folder_name=None, file_extenion='.csv'):\n",
      "\n",
      "def gcs_copy_blob(bucket_id, blob_name,  new_bucket_id=None, new_blob_name=None, storage_client=None):\n",
      "\n",
      "def gcs_rename_blob(bucket_id, blob_name, new_blob_name, storage_client=None):\n",
      "\n",
      "def gcs_download_blob(gcs_uri, filepath=None, storage_client=None, output_option='FILE', delete_blob=False):\n",
      "\n",
      "def gcs_upload_blob(content, bucket_id=None, blobname=None, storage_client=None):\n",
      "\n",
      "def gcs_upload_folder(bucket_id=None, folderpath=\"./\", output=True, storage_client=None):\n",
      "\n",
      "def gcs_del_storage_folder(bucket_id, folder=None, blob_name=None, storage_client=None):\n",
      "\n",
      "\n",
      "\n",
      "\n",
      "*** ===============        database         =============== *** \n",
      "\n",
      "def bq_to_df(sql, client=None, **job_config):\n",
      "\n",
      "def bq_to_df_with_json_objects(sql=None, job_id=None, client=None, output_option='DF', json_file_name=None):\n",
      "\n",
      "def bq_result_to_table(sql, destination_table_id, write_mode='WRITE_APPEND', client=None, **job_config):\n",
      "\n",
      "def bq_to_excel(sql, filepath=None, sheet_name=None, index=False, mode='w', client=None, output_option='FILE'):\n",
      "\n",
      "def dfs_to_excel(dfs, file, sheet_name=None, index=False, mode='w'):\n",
      "\n",
      "def bq_to_csv(sql, filepath=None, header=True, client=None, output_option='FILE'):\n",
      "\n",
      "def df_to_bq(df, table_id, client=None, write_mode='WRITE_APPEND', schema=None, autodetect=True, job_id=None, **job_config):\n",
      "\n",
      "def df_to_bq_with_json_objects(df, table_id, client=None, schema=None, json_str_column=None, write_mode='WRITE_APPEND',  **job_config):\n",
      "\n",
      "def bq_load_gcs_csv(source_uri, destination_table_id, schema=None, client=None, job_id=None, **job_config):\n",
      "\n",
      "def bq_export_csv_to_gcs(source_table_id, gcs_bucket, client=None, **job_config):\n",
      "\n",
      "def get_job_info(job, client=None, output_option=None):\n",
      "\n",
      "def create_bq_job_id(description=None):\n",
      "\n",
      "def get_table_schema_from_bq(table_id, client=None, output_option='OBJECT'):\n",
      "\n",
      "def get_table_schema_from_df(df, bq_dtypes=None, output_options='OBJECT'):\n",
      "\n",
      "def _create_field_schema_api_repr(series):\n",
      "\n",
      "def _validate_df_column_names(df, output_option='INVALID'):\n",
      "\n",
      "def add_column_to_schema(schema, column_name='Col_index_number', column_type='STRING', column_mode='NULLABLE', column_index=-1, children_fields=None):\n",
      "\n",
      "def get_gcp_service_account(credentials, storage_client=None):\n",
      "\n",
      "def bq_create_dataset(dataset_name='DataSources', client=None):\n",
      "\n",
      "def bq_list_datasets(client=None):\n",
      "\n",
      "def bq_list_tables(dataset, client=None, output_option='LIST'):\n",
      "\n",
      "def bq_update_table_metadata(table_id, table_description=None, table_labels=None, client=None):\n",
      "\n",
      "def bq_create_table(table_id, schema, partition_column_name=None, cluster_column_name=None, if_exists='ERROR', client=None):\n",
      "\n",
      "def bq_copy_table(source_table_id, destination_table_id, write_mode='WRITE_EMPTY', job_id=None, client=None, **job_config):\n",
      "\n",
      "def bq_del_table(table_id, client=None):\n",
      "\n",
      "def bq_restore_table(table_id, snapshot_datetime=None, client=None):\n",
      "\n",
      "\n",
      "\n",
      "\n",
      "*** ===============        udf         =============== *** \n",
      "\n",
      "def sql_from_file(file_path):\n",
      "\n",
      "def sql_get_params(script):\n",
      "\n",
      "def sql_parameterize(script, params):\n",
      "\n",
      "def reportingMonthCurrent():\n",
      "\n",
      "def reportingMonth(cutoffDay=5):\n",
      "\n",
      "def reportingMonthOffset(num_mon=6, reportingMonth=None):\n",
      "\n",
      "def reportingMonthEnd(reportingMonth='201909'):\n",
      "\n",
      "def scanDate(num_days=45):\n",
      "\n",
      "def datetime_fucs(date_time=None, timezone='UTC', truncate_to=None, output_option=None):\n",
      "\n",
      "\n",
      "\n",
      "\n",
      "*** ===============        compute         =============== *** \n",
      "\n",
      "def make_requirements_txt(project_dir='.'):\n",
      "\n",
      "def gcf_authenticated_trigger(url, timeout=0.1):\n",
      "\n",
      "def gcf_authenticated_request(gcf_url, method='GET', credentials=None, IAM_SCOPE=None, **kwargs):\n",
      "\n",
      "\n",
      "\n",
      "\n"
     ]
    }
   ],
   "source": [
    "pyp.show_me(pyp)"
   ]
  },
  {
   "cell_type": "code",
   "execution_count": 11,
   "metadata": {},
   "outputs": [
    {
     "name": "stdout",
     "output_type": "stream",
     "text": [
      "*** ===============        udf         =============== *** \n",
      "\n",
      "def sql_from_file(file_path):\n",
      "\n",
      "    \"\"\"Return sql query form a filepath.\n",
      "\n",
      "    \"\"\"\n",
      "\n",
      "def sql_get_params(script):\n",
      "\n",
      "    \"\"\"return paramters of sql script\n",
      "\n",
      "    \"\"\"\n",
      "\n",
      "def sql_parameterize(script, params):\n",
      "\n",
      "    \"\"\"injects script parameters values into sql query\n",
      "\n",
      "    \"\"\"\n",
      "\n",
      "def reportingMonthCurrent():\n",
      "\n",
      "    \"\"\"Returns {str} for current month in yyyymm format from local system time\n",
      "\n",
      "    \"\"\"\n",
      "\n",
      "def reportingMonth(cutoffDay=5):\n",
      "\n",
      "    \"\"\"Returns lastest closed reporting month (usually previous month) in yyyymm format from local system time.\n",
      "\n",
      "    \"\"\"\n",
      "\n",
      "def reportingMonthOffset(num_mon=6, reportingMonth=None):\n",
      "\n",
      "    \"\"\"Returns offset of current month in yyyymm format from local system time\n",
      "\n",
      "    \"\"\"\n",
      "\n",
      "def reportingMonthEnd(reportingMonth='201909'):\n",
      "\n",
      "    \"\"\"Converts reportingMonth string to end of month date\n",
      "\n",
      "    \"\"\"\n",
      "\n",
      "def scanDate(num_days=45):\n",
      "\n",
      "    \"\"\"returns string representation of date in yyyy-mm-dd format by offsetting current date\n",
      "\n",
      "    \"\"\"\n",
      "\n",
      "def datetime_fucs(date_time=None, timezone='UTC', truncate_to=None, output_option=None):\n",
      "\n",
      "    \"\"\"Reference code for working with datetime objects. Returns timestamp, adds/translates timezone to datetime, formats datetime and converts datetime to UNIX timestamp and int/float to datetime\n",
      "\n",
      "    \"\"\"\n",
      "\n",
      "\n",
      "\n",
      "\n"
     ]
    }
   ],
   "source": [
    "from pyplatform import udf, database, datalake, compute\n",
    "pyp.show_me(udf,docstring=True)"
   ]
  },
  {
   "cell_type": "code",
   "execution_count": null,
   "metadata": {},
   "outputs": [],
   "source": [
    "pyp.show_me('/Users/muhammad.hadi@mckesson.com/Documents/pivotal_dev/pyplatform/pyplatform/compute.py')"
   ]
  },
  {
   "cell_type": "code",
   "execution_count": null,
   "metadata": {},
   "outputs": [],
   "source": [
    "from types import ModuleType\n",
    "\n",
    "isinstance(pyp, ModuleType)\n",
    "import os\n",
    "path = os.path.abspath(pyp.__file__)\n",
    "print(path)\n",
    "module_dir  = os.path.dirname(path)\n",
    "print(module_dir)"
   ]
  },
  {
   "cell_type": "code",
   "execution_count": null,
   "metadata": {},
   "outputs": [],
   "source": [
    "module_pattern = re.compile(r'^([a-z]*.py)')\n",
    "[m for m in os.listdir(module_dir) if re.search(module_pattern,m)]"
   ]
  },
  {
   "cell_type": "code",
   "execution_count": null,
   "metadata": {},
   "outputs": [],
   "source": [
    "import re"
   ]
  },
  {
   "cell_type": "code",
   "execution_count": null,
   "metadata": {},
   "outputs": [],
   "source": [
    "from types import"
   ]
  },
  {
   "cell_type": "code",
   "execution_count": null,
   "metadata": {},
   "outputs": [],
   "source": [
    "print(\"***\",\"===\"*5,'      ','main.py','       ',\"===\"*5,\"***\")"
   ]
  },
  {
   "cell_type": "code",
   "execution_count": 12,
   "metadata": {},
   "outputs": [],
   "source": [
    "def reportingMonthEnd(reportingMonth=None):\n",
    "    \"\"\"Return reportingMonth end date as datetime.date o\n",
    "    use this function to create date from reporting month for bigquery table partitioning by date column\n",
    "\n",
    "    Arguments:\n",
    "        reportingMonth {str} -- in yyyymm format (default: current month)\n",
    "\n",
    "    Returns:\n",
    "        datetime -- last day of reportingMonth\n",
    "\n",
    "    \"\"\"\n",
    "    from calendar import monthrange  #infrequent import\n",
    "    \n",
    "    if not reportingMonth:\n",
    "        reportingMonth = datetime.datetime.now().strftime(\"%Y%m\")\n",
    "\n",
    "    date = datetime.datetime.strptime(reportingMonth, \"%Y%m\").date()\n",
    "    date_str = date.strftime(\n",
    "        \"%Y-%m-\")+str(monthrange(date.year, date.month)[1])\n",
    "    monthEndDate = datetime.datetime.strptime(date_str, \"%Y-%m-%d\").date()\n",
    "    return monthEndDate"
   ]
  },
  {
   "cell_type": "code",
   "execution_count": 14,
   "metadata": {},
   "outputs": [
    {
     "data": {
      "text/plain": [
       "datetime.date(2020, 5, 31)"
      ]
     },
     "execution_count": 14,
     "metadata": {},
     "output_type": "execute_result"
    }
   ],
   "source": [
    "import datetime\n",
    "reportingMonthEnd()"
   ]
  },
  {
   "cell_type": "code",
   "execution_count": 16,
   "metadata": {},
   "outputs": [],
   "source": [
    "reportingMonth = datetime.datetime.now().strftime(\"%Y%m\")\n",
    "from calendar import monthrange\n",
    "\n",
    "date = datetime.datetime.strptime(reportingMonth, \"%Y%m\").date()\n",
    "date_str = date.strftime(\"%Y-%m-\")+str(monthrange(date.year, date.month)[1])\n",
    "monthEndDate = datetime.datetime.strptime(date_str, \"%Y-%m-%d\").date()"
   ]
  },
  {
   "cell_type": "code",
   "execution_count": 25,
   "metadata": {},
   "outputs": [
    {
     "data": {
      "text/plain": [
       "'202005'"
      ]
     },
     "execution_count": 25,
     "metadata": {},
     "output_type": "execute_result"
    }
   ],
   "source": [
    "reportingMonth"
   ]
  },
  {
   "cell_type": "code",
   "execution_count": 19,
   "metadata": {},
   "outputs": [
    {
     "data": {
      "text/plain": [
       "datetime.date(2020, 5, 1)"
      ]
     },
     "execution_count": 19,
     "metadata": {},
     "output_type": "execute_result"
    }
   ],
   "source": [
    "datetime.datetime.strptime(reportingMonth, \"%Y%m\").date()"
   ]
  },
  {
   "cell_type": "code",
   "execution_count": 20,
   "metadata": {},
   "outputs": [
    {
     "data": {
      "text/plain": [
       "'31'"
      ]
     },
     "execution_count": 20,
     "metadata": {},
     "output_type": "execute_result"
    }
   ],
   "source": [
    "str(monthrange(date.year, date.month)[1])"
   ]
  },
  {
   "cell_type": "code",
   "execution_count": 21,
   "metadata": {},
   "outputs": [],
   "source": [
    "import calendar"
   ]
  },
  {
   "cell_type": "code",
   "execution_count": 22,
   "metadata": {},
   "outputs": [
    {
     "data": {
      "text/plain": [
       "'2020-05-31'"
      ]
     },
     "execution_count": 22,
     "metadata": {},
     "output_type": "execute_result"
    }
   ],
   "source": [
    "date.strftime(\"%Y-%m-\")+str(monthrange(date.year, date.month)[1])"
   ]
  },
  {
   "cell_type": "code",
   "execution_count": 29,
   "metadata": {},
   "outputs": [
    {
     "data": {
      "text/plain": [
       "datetime.datetime(2020, 5, 31, 0, 0)"
      ]
     },
     "execution_count": 29,
     "metadata": {},
     "output_type": "execute_result"
    }
   ],
   "source": [
    "datetime.datetime.strptime(f\"{reportingMonth}{monthrange(date.year, date.month)[1]}\", \"%Y%m%d\").date()"
   ]
  },
  {
   "cell_type": "code",
   "execution_count": 34,
   "metadata": {},
   "outputs": [],
   "source": [
    "def reportingMonthEnd(reportingMonth=None):\n",
    "    \"\"\"Return reportingMonth end date as datetime.date object.\n",
    "    \n",
    "    Arguments:\n",
    "        reportingMonth {str} -- in yyyymm format (default: current month)\n",
    "\n",
    "    Returns:\n",
    "        {datetime.date} -- last day of reportingMonth\n",
    "\n",
    "    \"\"\"\n",
    "    from calendar import monthrange  #infrequent import\n",
    "    \n",
    "    if not reportingMonth:\n",
    "        reportingMonth = datetime.datetime.now().strftime(\"%Y%m\")\n",
    "    date = datetime.datetime.strptime(reportingMonth, \"%Y%m\")\n",
    "    return datetime.datetime.strptime(f\"{reportingMonth}{monthrange(date.year, date.month)[1]}\", \"%Y%m%d\").date()"
   ]
  },
  {
   "cell_type": "code",
   "execution_count": 38,
   "metadata": {},
   "outputs": [
    {
     "data": {
      "text/plain": [
       "datetime.date(2019, 2, 28)"
      ]
     },
     "execution_count": 38,
     "metadata": {},
     "output_type": "execute_result"
    }
   ],
   "source": [
    "reportingMonthEnd('201902')"
   ]
  },
  {
   "cell_type": "code",
   "execution_count": null,
   "metadata": {},
   "outputs": [],
   "source": [
    "datetime.datetime.strptime(f\"{reportingMonth}{monthrange(date.year, date.month)[1]}\", \"%Y%m%d\").date()"
   ]
  },
  {
   "cell_type": "code",
   "execution_count": null,
   "metadata": {},
   "outputs": [],
   "source": []
  }
 ],
 "metadata": {
  "kernelspec": {
   "display_name": "Python [conda env:pd_latest] *",
   "language": "python",
   "name": "conda-env-pd_latest-py"
  },
  "language_info": {
   "codemirror_mode": {
    "name": "ipython",
    "version": 3
   },
   "file_extension": ".py",
   "mimetype": "text/x-python",
   "name": "python",
   "nbconvert_exporter": "python",
   "pygments_lexer": "ipython3",
   "version": "3.7.6"
  }
 },
 "nbformat": 4,
 "nbformat_minor": 4
}
