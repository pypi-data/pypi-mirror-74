{
 "cells": [
  {
   "cell_type": "markdown",
   "metadata": {},
   "source": [
    "# Additional Packages\n",
    "\n",
    "`esmtools` is a kitchen sink for various `xarray` wrappers related to Earth System Model analysis. It serves to fill in the gaps between specialized packages, but does not intend to reinvent the wheel. Here is a list of helpful `xarray`-based packages that I have found useful in my analyses:\n",
    "\n",
    "* [climpred](https://climpred.readthedocs.io/en/latest/) : Analysis of initialized Earth System Model forecasts.\n",
    "* [eofs](https://github.com/ajdawson/eofs) : Compute empirical orthogonal functions (EOFs) for `xarray` objects.\n",
    "* [regionmask](https://regionmask.readthedocs.io/en/stable/) : Helps with creating regional masks in `xarray` objects.\n",
    "* [xESMF](https://xesmf.readthedocs.io/en/latest/) : Regrid `xarray` output using the ESMF engine.\n",
    "* [xrft](https://xrft.readthedocs.io/en/latest/) : Fourier transforms for `xarray`.\n",
    "* [xskillscore](https://github.com/raybellwaves/xskillscore/) : Various skill score and bias metrics for `xarray`."
   ]
  }
 ],
 "metadata": {
  "kernelspec": {
   "display_name": "Python 3",
   "language": "python",
   "name": "python3"
  },
  "language_info": {
   "codemirror_mode": {
    "name": "ipython",
    "version": 3
   },
   "file_extension": ".py",
   "mimetype": "text/x-python",
   "name": "python",
   "nbconvert_exporter": "python",
   "pygments_lexer": "ipython3",
   "version": "3.7.2"
  },
  "toc": {
   "base_numbering": 1,
   "nav_menu": {},
   "number_sections": true,
   "sideBar": true,
   "skip_h1_title": false,
   "title_cell": "Table of Contents",
   "title_sidebar": "Contents",
   "toc_cell": false,
   "toc_position": {},
   "toc_section_display": true,
   "toc_window_display": false
  },
  "varInspector": {
   "cols": {
    "lenName": 16,
    "lenType": 16,
    "lenVar": 40
   },
   "kernels_config": {
    "python": {
     "delete_cmd_postfix": "",
     "delete_cmd_prefix": "del ",
     "library": "var_list.py",
     "varRefreshCmd": "print(var_dic_list())"
    },
    "r": {
     "delete_cmd_postfix": ") ",
     "delete_cmd_prefix": "rm(",
     "library": "var_list.r",
     "varRefreshCmd": "cat(var_dic_list()) "
    }
   },
   "types_to_exclude": [
    "module",
    "function",
    "builtin_function_or_method",
    "instance",
    "_Feature"
   ],
   "window_display": false
  }
 },
 "nbformat": 4,
 "nbformat_minor": 2
}
