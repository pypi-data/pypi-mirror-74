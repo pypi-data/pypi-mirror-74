{
 "cells": [
  {
   "cell_type": "markdown",
   "metadata": {},
   "source": [
    "# First steps using mokapot in Python\n",
    "\n",
    "In this vignette, we'll look at the basics of how to use mokapot as a Python package. We've performed these analyses within a [Jupyter notebook](https://jupyter.org/), which is available using the link at the top of the page.\n",
    "\n",
    "## Following along locally\n",
    "\n",
    "To run this notebook, you'll need to have [mokapot](https://mokapot.readthedocs.io/en/latest/#installation) installed. Additionally, you'll need to have a file in the [Percolator tab-delimited format](https://github.com/percolator/percolator/wiki/Interface#tab-delimited-file-format) on hand. The example we'll be using comes from running [Tide-search](http://crux.ms/tide-search) on a single phosphoproteomics experiment from: \n",
    "\n",
    "> Hogrebe, Alexander et al. “Benchmarking common quantification strategies for large-scale phosphoproteomics.” Nature communications vol. 9,1 1045. 13 Mar. 2018, doi:10.1038/s41467-018-03309-6\n",
    "\n",
    "If you need it, you can download it from the mokapot repository here ([phospho_rep1.pin](https://raw.githubusercontent.com/wfondrie/mokapot/master/data/phospho_rep1.pin)) and set the path to your input file:"
   ]
  },
  {
   "cell_type": "code",
   "execution_count": 1,
   "metadata": {},
   "outputs": [],
   "source": [
    "pin_file = \"../../../data/phospho_rep1.pin\""
   ]
  },
  {
   "cell_type": "markdown",
   "metadata": {},
   "source": [
    "## Step 1: Setup our Python environment\n",
    "\n",
    "Before we can perform an anlyses we need to import the Python packages that we'll be using. Additionally, it's a good idea to set the random seed for reproducibility."
   ]
  },
  {
   "cell_type": "code",
   "execution_count": 2,
   "metadata": {},
   "outputs": [],
   "source": [
    "import os\n",
    "import mokapot\n",
    "import numpy as np\n",
    "import pandas as pd\n",
    "import matplotlib.pyplot as plt\n",
    "\n",
    "# Set the random seed:\n",
    "np.random.seed(42)\n",
    "\n",
    "# Create an output directory\n",
    "out_dir = \"basic_python_api_output\"\n",
    "os.makedirs(out_dir, exist_ok=True)"
   ]
  },
  {
   "cell_type": "markdown",
   "metadata": {},
   "source": [
    "If we want messages about the mokapot's progress throughout the analysis, then we need to enable it using the `logging` module: "
   ]
  },
  {
   "cell_type": "code",
   "execution_count": 3,
   "metadata": {},
   "outputs": [],
   "source": [
    "import logging\n",
    "\n",
    "# Change to True enable messages and nicely format them:\n",
    "log = False\n",
    "if log:\n",
    "    logging.basicConfig(format=(\"[{levelname}] {message}\"), \n",
    "                        style=\"{\", level=logging.INFO)"
   ]
  },
  {
   "cell_type": "markdown",
   "metadata": {},
   "source": [
    "## Step 2: Read the PSM\n",
    "\n",
    "We'll now use mokapot to read the PSMs from the provided input file. The [read_pin()](https://mokapot.readthedocs.io/en/latest/api/functions.html#mokapot.read_pin) function returns [LinearPsmDataset](https://mokapot.readthedocs.io/en/latest/api/dataset.html#mokapot.dataset.LinearPsmDataset) object, which stores the PSMs and their associated features for analysis."
   ]
  },
  {
   "cell_type": "code",
   "execution_count": 4,
   "metadata": {},
   "outputs": [],
   "source": [
    "psms = mokapot.read_pin(pin_file)"
   ]
  },
  {
   "cell_type": "markdown",
   "metadata": {},
   "source": [
    "## Step 3: Analyze the PSMs\n",
    "\n",
    "After that the PSMs have been loaded, we can use the [brew()](https://mokapot.readthedocs.io/en/latest/api/functions.html#mokapot.brew) function to run the analysis and re-score the PSMs. This returns a [LinearConfidence](https://mokapot.readthedocs.io/en/latest/api/confidence.html#mokapot.confidence.LinearConfidence) object, which calculates confidences estimates and stores them."
   ]
  },
  {
   "cell_type": "code",
   "execution_count": 5,
   "metadata": {},
   "outputs": [
    {
     "data": {
      "text/html": [
       "<div>\n",
       "<style scoped>\n",
       "    .dataframe tbody tr th:only-of-type {\n",
       "        vertical-align: middle;\n",
       "    }\n",
       "\n",
       "    .dataframe tbody tr th {\n",
       "        vertical-align: top;\n",
       "    }\n",
       "\n",
       "    .dataframe thead th {\n",
       "        text-align: right;\n",
       "    }\n",
       "</style>\n",
       "<table border=\"1\" class=\"dataframe\">\n",
       "  <thead>\n",
       "    <tr style=\"text-align: right;\">\n",
       "      <th></th>\n",
       "      <th>SpecId</th>\n",
       "      <th>Label</th>\n",
       "      <th>ScanNr</th>\n",
       "      <th>ExpMass</th>\n",
       "      <th>CalcMass</th>\n",
       "      <th>Peptide</th>\n",
       "      <th>Proteins</th>\n",
       "      <th>mokapot score</th>\n",
       "      <th>mokapot q-value</th>\n",
       "      <th>mokapot PEP</th>\n",
       "    </tr>\n",
       "  </thead>\n",
       "  <tbody>\n",
       "    <tr>\n",
       "      <th>0</th>\n",
       "      <td>target_0_41715_3_-1</td>\n",
       "      <td>True</td>\n",
       "      <td>41715</td>\n",
       "      <td>4473.8359</td>\n",
       "      <td>4473.8286</td>\n",
       "      <td>K.ALGKYGPADVEDTTGSGATDSKDDDDIDLFGS[79.97]DDEEE...</td>\n",
       "      <td>sp|P24534|EF1B_HUMAN</td>\n",
       "      <td>10.483582</td>\n",
       "      <td>0.000043</td>\n",
       "      <td>6.305117e-16</td>\n",
       "    </tr>\n",
       "    <tr>\n",
       "      <th>1</th>\n",
       "      <td>target_0_52110_3_-1</td>\n",
       "      <td>True</td>\n",
       "      <td>52110</td>\n",
       "      <td>3311.5344</td>\n",
       "      <td>3311.5339</td>\n",
       "      <td>K.EAESCDCLQGFQLTHSLGGGTGSGMGTLLLSK.I</td>\n",
       "      <td>sp|Q3ZCM7|TBB8_HUMAN</td>\n",
       "      <td>10.178129</td>\n",
       "      <td>0.000043</td>\n",
       "      <td>6.305117e-16</td>\n",
       "    </tr>\n",
       "    <tr>\n",
       "      <th>2</th>\n",
       "      <td>target_0_40746_5_-1</td>\n",
       "      <td>True</td>\n",
       "      <td>40746</td>\n",
       "      <td>5586.4609</td>\n",
       "      <td>5586.4536</td>\n",
       "      <td>K.KLVHNALANLDGHPEDKPTHIIFGS[79.97]DS[79.97]ECE...</td>\n",
       "      <td>sp|Q76FK4|NOL8_HUMAN</td>\n",
       "      <td>10.050148</td>\n",
       "      <td>0.000043</td>\n",
       "      <td>6.305117e-16</td>\n",
       "    </tr>\n",
       "    <tr>\n",
       "      <th>3</th>\n",
       "      <td>target_0_45519_3_-1</td>\n",
       "      <td>True</td>\n",
       "      <td>45519</td>\n",
       "      <td>3678.6735</td>\n",
       "      <td>3678.6667</td>\n",
       "      <td>K.RSTAPSAAASASASAAASS[79.97]PAGGGAEALELLEHCGVCR.E</td>\n",
       "      <td>sp|Q13263|TIF1B_HUMAN</td>\n",
       "      <td>9.633595</td>\n",
       "      <td>0.000043</td>\n",
       "      <td>6.305117e-16</td>\n",
       "    </tr>\n",
       "    <tr>\n",
       "      <th>4</th>\n",
       "      <td>target_0_34845_3_-1</td>\n",
       "      <td>True</td>\n",
       "      <td>34845</td>\n",
       "      <td>3606.6318</td>\n",
       "      <td>3606.6301</td>\n",
       "      <td>K.KLPPPPPQAPPEEENES[79.97]EPEEPSGVEGAAFQSR.L</td>\n",
       "      <td>sp|O60341|KDM1A_HUMAN</td>\n",
       "      <td>9.450639</td>\n",
       "      <td>0.000043</td>\n",
       "      <td>6.305117e-16</td>\n",
       "    </tr>\n",
       "  </tbody>\n",
       "</table>\n",
       "</div>"
      ],
      "text/plain": [
       "                SpecId  Label  ScanNr    ExpMass   CalcMass  \\\n",
       "0  target_0_41715_3_-1   True   41715  4473.8359  4473.8286   \n",
       "1  target_0_52110_3_-1   True   52110  3311.5344  3311.5339   \n",
       "2  target_0_40746_5_-1   True   40746  5586.4609  5586.4536   \n",
       "3  target_0_45519_3_-1   True   45519  3678.6735  3678.6667   \n",
       "4  target_0_34845_3_-1   True   34845  3606.6318  3606.6301   \n",
       "\n",
       "                                             Peptide               Proteins  \\\n",
       "0  K.ALGKYGPADVEDTTGSGATDSKDDDDIDLFGS[79.97]DDEEE...   sp|P24534|EF1B_HUMAN   \n",
       "1               K.EAESCDCLQGFQLTHSLGGGTGSGMGTLLLSK.I   sp|Q3ZCM7|TBB8_HUMAN   \n",
       "2  K.KLVHNALANLDGHPEDKPTHIIFGS[79.97]DS[79.97]ECE...   sp|Q76FK4|NOL8_HUMAN   \n",
       "3  K.RSTAPSAAASASASAAASS[79.97]PAGGGAEALELLEHCGVCR.E  sp|Q13263|TIF1B_HUMAN   \n",
       "4       K.KLPPPPPQAPPEEENES[79.97]EPEEPSGVEGAAFQSR.L  sp|O60341|KDM1A_HUMAN   \n",
       "\n",
       "   mokapot score  mokapot q-value   mokapot PEP  \n",
       "0      10.483582         0.000043  6.305117e-16  \n",
       "1      10.178129         0.000043  6.305117e-16  \n",
       "2      10.050148         0.000043  6.305117e-16  \n",
       "3       9.633595         0.000043  6.305117e-16  \n",
       "4       9.450639         0.000043  6.305117e-16  "
      ]
     },
     "execution_count": 5,
     "metadata": {},
     "output_type": "execute_result"
    }
   ],
   "source": [
    "moka_conf = mokapot.brew(psms)\n",
    "moka_conf.psms.head()"
   ]
  },
  {
   "cell_type": "code",
   "execution_count": 6,
   "metadata": {},
   "outputs": [
    {
     "data": {
      "text/html": [
       "<div>\n",
       "<style scoped>\n",
       "    .dataframe tbody tr th:only-of-type {\n",
       "        vertical-align: middle;\n",
       "    }\n",
       "\n",
       "    .dataframe tbody tr th {\n",
       "        vertical-align: top;\n",
       "    }\n",
       "\n",
       "    .dataframe thead th {\n",
       "        text-align: right;\n",
       "    }\n",
       "</style>\n",
       "<table border=\"1\" class=\"dataframe\">\n",
       "  <thead>\n",
       "    <tr style=\"text-align: right;\">\n",
       "      <th></th>\n",
       "      <th>SpecId</th>\n",
       "      <th>Label</th>\n",
       "      <th>ScanNr</th>\n",
       "      <th>ExpMass</th>\n",
       "      <th>CalcMass</th>\n",
       "      <th>Peptide</th>\n",
       "      <th>Proteins</th>\n",
       "      <th>mokapot score</th>\n",
       "      <th>mokapot q-value</th>\n",
       "      <th>mokapot PEP</th>\n",
       "    </tr>\n",
       "  </thead>\n",
       "  <tbody>\n",
       "    <tr>\n",
       "      <th>0</th>\n",
       "      <td>target_0_41715_3_-1</td>\n",
       "      <td>True</td>\n",
       "      <td>41715</td>\n",
       "      <td>4473.8359</td>\n",
       "      <td>4473.8286</td>\n",
       "      <td>K.ALGKYGPADVEDTTGSGATDSKDDDDIDLFGS[79.97]DDEEE...</td>\n",
       "      <td>sp|P24534|EF1B_HUMAN</td>\n",
       "      <td>10.483582</td>\n",
       "      <td>0.00006</td>\n",
       "      <td>6.305117e-16</td>\n",
       "    </tr>\n",
       "    <tr>\n",
       "      <th>1</th>\n",
       "      <td>target_0_52110_3_-1</td>\n",
       "      <td>True</td>\n",
       "      <td>52110</td>\n",
       "      <td>3311.5344</td>\n",
       "      <td>3311.5339</td>\n",
       "      <td>K.EAESCDCLQGFQLTHSLGGGTGSGMGTLLLSK.I</td>\n",
       "      <td>sp|Q3ZCM7|TBB8_HUMAN</td>\n",
       "      <td>10.178129</td>\n",
       "      <td>0.00006</td>\n",
       "      <td>6.305117e-16</td>\n",
       "    </tr>\n",
       "    <tr>\n",
       "      <th>2</th>\n",
       "      <td>target_0_40746_5_-1</td>\n",
       "      <td>True</td>\n",
       "      <td>40746</td>\n",
       "      <td>5586.4609</td>\n",
       "      <td>5586.4536</td>\n",
       "      <td>K.KLVHNALANLDGHPEDKPTHIIFGS[79.97]DS[79.97]ECE...</td>\n",
       "      <td>sp|Q76FK4|NOL8_HUMAN</td>\n",
       "      <td>10.050148</td>\n",
       "      <td>0.00006</td>\n",
       "      <td>6.305117e-16</td>\n",
       "    </tr>\n",
       "    <tr>\n",
       "      <th>3</th>\n",
       "      <td>target_0_45519_3_-1</td>\n",
       "      <td>True</td>\n",
       "      <td>45519</td>\n",
       "      <td>3678.6735</td>\n",
       "      <td>3678.6667</td>\n",
       "      <td>K.RSTAPSAAASASASAAASS[79.97]PAGGGAEALELLEHCGVCR.E</td>\n",
       "      <td>sp|Q13263|TIF1B_HUMAN</td>\n",
       "      <td>9.633595</td>\n",
       "      <td>0.00006</td>\n",
       "      <td>6.305117e-16</td>\n",
       "    </tr>\n",
       "    <tr>\n",
       "      <th>4</th>\n",
       "      <td>target_0_34845_3_-1</td>\n",
       "      <td>True</td>\n",
       "      <td>34845</td>\n",
       "      <td>3606.6318</td>\n",
       "      <td>3606.6301</td>\n",
       "      <td>K.KLPPPPPQAPPEEENES[79.97]EPEEPSGVEGAAFQSR.L</td>\n",
       "      <td>sp|O60341|KDM1A_HUMAN</td>\n",
       "      <td>9.450639</td>\n",
       "      <td>0.00006</td>\n",
       "      <td>6.305117e-16</td>\n",
       "    </tr>\n",
       "  </tbody>\n",
       "</table>\n",
       "</div>"
      ],
      "text/plain": [
       "                SpecId  Label  ScanNr    ExpMass   CalcMass  \\\n",
       "0  target_0_41715_3_-1   True   41715  4473.8359  4473.8286   \n",
       "1  target_0_52110_3_-1   True   52110  3311.5344  3311.5339   \n",
       "2  target_0_40746_5_-1   True   40746  5586.4609  5586.4536   \n",
       "3  target_0_45519_3_-1   True   45519  3678.6735  3678.6667   \n",
       "4  target_0_34845_3_-1   True   34845  3606.6318  3606.6301   \n",
       "\n",
       "                                             Peptide               Proteins  \\\n",
       "0  K.ALGKYGPADVEDTTGSGATDSKDDDDIDLFGS[79.97]DDEEE...   sp|P24534|EF1B_HUMAN   \n",
       "1               K.EAESCDCLQGFQLTHSLGGGTGSGMGTLLLSK.I   sp|Q3ZCM7|TBB8_HUMAN   \n",
       "2  K.KLVHNALANLDGHPEDKPTHIIFGS[79.97]DS[79.97]ECE...   sp|Q76FK4|NOL8_HUMAN   \n",
       "3  K.RSTAPSAAASASASAAASS[79.97]PAGGGAEALELLEHCGVCR.E  sp|Q13263|TIF1B_HUMAN   \n",
       "4       K.KLPPPPPQAPPEEENES[79.97]EPEEPSGVEGAAFQSR.L  sp|O60341|KDM1A_HUMAN   \n",
       "\n",
       "   mokapot score  mokapot q-value   mokapot PEP  \n",
       "0      10.483582          0.00006  6.305117e-16  \n",
       "1      10.178129          0.00006  6.305117e-16  \n",
       "2      10.050148          0.00006  6.305117e-16  \n",
       "3       9.633595          0.00006  6.305117e-16  \n",
       "4       9.450639          0.00006  6.305117e-16  "
      ]
     },
     "execution_count": 6,
     "metadata": {},
     "output_type": "execute_result"
    }
   ],
   "source": [
    "moka_conf.peptides.head()"
   ]
  },
  {
   "cell_type": "markdown",
   "metadata": {},
   "source": [
    "We can also use mokapot assign confidence estimates based on the best original feature---the Tide combined p-value in this case---instead of using the learned scores:"
   ]
  },
  {
   "cell_type": "code",
   "execution_count": 7,
   "metadata": {},
   "outputs": [],
   "source": [
    "tide_conf = psms.assign_confidence()"
   ]
  },
  {
   "cell_type": "markdown",
   "metadata": {},
   "source": [
    "## Step 4: Plot and save the results\n",
    "\n",
    "We've included some simple plotting utilities to help assess mokapot's perfomance. Let's see if the mokapot model improves upon the best feature, which is Tide's combined p-value: "
   ]
  },
  {
   "cell_type": "code",
   "execution_count": 8,
   "metadata": {},
   "outputs": [
    {
     "data": {
      "image/png": "[encoded data removed]",
      "text/plain": [
       "<Figure size 720x288 with 2 Axes>"
      ]
     },
     "metadata": {
      "needs_background": "light"
     },
     "output_type": "display_data"
    }
   ],
   "source": [
    "fig, axs = plt.subplots(1, 2, figsize=(10, 4))\n",
    "colors = (\"#343131\", \"#24B8A0\")\n",
    "\n",
    "# Plot PSMs\n",
    "tide_conf.plot_qvalues(level=\"psms\", c=colors[0], ax=axs[0],\n",
    "                       label=\"Tide combined p-value\")\n",
    "moka_conf.plot_qvalues(level=\"psms\", c=colors[1], ax=axs[0],\n",
    "                       label=\"mokapot\")\n",
    "\n",
    "# Plot peptides\n",
    "tide_conf.plot_qvalues(level=\"peptides\", c=colors[0], ax=axs[1],\n",
    "                       label=\"Tide combined p-value\")\n",
    "moka_conf.plot_qvalues(level=\"peptides\", c=colors[1], ax=axs[1],\n",
    "                       label=\"mokapot\")\n",
    "\n",
    "# Add the legend\n",
    "for ax in axs:\n",
    "    ax.legend(frameon=False)\n",
    "\n",
    "plt.tight_layout()\n",
    "plt.show()"
   ]
  },
  {
   "cell_type": "markdown",
   "metadata": {},
   "source": [
    "Excellent. It looks like mokapot increased our power to detect a few hundred more PSMs and peptides at 1% FDR. We figure out the exact improvement by looking at the data:"
   ]
  },
  {
   "cell_type": "code",
   "execution_count": 9,
   "metadata": {},
   "outputs": [
    {
     "name": "stdout",
     "output_type": "stream",
     "text": [
      "PSMs gained by mokapot: 1204\n",
      "Peptides gained by mokapot: 958\n"
     ]
    }
   ],
   "source": [
    "# PSMs\n",
    "moka_psms = (moka_conf.psms[\"mokapot q-value\"] <= 0.01).sum()\n",
    "tide_psms = (tide_conf.psms[\"mokapot q-value\"] <= 0.01).sum()\n",
    "print(f\"PSMs gained by mokapot: {moka_psms - tide_psms}\")\n",
    "\n",
    "# Peptides\n",
    "moka_peps = (moka_conf.peptides[\"mokapot q-value\"] <= 0.01).sum()\n",
    "tide_peps = (tide_conf.peptides[\"mokapot q-value\"] <= 0.01).sum()\n",
    "print(f\"Peptides gained by mokapot: {moka_peps - tide_peps}\")"
   ]
  },
  {
   "cell_type": "markdown",
   "metadata": {},
   "source": [
    "Finally, we will save the results as tab-delimited text files:"
   ]
  },
  {
   "cell_type": "code",
   "execution_count": 10,
   "metadata": {},
   "outputs": [
    {
     "data": {
      "text/plain": [
       "['basic_python_api_output/mokapot.psms.txt',\n",
       " 'basic_python_api_output/mokapot.peptides.txt']"
      ]
     },
     "execution_count": 10,
     "metadata": {},
     "output_type": "execute_result"
    }
   ],
   "source": [
    "result_files = moka_conf.to_txt(dest_dir=out_dir)\n",
    "result_files"
   ]
  },
  {
   "cell_type": "markdown",
   "metadata": {},
   "source": [
    "## Wrapping up\n",
    "\n",
    "This vignette demonstrated the basic usage of mokapot's Python API. For more detail about any of the mokapot functions and classes that we used, see the [mokapot Python API documentation](https://mokapot.readthedocs.io/en/latest/api/index.html). Finally, check out the other vignettes for examples of advanced usage of mokapot's Python API."
   ]
  }
 ],
 "metadata": {
  "kernelspec": {
   "display_name": "Python 3",
   "language": "python",
   "name": "python3"
  },
  "language_info": {
   "codemirror_mode": {
    "name": "ipython",
    "version": 3
   },
   "file_extension": ".py",
   "mimetype": "text/x-python",
   "name": "python",
   "nbconvert_exporter": "python",
   "pygments_lexer": "ipython3",
   "version": "3.7.7"
  }
 },
 "nbformat": 4,
 "nbformat_minor": 4
}
