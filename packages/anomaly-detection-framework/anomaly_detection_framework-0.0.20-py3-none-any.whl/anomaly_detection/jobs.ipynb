{
 "cells": [
  {
   "cell_type": "code",
   "execution_count": 1,
   "metadata": {},
   "outputs": [
    {
     "data": {
      "text/html": [
       "<style>.container { width:90% !important; }</style>"
      ],
      "text/plain": [
       "<IPython.core.display.HTML object>"
      ]
     },
     "metadata": {},
     "output_type": "display_data"
    },
    {
     "name": "stdout",
     "output_type": "stream",
     "text": [
      "***** RUNNING ON : local *****\n"
     ]
    }
   ],
   "source": [
    "from IPython.display import display, HTML\n",
    "display(HTML('<style>.container { width:90% !important; }</style>'))  # makes it wider\n",
    "\n",
    "import requests\n",
    "import schedule\n",
    "import time\n",
    "import traceback\n",
    "import yaml\n",
    "import sys\n",
    "import platform\n",
    "\n",
    "from configs import directory\n",
    "from logger import Logger\n",
    "from utils import *\n",
    "from create_api import CreateApi \n",
    "from os.path import join, dirname\n"
   ]
  },
  {
   "cell_type": "code",
   "execution_count": 128,
   "metadata": {},
   "outputs": [],
   "source": [
    "def api_executor(api_info):\n",
    "    import os\n",
    "    _file_path = join(os.path.abspath(\"\"), 'ml_executor.py')  # join(dirname(__file__), api_info['py_file'])\n",
    "    _py = callfunc(_file_path)\n",
    "    print(_py)\n",
    "    _func = [o[1] for o in getmembers(_py) if o[0] == api_info['function']][0]\n",
    "    print(_file_path, _py,  _func)\n",
    "    api = CreateApi(host=api_info['host'],\n",
    "                    port=api_info['port'],\n",
    "                    function=_func,\n",
    "                    api_name=api_info['api_name'],\n",
    "                    parameters=list(getargspec(_func)[0]))\n",
    "    api.init_api()"
   ]
  },
  {
   "cell_type": "code",
   "execution_count": 129,
   "metadata": {},
   "outputs": [],
   "source": [
    "def get_api_url(host, port, api_name):\n",
    "    host = '0.0.0.0' if host is None else host\n",
    "    return \"http://\" + host + \":\" + str(port) + \"/\" + api_name"
   ]
  },
  {
   "cell_type": "code",
   "execution_count": 134,
   "metadata": {},
   "outputs": [],
   "source": [
    "class CreateJobs:\n",
    "    def __init__(self, jobs, job_name):\n",
    "        self.job_name = job_name\n",
    "        self.jobs_yaml = jobs\n",
    "        self.job = self.jobs_yaml[job_name]\n",
    "        self.api_info = list(filter(lambda x: x['api_name'] == self.job['api'], read_yaml(directory + 'apis.yaml')))[0]\n",
    "        self.url = get_api_url(host=self.api_info['host'],\n",
    "                               port=self.api_info['port'],\n",
    "                               api_name=self.api_info['api_name'])\n",
    "        self.time = str(self.job['time'])\n",
    "        self.schedule = None\n",
    "\n",
    "    def jobs(self):\n",
    "        for j in self.job['execute']:\n",
    "            try:\n",
    "                requests.get(url=self.url, params=j['params'])\n",
    "            except Exception as e:\n",
    "                print(e)\n",
    "                api_executor(self.api_info)\n",
    "                requests.get(url=self.url, params=j['params'])\n",
    "\n",
    "    def stop_job(self):\n",
    "        if bool(self.jobs_yaml[self.job_name]['active']):  # if there is active job update ml_execute.yaml\n",
    "            self.jobs_yaml[self.job_name]['active'] = False\n",
    "            with open(directory + \"ml_execute.yaml\", 'w') as file:\n",
    "                yaml.dump(self.jobs_yaml, file)\n",
    "            time.sleep(10)  # make sure it is stop\n",
    "\n",
    "    def job_schedule(self):\n",
    "        self.stop_job()\n",
    "        print(\"job is initialized!!!\")\n",
    "        print(platform.node())\n",
    "        print(self.time)\n",
    "        if self.job['day'] != 'min':\n",
    "            {'monday': schedule.every().monday,\n",
    "             'tuesday': schedule.every().tuesday,\n",
    "             'wednesday': schedule.every().wednesday,\n",
    "             'thursday': schedule.every().thursday,\n",
    "             'friday': schedule.every().friday,\n",
    "             'saturday': schedule.every().saturday,\n",
    "             'sunday': schedule.every().sunday,\n",
    "             'day': schedule.every().day,\n",
    "             'month': schedule.every(30).days\n",
    "             }[self.job['day']].at(self.time).do(self.jobs)\n",
    "        else:\n",
    "            schedule.every(2).minutes.do(self.jobs)"
   ]
  },
  {
   "cell_type": "code",
   "execution_count": 135,
   "metadata": {},
   "outputs": [],
   "source": [
    "j = CreateJobs(read_yaml(directory + 'ml_execute.yaml'), 'test')"
   ]
  },
  {
   "cell_type": "code",
   "execution_count": 136,
   "metadata": {},
   "outputs": [
    {
     "data": {
      "text/plain": [
       "{'port': 3537,\n",
       " 'host': 'Mac-MacBook-Air.local',\n",
       " 'api_name': 'test',\n",
       " 'py_file': 'ml_executor',\n",
       " 'function': 'test_function',\n",
       " 'params': ['param1', 'param2']}"
      ]
     },
     "execution_count": 136,
     "metadata": {},
     "output_type": "execute_result"
    }
   ],
   "source": [
    "j.api_info"
   ]
  },
  {
   "cell_type": "code",
   "execution_count": 137,
   "metadata": {
    "scrolled": true
   },
   "outputs": [],
   "source": [
    "def ml_execute(job, process):\n",
    "    Logger(job + 'schedule_')\n",
    "    print(\"Creating Jobs\")\n",
    "    j = CreateJobs(read_yaml(directory + 'ml_execute.yaml'), job)\n",
    "    if process == 'start':\n",
    "        j.job_schedule()\n",
    "        while True:\n",
    "            schedule.run_pending()\n",
    "            jobs = read_yaml(directory + 'ml_execute.yaml')\n",
    "            print(\"job is working\")\n",
    "            if not bool(jobs[job]):\n",
    "                print(\"job is stoped !!\")\n",
    "                break\n",
    "            time.sleep(5)\n",
    "    if process == 'end':\n",
    "        j.stop_job()"
   ]
  },
  {
   "cell_type": "code",
   "execution_count": 138,
   "metadata": {
    "scrolled": true
   },
   "outputs": [
    {
     "name": "stderr",
     "output_type": "stream",
     "text": [
      "INFO:schedule:Running job Every 2 minutes do jobs() (last run: [never], next run: 2020-05-08 00:40:31)\n"
     ]
    },
    {
     "name": "stdout",
     "output_type": "stream",
     "text": [
      "Creating Jobs\n",
      "job is initialized!!!\n",
      "Mac-MacBook-Air.local\n",
      "02:01\n"
     ]
    },
    {
     "name": "stderr",
     "output_type": "stream",
     "text": [
      "INFO:schedule:Running job Every 5 seconds do job() (last run: 2020-05-08 00:40:29, next run: 2020-05-08 00:40:34)\n",
      "INFO:schedule:Running job Every 5 seconds do job() (last run: 2020-05-08 00:40:29, next run: 2020-05-08 00:40:34)\n",
      "INFO:schedule:Running job Every 2 minutes do jobs() (last run: [never], next run: 2020-05-08 00:40:44)\n",
      "INFO:schedule:Running job Every 2 minutes do jobs() (last run: [never], next run: 2020-05-08 00:45:36)\n",
      "INFO:schedule:Running job Every 2 minutes do jobs() (last run: [never], next run: 2020-05-08 00:51:19)\n",
      "INFO:schedule:Running job Every 2 minutes do jobs() (last run: [never], next run: 2020-05-08 00:53:25)\n"
     ]
    },
    {
     "name": "stdout",
     "output_type": "stream",
     "text": [
      "I'm working...\n",
      "I'm working...\n"
     ]
    },
    {
     "name": "stderr",
     "output_type": "stream",
     "text": [
      "INFO:schedule:Running job Every 2 minutes do jobs() (last run: [never], next run: 2020-05-08 00:53:48)\n",
      "INFO:schedule:Running job Every 2 minutes do jobs() (last run: [never], next run: 2020-05-08 00:54:09)\n",
      "INFO:schedule:Running job Every 2 minutes do jobs() (last run: [never], next run: 2020-05-08 00:54:33)\n",
      "INFO:schedule:Running job Every 2 minutes do jobs() (last run: [never], next run: 2020-05-08 02:03:00)\n",
      "INFO:schedule:Running job Every 2 minutes do jobs() (last run: [never], next run: 2020-05-08 02:05:20)\n",
      "INFO:schedule:Running job Every 2 minutes do jobs() (last run: [never], next run: 2020-05-08 02:06:41)\n"
     ]
    },
    {
     "name": "stdout",
     "output_type": "stream",
     "text": [
      "job is working\n"
     ]
    },
    {
     "name": "stderr",
     "output_type": "stream",
     "text": [
      "INFO:schedule:Running job Every 5 seconds do job() (last run: 2020-05-08 02:09:27, next run: 2020-05-08 02:09:32)\n",
      "INFO:schedule:Running job Every 5 seconds do job() (last run: 2020-05-08 02:09:27, next run: 2020-05-08 02:09:32)\n"
     ]
    },
    {
     "name": "stdout",
     "output_type": "stream",
     "text": [
      "I'm working...\n",
      "I'm working...\n",
      "job is working\n"
     ]
    },
    {
     "name": "stderr",
     "output_type": "stream",
     "text": [
      "INFO:schedule:Running job Every 5 seconds do job() (last run: 2020-05-08 02:09:32, next run: 2020-05-08 02:09:37)\n",
      "INFO:schedule:Running job Every 5 seconds do job() (last run: 2020-05-08 02:09:32, next run: 2020-05-08 02:09:37)\n"
     ]
    },
    {
     "name": "stdout",
     "output_type": "stream",
     "text": [
      "I'm working...\n",
      "I'm working...\n",
      "job is working\n"
     ]
    },
    {
     "name": "stderr",
     "output_type": "stream",
     "text": [
      "INFO:schedule:Running job Every 5 seconds do job() (last run: 2020-05-08 02:09:37, next run: 2020-05-08 02:09:42)\n",
      "INFO:schedule:Running job Every 5 seconds do job() (last run: 2020-05-08 02:09:37, next run: 2020-05-08 02:09:42)\n"
     ]
    },
    {
     "name": "stdout",
     "output_type": "stream",
     "text": [
      "I'm working...\n",
      "I'm working...\n",
      "job is working\n"
     ]
    },
    {
     "name": "stderr",
     "output_type": "stream",
     "text": [
      "INFO:schedule:Running job Every 5 seconds do job() (last run: 2020-05-08 02:09:42, next run: 2020-05-08 02:09:47)\n",
      "INFO:schedule:Running job Every 5 seconds do job() (last run: 2020-05-08 02:09:42, next run: 2020-05-08 02:09:47)\n"
     ]
    },
    {
     "name": "stdout",
     "output_type": "stream",
     "text": [
      "I'm working...\n",
      "I'm working...\n",
      "job is working\n"
     ]
    },
    {
     "name": "stderr",
     "output_type": "stream",
     "text": [
      "INFO:schedule:Running job Every 5 seconds do job() (last run: 2020-05-08 02:09:47, next run: 2020-05-08 02:09:52)\n",
      "INFO:schedule:Running job Every 5 seconds do job() (last run: 2020-05-08 02:09:47, next run: 2020-05-08 02:09:52)\n"
     ]
    },
    {
     "name": "stdout",
     "output_type": "stream",
     "text": [
      "I'm working...\n",
      "I'm working...\n",
      "job is working\n"
     ]
    },
    {
     "name": "stderr",
     "output_type": "stream",
     "text": [
      "INFO:schedule:Running job Every 5 seconds do job() (last run: 2020-05-08 02:09:52, next run: 2020-05-08 02:09:57)\n",
      "INFO:schedule:Running job Every 5 seconds do job() (last run: 2020-05-08 02:09:52, next run: 2020-05-08 02:09:57)\n"
     ]
    },
    {
     "name": "stdout",
     "output_type": "stream",
     "text": [
      "I'm working...\n",
      "I'm working...\n",
      "job is working\n"
     ]
    },
    {
     "name": "stderr",
     "output_type": "stream",
     "text": [
      "INFO:schedule:Running job Every 5 seconds do job() (last run: 2020-05-08 02:09:58, next run: 2020-05-08 02:10:03)\n",
      "INFO:schedule:Running job Every 5 seconds do job() (last run: 2020-05-08 02:09:58, next run: 2020-05-08 02:10:03)\n"
     ]
    },
    {
     "name": "stdout",
     "output_type": "stream",
     "text": [
      "I'm working...\n",
      "I'm working...\n",
      "job is working\n"
     ]
    },
    {
     "name": "stderr",
     "output_type": "stream",
     "text": [
      "INFO:schedule:Running job Every 5 seconds do job() (last run: 2020-05-08 02:10:03, next run: 2020-05-08 02:10:08)\n",
      "INFO:schedule:Running job Every 5 seconds do job() (last run: 2020-05-08 02:10:03, next run: 2020-05-08 02:10:08)\n"
     ]
    },
    {
     "name": "stdout",
     "output_type": "stream",
     "text": [
      "I'm working...\n",
      "I'm working...\n",
      "job is working\n"
     ]
    },
    {
     "name": "stderr",
     "output_type": "stream",
     "text": [
      "INFO:schedule:Running job Every 5 seconds do job() (last run: 2020-05-08 02:10:08, next run: 2020-05-08 02:10:13)\n",
      "INFO:schedule:Running job Every 5 seconds do job() (last run: 2020-05-08 02:10:08, next run: 2020-05-08 02:10:13)\n"
     ]
    },
    {
     "name": "stdout",
     "output_type": "stream",
     "text": [
      "I'm working...\n",
      "I'm working...\n",
      "job is working\n"
     ]
    },
    {
     "name": "stderr",
     "output_type": "stream",
     "text": [
      "INFO:schedule:Running job Every 5 seconds do job() (last run: 2020-05-08 02:10:13, next run: 2020-05-08 02:10:18)\n",
      "INFO:schedule:Running job Every 5 seconds do job() (last run: 2020-05-08 02:10:13, next run: 2020-05-08 02:10:18)\n"
     ]
    },
    {
     "name": "stdout",
     "output_type": "stream",
     "text": [
      "I'm working...\n",
      "I'm working...\n",
      "job is working\n"
     ]
    },
    {
     "name": "stderr",
     "output_type": "stream",
     "text": [
      "INFO:schedule:Running job Every 5 seconds do job() (last run: 2020-05-08 02:10:18, next run: 2020-05-08 02:10:23)\n",
      "INFO:schedule:Running job Every 5 seconds do job() (last run: 2020-05-08 02:10:18, next run: 2020-05-08 02:10:23)\n"
     ]
    },
    {
     "name": "stdout",
     "output_type": "stream",
     "text": [
      "I'm working...\n",
      "I'm working...\n",
      "job is working\n"
     ]
    },
    {
     "name": "stderr",
     "output_type": "stream",
     "text": [
      "INFO:schedule:Running job Every 5 seconds do job() (last run: 2020-05-08 02:10:23, next run: 2020-05-08 02:10:28)\n",
      "INFO:schedule:Running job Every 5 seconds do job() (last run: 2020-05-08 02:10:23, next run: 2020-05-08 02:10:28)\n"
     ]
    },
    {
     "name": "stdout",
     "output_type": "stream",
     "text": [
      "I'm working...\n",
      "I'm working...\n",
      "job is working\n"
     ]
    },
    {
     "name": "stderr",
     "output_type": "stream",
     "text": [
      "INFO:schedule:Running job Every 5 seconds do job() (last run: 2020-05-08 02:10:28, next run: 2020-05-08 02:10:33)\n",
      "INFO:schedule:Running job Every 5 seconds do job() (last run: 2020-05-08 02:10:28, next run: 2020-05-08 02:10:33)\n"
     ]
    },
    {
     "name": "stdout",
     "output_type": "stream",
     "text": [
      "I'm working...\n",
      "I'm working...\n",
      "job is working\n"
     ]
    },
    {
     "name": "stderr",
     "output_type": "stream",
     "text": [
      "INFO:schedule:Running job Every 5 seconds do job() (last run: 2020-05-08 02:10:33, next run: 2020-05-08 02:10:38)\n",
      "INFO:schedule:Running job Every 5 seconds do job() (last run: 2020-05-08 02:10:33, next run: 2020-05-08 02:10:38)\n"
     ]
    },
    {
     "name": "stdout",
     "output_type": "stream",
     "text": [
      "I'm working...\n",
      "I'm working...\n",
      "job is working\n"
     ]
    },
    {
     "name": "stderr",
     "output_type": "stream",
     "text": [
      "INFO:schedule:Running job Every 5 seconds do job() (last run: 2020-05-08 02:10:38, next run: 2020-05-08 02:10:43)\n",
      "INFO:schedule:Running job Every 5 seconds do job() (last run: 2020-05-08 02:10:38, next run: 2020-05-08 02:10:43)\n"
     ]
    },
    {
     "name": "stdout",
     "output_type": "stream",
     "text": [
      "I'm working...\n",
      "I'm working...\n",
      "job is working\n"
     ]
    },
    {
     "name": "stderr",
     "output_type": "stream",
     "text": [
      "INFO:schedule:Running job Every 5 seconds do job() (last run: 2020-05-08 02:10:43, next run: 2020-05-08 02:10:48)\n",
      "INFO:schedule:Running job Every 5 seconds do job() (last run: 2020-05-08 02:10:43, next run: 2020-05-08 02:10:48)\n"
     ]
    },
    {
     "name": "stdout",
     "output_type": "stream",
     "text": [
      "I'm working...\n",
      "I'm working...\n",
      "job is working\n"
     ]
    },
    {
     "name": "stderr",
     "output_type": "stream",
     "text": [
      "INFO:schedule:Running job Every 5 seconds do job() (last run: 2020-05-08 02:10:48, next run: 2020-05-08 02:10:53)\n",
      "INFO:schedule:Running job Every 5 seconds do job() (last run: 2020-05-08 02:10:48, next run: 2020-05-08 02:10:53)\n"
     ]
    },
    {
     "name": "stdout",
     "output_type": "stream",
     "text": [
      "I'm working...\n",
      "I'm working...\n",
      "job is working\n"
     ]
    },
    {
     "name": "stderr",
     "output_type": "stream",
     "text": [
      "INFO:schedule:Running job Every 5 seconds do job() (last run: 2020-05-08 02:10:53, next run: 2020-05-08 02:10:58)\n",
      "INFO:schedule:Running job Every 5 seconds do job() (last run: 2020-05-08 02:10:53, next run: 2020-05-08 02:10:58)\n"
     ]
    },
    {
     "name": "stdout",
     "output_type": "stream",
     "text": [
      "I'm working...\n",
      "I'm working...\n",
      "job is working\n"
     ]
    },
    {
     "name": "stderr",
     "output_type": "stream",
     "text": [
      "INFO:schedule:Running job Every 5 seconds do job() (last run: 2020-05-08 02:10:58, next run: 2020-05-08 02:11:03)\n",
      "INFO:schedule:Running job Every 5 seconds do job() (last run: 2020-05-08 02:10:58, next run: 2020-05-08 02:11:03)\n"
     ]
    },
    {
     "name": "stdout",
     "output_type": "stream",
     "text": [
      "I'm working...\n",
      "I'm working...\n",
      "job is working\n"
     ]
    },
    {
     "name": "stderr",
     "output_type": "stream",
     "text": [
      "INFO:schedule:Running job Every 5 seconds do job() (last run: 2020-05-08 02:11:03, next run: 2020-05-08 02:11:08)\n",
      "INFO:schedule:Running job Every 5 seconds do job() (last run: 2020-05-08 02:11:03, next run: 2020-05-08 02:11:08)\n"
     ]
    },
    {
     "name": "stdout",
     "output_type": "stream",
     "text": [
      "I'm working...\n",
      "I'm working...\n",
      "job is working\n"
     ]
    },
    {
     "name": "stderr",
     "output_type": "stream",
     "text": [
      "INFO:schedule:Running job Every 5 seconds do job() (last run: 2020-05-08 02:11:08, next run: 2020-05-08 02:11:13)\n",
      "INFO:schedule:Running job Every 5 seconds do job() (last run: 2020-05-08 02:11:08, next run: 2020-05-08 02:11:13)\n"
     ]
    },
    {
     "name": "stdout",
     "output_type": "stream",
     "text": [
      "I'm working...\n",
      "I'm working...\n",
      "job is working\n"
     ]
    },
    {
     "name": "stderr",
     "output_type": "stream",
     "text": [
      "INFO:schedule:Running job Every 5 seconds do job() (last run: 2020-05-08 02:11:13, next run: 2020-05-08 02:11:18)\n",
      "INFO:schedule:Running job Every 5 seconds do job() (last run: 2020-05-08 02:11:13, next run: 2020-05-08 02:11:18)\n"
     ]
    },
    {
     "name": "stdout",
     "output_type": "stream",
     "text": [
      "I'm working...\n",
      "I'm working...\n",
      "job is working\n"
     ]
    },
    {
     "name": "stderr",
     "output_type": "stream",
     "text": [
      "INFO:schedule:Running job Every 5 seconds do job() (last run: 2020-05-08 02:11:18, next run: 2020-05-08 02:11:23)\n",
      "INFO:schedule:Running job Every 5 seconds do job() (last run: 2020-05-08 02:11:18, next run: 2020-05-08 02:11:23)\n"
     ]
    },
    {
     "name": "stdout",
     "output_type": "stream",
     "text": [
      "I'm working...\n",
      "I'm working...\n",
      "job is working\n"
     ]
    },
    {
     "name": "stderr",
     "output_type": "stream",
     "text": [
      "INFO:schedule:Running job Every 2 minutes do jobs() (last run: [never], next run: 2020-05-08 02:11:26)\n",
      "INFO:schedule:Running job Every 2 minutes do jobs() (last run: 2020-05-08 02:09:27, next run: 2020-05-08 02:11:27)\n",
      "INFO:schedule:Running job Every 2 minutes do jobs() (last run: 2020-05-08 02:09:27, next run: 2020-05-08 02:11:27)\n",
      "INFO:schedule:Running job Every 2 minutes do jobs() (last run: 2020-05-08 02:09:27, next run: 2020-05-08 02:11:27)\n",
      "INFO:schedule:Running job Every 2 minutes do jobs() (last run: 2020-05-08 02:09:27, next run: 2020-05-08 02:11:27)\n",
      "INFO:schedule:Running job Every 2 minutes do jobs() (last run: 2020-05-08 02:09:27, next run: 2020-05-08 02:11:27)\n",
      "INFO:schedule:Running job Every 2 minutes do jobs() (last run: 2020-05-08 02:09:27, next run: 2020-05-08 02:11:27)\n",
      "INFO:schedule:Running job Every 2 minutes do jobs() (last run: 2020-05-08 02:09:27, next run: 2020-05-08 02:11:27)\n",
      "INFO:schedule:Running job Every 2 minutes do jobs() (last run: 2020-05-08 02:09:27, next run: 2020-05-08 02:11:27)\n",
      "INFO:schedule:Running job Every 2 minutes do jobs() (last run: 2020-05-08 02:09:27, next run: 2020-05-08 02:11:27)\n",
      "INFO:schedule:Running job Every 2 minutes do jobs() (last run: 2020-05-08 02:09:27, next run: 2020-05-08 02:11:27)\n",
      "INFO:schedule:Running job Every 2 minutes do jobs() (last run: 2020-05-08 02:09:27, next run: 2020-05-08 02:11:27)\n",
      "INFO:schedule:Running job Every 5 seconds do job() (last run: 2020-05-08 02:11:23, next run: 2020-05-08 02:11:28)\n",
      "INFO:schedule:Running job Every 5 seconds do job() (last run: 2020-05-08 02:11:23, next run: 2020-05-08 02:11:28)\n"
     ]
    },
    {
     "name": "stdout",
     "output_type": "stream",
     "text": [
      "I'm working...\n",
      "I'm working...\n",
      "job is working\n"
     ]
    },
    {
     "name": "stderr",
     "output_type": "stream",
     "text": [
      "ERROR:root:Internal Python error in the inspect module.\n",
      "Below is the traceback from this internal error.\n",
      "\n",
      "INFO:root:\n",
      "Unfortunately, your original traceback can not be constructed.\n",
      "\n"
     ]
    },
    {
     "name": "stdout",
     "output_type": "stream",
     "text": [
      "Traceback (most recent call last):\n",
      "  File \"/Users/mac/opt/anaconda3/lib/python3.7/site-packages/IPython/core/interactiveshell.py\", line 3326, in run_code\n",
      "    exec(code_obj, self.user_global_ns, self.user_ns)\n",
      "  File \"<ipython-input-138-0bd6b74b388d>\", line 1, in <module>\n",
      "    ml_execute('test', 'start')\n",
      "  File \"<ipython-input-137-e134e8ea4c1b>\", line 14, in ml_execute\n",
      "    time.sleep(5)\n",
      "KeyboardInterrupt\n",
      "\n",
      "During handling of the above exception, another exception occurred:\n",
      "\n",
      "Traceback (most recent call last):\n",
      "  File \"/Users/mac/opt/anaconda3/lib/python3.7/site-packages/IPython/core/interactiveshell.py\", line 2040, in showtraceback\n",
      "    stb = value._render_traceback_()\n",
      "AttributeError: 'KeyboardInterrupt' object has no attribute '_render_traceback_'\n",
      "\n",
      "During handling of the above exception, another exception occurred:\n",
      "\n",
      "Traceback (most recent call last):\n",
      "  File \"/Users/mac/opt/anaconda3/lib/python3.7/site-packages/IPython/core/ultratb.py\", line 1101, in get_records\n",
      "    return _fixed_getinnerframes(etb, number_of_lines_of_context, tb_offset)\n",
      "  File \"/Users/mac/opt/anaconda3/lib/python3.7/site-packages/IPython/core/ultratb.py\", line 319, in wrapped\n",
      "    return f(*args, **kwargs)\n",
      "  File \"/Users/mac/opt/anaconda3/lib/python3.7/site-packages/IPython/core/ultratb.py\", line 353, in _fixed_getinnerframes\n",
      "    records = fix_frame_records_filenames(inspect.getinnerframes(etb, context))\n",
      "  File \"/Users/mac/opt/anaconda3/lib/python3.7/inspect.py\", line 1502, in getinnerframes\n",
      "    frameinfo = (tb.tb_frame,) + getframeinfo(tb, context)\n",
      "  File \"/Users/mac/opt/anaconda3/lib/python3.7/inspect.py\", line 1460, in getframeinfo\n",
      "    filename = getsourcefile(frame) or getfile(frame)\n",
      "  File \"/Users/mac/opt/anaconda3/lib/python3.7/inspect.py\", line 696, in getsourcefile\n",
      "    if getattr(getmodule(object, filename), '__loader__', None) is not None:\n",
      "  File \"/Users/mac/opt/anaconda3/lib/python3.7/inspect.py\", line 733, in getmodule\n",
      "    if ismodule(module) and hasattr(module, '__file__'):\n",
      "KeyboardInterrupt\n"
     ]
    },
    {
     "ename": "KeyboardInterrupt",
     "evalue": "",
     "output_type": "error",
     "traceback": [
      "\u001b[0;31m---------------------------------------------------------------------------\u001b[0m"
     ]
    }
   ],
   "source": [
    "ml_execute('test', 'start')"
   ]
  },
  {
   "cell_type": "code",
   "execution_count": 125,
   "metadata": {},
   "outputs": [
    {
     "data": {
      "text/plain": [
       "<module 'ml_executor' from '/Users/mac/Documents/GitHub/anomaly_detection_framework/ml_executor.py'>"
      ]
     },
     "execution_count": 125,
     "metadata": {},
     "output_type": "execute_result"
    }
   ],
   "source": [
    "_file_path = join(os.path.abspath(\"\"), 'ml_executor.py')  # join(dirname(__file__), api_info['py_file'])\n",
    "_py = callfunc(_file_path)\n",
    "_py"
   ]
  },
  {
   "cell_type": "code",
   "execution_count": 116,
   "metadata": {},
   "outputs": [
    {
     "name": "stdout",
     "output_type": "stream",
     "text": [
      "_file_path :::::: /Users/mac/Documents/GitHub/anomaly_detection_framework/ml_executor.py\n"
     ]
    }
   ],
   "source": [
    "_file_path = join(os.path.abspath(\"\"), 'ml_executor.py')\n",
    "print(\"_file_path ::::::\", _file_path)\n",
    "_py = callfunc(_file_path)"
   ]
  },
  {
   "cell_type": "code",
   "execution_count": 117,
   "metadata": {
    "scrolled": true
   },
   "outputs": [
    {
     "data": {
      "text/plain": [
       "['CreateJobs',\n",
       " 'Logger',\n",
       " '__builtins__',\n",
       " '__cached__',\n",
       " '__doc__',\n",
       " '__file__',\n",
       " '__loader__',\n",
       " '__name__',\n",
       " '__package__',\n",
       " '__spec__',\n",
       " 'directory',\n",
       " 'get_api_url',\n",
       " 'ml_execute',\n",
       " 'platform',\n",
       " 'read_yaml',\n",
       " 'requests',\n",
       " 'schedule',\n",
       " 'sys',\n",
       " 'test_function',\n",
       " 'time',\n",
       " 'traceback',\n",
       " 'yaml']"
      ]
     },
     "execution_count": 117,
     "metadata": {},
     "output_type": "execute_result"
    }
   ],
   "source": [
    "from inspect import getmembers, getargspec\n",
    "sorted([o[0] for o in getmembers(_py)])"
   ]
  },
  {
   "cell_type": "code",
   "execution_count": 142,
   "metadata": {},
   "outputs": [
    {
     "data": {
      "text/plain": [
       "'2020-05-12 11:58'"
      ]
     },
     "execution_count": 142,
     "metadata": {},
     "output_type": "execute_result"
    }
   ],
   "source": [
    "str(datetime.datetime.now())[0:16]"
   ]
  },
  {
   "cell_type": "code",
   "execution_count": 147,
   "metadata": {},
   "outputs": [],
   "source": [
    "test = {'a': 1, 'b': None}"
   ]
  },
  {
   "cell_type": "code",
   "execution_count": 155,
   "metadata": {},
   "outputs": [
    {
     "name": "stdout",
     "output_type": "stream",
     "text": [
      "yess\n"
     ]
    }
   ],
   "source": [
    "if not test.get('c', None):\n",
    "    print(\"yess\")"
   ]
  },
  {
   "cell_type": "code",
   "execution_count": 174,
   "metadata": {},
   "outputs": [
    {
     "data": {
      "text/plain": [
       "datetime.datetime(2020, 5, 11, 13, 46, 4, 757831)"
      ]
     },
     "execution_count": 174,
     "metadata": {},
     "output_type": "execute_result"
    }
   ],
   "source": [
    "today = datetime.datetime.now()\n",
    "today + datetime.timedelta(days=-today.weekday())"
   ]
  },
  {
   "cell_type": "code",
   "execution_count": 172,
   "metadata": {},
   "outputs": [
    {
     "data": {
      "text/plain": [
       "datetime.timedelta(days=-1)"
      ]
     },
     "execution_count": 172,
     "metadata": {},
     "output_type": "execute_result"
    }
   ],
   "source": [
    "datetime.timedelta(days=-today.weekday())"
   ]
  },
  {
   "cell_type": "code",
   "execution_count": 175,
   "metadata": {},
   "outputs": [
    {
     "data": {
      "text/plain": [
       "datetime.datetime(2020, 5, 12, 13, 46, 4, 757831)"
      ]
     },
     "execution_count": 175,
     "metadata": {},
     "output_type": "execute_result"
    }
   ],
   "source": [
    "today + datetime.timedelta(days=0)"
   ]
  },
  {
   "cell_type": "code",
   "execution_count": 178,
   "metadata": {},
   "outputs": [
    {
     "data": {
      "text/plain": [
       "datetime.datetime(2020, 5, 12, 15, 43)"
      ]
     },
     "execution_count": 178,
     "metadata": {},
     "output_type": "execute_result"
    }
   ],
   "source": [
    "datetime.datetime.strptime(str(datetime.datetime.now())[0:16],\n",
    "                                                 \"%Y-%m-%d %H:%M\") + datetime.timedelta(minutes=2)"
   ]
  },
  {
   "cell_type": "code",
   "execution_count": 200,
   "metadata": {},
   "outputs": [],
   "source": [
    "log_main_path = 'log'\n",
    "import yaml\n",
    "from numpy import arange\n",
    "from configs import log_main_path\n",
    "from utils import read_yaml"
   ]
  },
  {
   "cell_type": "code",
   "execution_count": 246,
   "metadata": {},
   "outputs": [],
   "source": [
    "class LoggerProcess:\n",
    "    def __init__(self, job=None, model=None, total_process=None):\n",
    "        self.log = log_main_path + \"process.yaml\"\n",
    "        self.job = job\n",
    "        self.model = model\n",
    "        self.total_process = total_process\n",
    "        self.ratios = [int(i * total_process) for i in arange(0.1, 1.1, 0.1)] if total_process else None\n",
    "        self.count = 0\n",
    "\n",
    "    def write(self):\n",
    "        file = read_yaml(self.log)\n",
    "        file[self.job][self.model] = self.count / self.total_process\n",
    "        with open(self.log, 'w') as f:\n",
    "            yaml.dump(file, f)\n",
    "\n",
    "    def counter(self):\n",
    "        self.count += 1\n",
    "        if self.count in self.ratios:\n",
    "            self.write()\n",
    "            \n",
    "    def regenerate_file(self):\n",
    "        file = read_yaml(self.log)\n",
    "        for j in file:\n",
    "            if j == self.job:\n",
    "                for m in file[j]:\n",
    "                    file[j][m] = 0\n",
    "        with open(self.log, 'w') as f:\n",
    "            yaml.dump(file, f)\n",
    "        "
   ]
  },
  {
   "cell_type": "code",
   "execution_count": 247,
   "metadata": {},
   "outputs": [],
   "source": [
    "log = LoggerProcess('train', 'lstm', 1000)"
   ]
  },
  {
   "cell_type": "code",
   "execution_count": 248,
   "metadata": {},
   "outputs": [],
   "source": [
    "for i in range(1001):\n",
    "    log.counter()"
   ]
  },
  {
   "cell_type": "code",
   "execution_count": 249,
   "metadata": {},
   "outputs": [],
   "source": [
    "log.regenerate_file()"
   ]
  },
  {
   "cell_type": "code",
   "execution_count": 252,
   "metadata": {},
   "outputs": [],
   "source": [
    "def test(*args):\n",
    "    print(args[0])"
   ]
  },
  {
   "cell_type": "code",
   "execution_count": 253,
   "metadata": {},
   "outputs": [
    {
     "name": "stdout",
     "output_type": "stream",
     "text": [
      "[1, 2, 3]\n"
     ]
    }
   ],
   "source": [
    "test([1,2,3])"
   ]
  },
  {
   "cell_type": "code",
   "execution_count": 254,
   "metadata": {},
   "outputs": [],
   "source": [
    "def is_port_in_use(port):\n",
    "    import socket\n",
    "    with socket.socket(socket.AF_INET, socket.SOCK_STREAM) as s:\n",
    "        return s.connect_ex(('localhost', port)) == 0"
   ]
  },
  {
   "cell_type": "code",
   "execution_count": 255,
   "metadata": {},
   "outputs": [
    {
     "data": {
      "text/plain": [
       "False"
      ]
     },
     "execution_count": 255,
     "metadata": {},
     "output_type": "execute_result"
    }
   ],
   "source": [
    "is_port_in_use(5000)"
   ]
  },
  {
   "cell_type": "code",
   "execution_count": 257,
   "metadata": {},
   "outputs": [
    {
     "data": {
      "text/plain": [
       "6"
      ]
     },
     "execution_count": 257,
     "metadata": {},
     "output_type": "execute_result"
    }
   ],
   "source": [
    "np.random.randint(low=1, high=10, size=1)[0]"
   ]
  },
  {
   "cell_type": "code",
   "execution_count": 260,
   "metadata": {},
   "outputs": [
    {
     "data": {
      "text/plain": [
       "512"
      ]
     },
     "execution_count": 260,
     "metadata": {},
     "output_type": "execute_result"
    }
   ],
   "source": [
    "import os\n",
    "os.system('docker-compose up')"
   ]
  },
  {
   "cell_type": "code",
   "execution_count": 3,
   "metadata": {
    "scrolled": true
   },
   "outputs": [],
   "source": [
    "jobs = read_yaml('ml_execute.yaml')"
   ]
  },
  {
   "cell_type": "code",
   "execution_count": 12,
   "metadata": {},
   "outputs": [],
   "source": [
    "import pandas as pd"
   ]
  },
  {
   "cell_type": "code",
   "execution_count": 39,
   "metadata": {},
   "outputs": [
    {
     "data": {
      "text/plain": [
       "{'data_query_path': 'ml3yil_20200429.csv',\n",
       " 'data_source': 'csv',\n",
       " 'date': '2020-05-12 11:59',\n",
       " 'feature': 'KisiSayimi',\n",
       " 'groups': 'BayiKodu',\n",
       " 'job': 'parameter_tuning',\n",
       " 'model': 'prophet',\n",
       " 'time_indicator': 'Tarih',\n",
       " 'time_period': None,\n",
       " 'time_periods': None}"
      ]
     },
     "execution_count": 39,
     "metadata": {},
     "output_type": "execute_result"
    }
   ],
   "source": [
    "params = jobs['parameter_tuning']['execute'][1]['params']\n",
    "params"
   ]
  },
  {
   "cell_type": "code",
   "execution_count": 79,
   "metadata": {},
   "outputs": [
    {
     "data": {
      "text/plain": [
       "<Response [200]>"
      ]
     },
     "execution_count": 79,
     "metadata": {},
     "output_type": "execute_result"
    }
   ],
   "source": [
    "requests.get(url=\"http://mac-macbook-air.local:6001/ml\", params={'job': 'stop', 'model': 'train'})"
   ]
  },
  {
   "cell_type": "code",
   "execution_count": 34,
   "metadata": {},
   "outputs": [
    {
     "name": "stdout",
     "output_type": "stream",
     "text": [
      "\n"
     ]
    },
    {
     "data": {
      "text/plain": [
       "86400.0"
      ]
     },
     "execution_count": 34,
     "metadata": {},
     "output_type": "execute_result"
    }
   ],
   "source": [
    "max_date = datetime.datetime.strptime('2020-05-16 21:31:53', \"%Y-%m-%d %H:%M:%S\")\n",
    "min_date = datetime.datetime.strptime('2020-05-15 21:31:53', \"%Y-%m-%d %H:%M:%S\")\n",
    "print()\n",
    "range_dates = (max_date - min_date).total_seconds()\n",
    "range_dates"
   ]
  },
  {
   "cell_type": "code",
   "execution_count": 51,
   "metadata": {},
   "outputs": [],
   "source": [
    "import os\n",
    "from multiprocessing import Process\n",
    "import subprocess"
   ]
  },
  {
   "cell_type": "code",
   "execution_count": 58,
   "metadata": {},
   "outputs": [],
   "source": [
    "heavy_process = Process(\n",
    "                        target=run_ml_executor,\n",
    "                        daemon=True\n",
    "                        )\n",
    "heavy_process.start()"
   ]
  },
  {
   "cell_type": "code",
   "execution_count": 59,
   "metadata": {},
   "outputs": [],
   "source": [
    "def run_ml_executor():\n",
    "    subprocess.run([\"docker-compose\", \"up\"])"
   ]
  },
  {
   "cell_type": "code",
   "execution_count": 45,
   "metadata": {},
   "outputs": [
    {
     "data": {
      "text/plain": [
       "CompletedProcess(args=['ls', '-l'], returncode=0)"
      ]
     },
     "execution_count": 45,
     "metadata": {},
     "output_type": "execute_result"
    }
   ],
   "source": [
    "import subprocess\n",
    "subprocess.run([\"ls\", \"-l\"])"
   ]
  },
  {
   "cell_type": "code",
   "execution_count": 65,
   "metadata": {},
   "outputs": [],
   "source": [
    "def main(**args):\n",
    "    print(args)"
   ]
  },
  {
   "cell_type": "code",
   "execution_count": 67,
   "metadata": {},
   "outputs": [],
   "source": [
    "def get_running_pids(process_name, argument=None):\n",
    "    pids = []\n",
    "    p = subprocess.Popen(['ps', '-A'], stdout=subprocess.PIPE)\n",
    "    out, err = p.communicate()\n",
    "    for line in out.splitlines():\n",
    "        if process_name in line.decode('utf-8'):\n",
    "            pid = int(line.decode('utf-8').split(None, 1)[0])\n",
    "            if argument:\n",
    "                if len(line.decode('utf-8').split(process_name)) != 0:\n",
    "                    args = line.decode('utf-8').split(process_name)[1].split(None, 1)\n",
    "                    if str(argument) in args:\n",
    "                        print(\"running job :\", line.decode('utf-8'))\n",
    "                        pids.append(pid)\n",
    "            else:\n",
    "                print(\"running job :\", line.decode('utf-8'))\n",
    "                pids.append(pid)\n",
    "        else:\n",
    "            print(\"no initialized \", argument, \" is detected\")\n",
    "    return pids\n",
    "\n",
    "\n",
    "def kill_process_with_name(process_name, argument=None):\n",
    "    pids = get_running_pids(process_name, argument=argument)\n",
    "    if len(pids) != 0:\n",
    "        for pid in pids:\n",
    "            os.kill(pid, signal.SIGKILL)\n",
    "    else:\n",
    "        print(\"no running jobs\")"
   ]
  },
  {
   "cell_type": "code",
   "execution_count": 78,
   "metadata": {},
   "outputs": [
    {
     "name": "stdout",
     "output_type": "stream",
     "text": [
      "no initialized  None  is detected\n",
      "no initialized  None  is detected\n",
      "no initialized  None  is detected\n",
      "no initialized  None  is detected\n",
      "no initialized  None  is detected\n",
      "no initialized  None  is detected\n",
      "no initialized  None  is detected\n",
      "no initialized  None  is detected\n",
      "no initialized  None  is detected\n",
      "no initialized  None  is detected\n",
      "no initialized  None  is detected\n",
      "no initialized  None  is detected\n",
      "no initialized  None  is detected\n",
      "no initialized  None  is detected\n",
      "no initialized  None  is detected\n",
      "no initialized  None  is detected\n",
      "no initialized  None  is detected\n",
      "no initialized  None  is detected\n",
      "no initialized  None  is detected\n",
      "no initialized  None  is detected\n",
      "no initialized  None  is detected\n",
      "no initialized  None  is detected\n",
      "no initialized  None  is detected\n",
      "no initialized  None  is detected\n",
      "no initialized  None  is detected\n",
      "no initialized  None  is detected\n",
      "no initialized  None  is detected\n",
      "no initialized  None  is detected\n",
      "no initialized  None  is detected\n",
      "no initialized  None  is detected\n",
      "no initialized  None  is detected\n",
      "no initialized  None  is detected\n",
      "no initialized  None  is detected\n",
      "no initialized  None  is detected\n",
      "no initialized  None  is detected\n",
      "no initialized  None  is detected\n",
      "no initialized  None  is detected\n",
      "no initialized  None  is detected\n",
      "no initialized  None  is detected\n",
      "no initialized  None  is detected\n",
      "no initialized  None  is detected\n",
      "no initialized  None  is detected\n",
      "no initialized  None  is detected\n",
      "no initialized  None  is detected\n",
      "no initialized  None  is detected\n",
      "no initialized  None  is detected\n",
      "no initialized  None  is detected\n",
      "no initialized  None  is detected\n",
      "no initialized  None  is detected\n",
      "no initialized  None  is detected\n",
      "no initialized  None  is detected\n",
      "no initialized  None  is detected\n",
      "no initialized  None  is detected\n",
      "no initialized  None  is detected\n",
      "no initialized  None  is detected\n",
      "no initialized  None  is detected\n",
      "no initialized  None  is detected\n",
      "no initialized  None  is detected\n",
      "no initialized  None  is detected\n",
      "no initialized  None  is detected\n",
      "no initialized  None  is detected\n",
      "no initialized  None  is detected\n",
      "no initialized  None  is detected\n",
      "no initialized  None  is detected\n",
      "no initialized  None  is detected\n",
      "no initialized  None  is detected\n",
      "no initialized  None  is detected\n",
      "no initialized  None  is detected\n",
      "no initialized  None  is detected\n",
      "no initialized  None  is detected\n",
      "no initialized  None  is detected\n",
      "no initialized  None  is detected\n",
      "no initialized  None  is detected\n",
      "no initialized  None  is detected\n",
      "no initialized  None  is detected\n",
      "no initialized  None  is detected\n",
      "no initialized  None  is detected\n",
      "no initialized  None  is detected\n",
      "no initialized  None  is detected\n",
      "no initialized  None  is detected\n",
      "no initialized  None  is detected\n",
      "no initialized  None  is detected\n",
      "no initialized  None  is detected\n",
      "no initialized  None  is detected\n",
      "no initialized  None  is detected\n",
      "no initialized  None  is detected\n",
      "no initialized  None  is detected\n",
      "no initialized  None  is detected\n",
      "no initialized  None  is detected\n",
      "no initialized  None  is detected\n",
      "no initialized  None  is detected\n",
      "no initialized  None  is detected\n",
      "no initialized  None  is detected\n",
      "no initialized  None  is detected\n",
      "no initialized  None  is detected\n",
      "no initialized  None  is detected\n",
      "no initialized  None  is detected\n",
      "no initialized  None  is detected\n",
      "no initialized  None  is detected\n",
      "no initialized  None  is detected\n",
      "no initialized  None  is detected\n",
      "no initialized  None  is detected\n",
      "no initialized  None  is detected\n",
      "no initialized  None  is detected\n",
      "no initialized  None  is detected\n",
      "no initialized  None  is detected\n",
      "no initialized  None  is detected\n",
      "no initialized  None  is detected\n",
      "no initialized  None  is detected\n",
      "no initialized  None  is detected\n",
      "no initialized  None  is detected\n",
      "no initialized  None  is detected\n",
      "no initialized  None  is detected\n",
      "no initialized  None  is detected\n",
      "no initialized  None  is detected\n",
      "no initialized  None  is detected\n",
      "no initialized  None  is detected\n",
      "no initialized  None  is detected\n",
      "no initialized  None  is detected\n",
      "no initialized  None  is detected\n",
      "no initialized  None  is detected\n",
      "no initialized  None  is detected\n",
      "no initialized  None  is detected\n",
      "no initialized  None  is detected\n",
      "no initialized  None  is detected\n",
      "no initialized  None  is detected\n",
      "no initialized  None  is detected\n",
      "no initialized  None  is detected\n",
      "no initialized  None  is detected\n",
      "no initialized  None  is detected\n",
      "no initialized  None  is detected\n",
      "no initialized  None  is detected\n",
      "no initialized  None  is detected\n",
      "no initialized  None  is detected\n",
      "no initialized  None  is detected\n",
      "no initialized  None  is detected\n",
      "no initialized  None  is detected\n",
      "no initialized  None  is detected\n",
      "no initialized  None  is detected\n",
      "no initialized  None  is detected\n",
      "no initialized  None  is detected\n",
      "no initialized  None  is detected\n",
      "no initialized  None  is detected\n",
      "no initialized  None  is detected\n",
      "no initialized  None  is detected\n",
      "no initialized  None  is detected\n",
      "no initialized  None  is detected\n",
      "no initialized  None  is detected\n",
      "no initialized  None  is detected\n",
      "no initialized  None  is detected\n",
      "no initialized  None  is detected\n",
      "no initialized  None  is detected\n",
      "no initialized  None  is detected\n",
      "no initialized  None  is detected\n",
      "no initialized  None  is detected\n",
      "no initialized  None  is detected\n",
      "no initialized  None  is detected\n",
      "no initialized  None  is detected\n",
      "no initialized  None  is detected\n",
      "no initialized  None  is detected\n",
      "no initialized  None  is detected\n",
      "no initialized  None  is detected\n",
      "no initialized  None  is detected\n",
      "no initialized  None  is detected\n",
      "no initialized  None  is detected\n",
      "no initialized  None  is detected\n",
      "no initialized  None  is detected\n",
      "no initialized  None  is detected\n",
      "no initialized  None  is detected\n",
      "no initialized  None  is detected\n",
      "no initialized  None  is detected\n",
      "no initialized  None  is detected\n",
      "no initialized  None  is detected\n",
      "no initialized  None  is detected\n",
      "no initialized  None  is detected\n",
      "no initialized  None  is detected\n",
      "no initialized  None  is detected\n",
      "no initialized  None  is detected\n",
      "no initialized  None  is detected\n",
      "no initialized  None  is detected\n",
      "no initialized  None  is detected\n",
      "no initialized  None  is detected\n",
      "no initialized  None  is detected\n",
      "no initialized  None  is detected\n",
      "no initialized  None  is detected\n",
      "no initialized  None  is detected\n",
      "no initialized  None  is detected\n",
      "no initialized  None  is detected\n",
      "no initialized  None  is detected\n",
      "no initialized  None  is detected\n",
      "no initialized  None  is detected\n",
      "no initialized  None  is detected\n",
      "no initialized  None  is detected\n",
      "no initialized  None  is detected\n",
      "no initialized  None  is detected\n",
      "no initialized  None  is detected\n",
      "no initialized  None  is detected\n",
      "no initialized  None  is detected\n",
      "no initialized  None  is detected\n",
      "no initialized  None  is detected\n",
      "no initialized  None  is detected\n",
      "no initialized  None  is detected\n",
      "no initialized  None  is detected\n",
      "no initialized  None  is detected\n",
      "no initialized  None  is detected\n",
      "no initialized  None  is detected\n",
      "no initialized  None  is detected\n",
      "no initialized  None  is detected\n",
      "no initialized  None  is detected\n",
      "no initialized  None  is detected\n",
      "no initialized  None  is detected\n",
      "no initialized  None  is detected\n",
      "no initialized  None  is detected\n",
      "no initialized  None  is detected\n",
      "no initialized  None  is detected\n",
      "no initialized  None  is detected\n",
      "no initialized  None  is detected\n",
      "no initialized  None  is detected\n",
      "no initialized  None  is detected\n",
      "no initialized  None  is detected\n",
      "no initialized  None  is detected\n",
      "no initialized  None  is detected\n",
      "no initialized  None  is detected\n",
      "no initialized  None  is detected\n",
      "no initialized  None  is detected\n",
      "no initialized  None  is detected\n",
      "no initialized  None  is detected\n",
      "no initialized  None  is detected\n",
      "no initialized  None  is detected\n",
      "no initialized  None  is detected\n",
      "no initialized  None  is detected\n",
      "no initialized  None  is detected\n",
      "no initialized  None  is detected\n",
      "no initialized  None  is detected\n",
      "no initialized  None  is detected\n",
      "no initialized  None  is detected\n",
      "no initialized  None  is detected\n",
      "no initialized  None  is detected\n",
      "no initialized  None  is detected\n",
      "no initialized  None  is detected\n",
      "no initialized  None  is detected\n",
      "no initialized  None  is detected\n",
      "no initialized  None  is detected\n",
      "no initialized  None  is detected\n",
      "no initialized  None  is detected\n",
      "no initialized  None  is detected\n",
      "no initialized  None  is detected\n",
      "no initialized  None  is detected\n",
      "no initialized  None  is detected\n",
      "no initialized  None  is detected\n",
      "no initialized  None  is detected\n",
      "no initialized  None  is detected\n",
      "no initialized  None  is detected\n",
      "no initialized  None  is detected\n",
      "no initialized  None  is detected\n",
      "no initialized  None  is detected\n",
      "no initialized  None  is detected\n",
      "no initialized  None  is detected\n",
      "no initialized  None  is detected\n",
      "no initialized  None  is detected\n",
      "no initialized  None  is detected\n",
      "no initialized  None  is detected\n",
      "no initialized  None  is detected\n",
      "no initialized  None  is detected\n",
      "no initialized  None  is detected\n",
      "no initialized  None  is detected\n",
      "no initialized  None  is detected\n",
      "no initialized  None  is detected\n",
      "no initialized  None  is detected\n",
      "no initialized  None  is detected\n",
      "no initialized  None  is detected\n",
      "no initialized  None  is detected\n",
      "no initialized  None  is detected\n",
      "no initialized  None  is detected\n",
      "no initialized  None  is detected\n",
      "no initialized  None  is detected\n",
      "no initialized  None  is detected\n",
      "no initialized  None  is detected\n",
      "no initialized  None  is detected\n",
      "no initialized  None  is detected\n",
      "no initialized  None  is detected\n",
      "no initialized  None  is detected\n",
      "no initialized  None  is detected\n",
      "no initialized  None  is detected\n",
      "no initialized  None  is detected\n",
      "no initialized  None  is detected\n",
      "no initialized  None  is detected\n",
      "no initialized  None  is detected\n",
      "no initialized  None  is detected\n",
      "no initialized  None  is detected\n",
      "no initialized  None  is detected\n",
      "no initialized  None  is detected\n",
      "no initialized  None  is detected\n",
      "no initialized  None  is detected\n",
      "no initialized  None  is detected\n",
      "no initialized  None  is detected\n",
      "no initialized  None  is detected\n",
      "no initialized  None  is detected\n",
      "no initialized  None  is detected\n",
      "no initialized  None  is detected\n",
      "no initialized  None  is detected\n",
      "no initialized  None  is detected\n",
      "no initialized  None  is detected\n",
      "no initialized  None  is detected\n",
      "no initialized  None  is detected\n",
      "no initialized  None  is detected\n",
      "no initialized  None  is detected\n",
      "no initialized  None  is detected\n",
      "no initialized  None  is detected\n",
      "no initialized  None  is detected\n",
      "no initialized  None  is detected\n",
      "no initialized  None  is detected\n",
      "no initialized  None  is detected\n",
      "no initialized  None  is detected\n",
      "no initialized  None  is detected\n",
      "no initialized  None  is detected\n",
      "no initialized  None  is detected\n",
      "no initialized  None  is detected\n",
      "no initialized  None  is detected\n",
      "no initialized  None  is detected\n",
      "no initialized  None  is detected\n",
      "no initialized  None  is detected\n",
      "no initialized  None  is detected\n",
      "no initialized  None  is detected\n",
      "no initialized  None  is detected\n",
      "no initialized  None  is detected\n",
      "no initialized  None  is detected\n",
      "no initialized  None  is detected\n",
      "no initialized  None  is detected\n",
      "no initialized  None  is detected\n",
      "no initialized  None  is detected\n",
      "running job : 60890 ttys004    3:31.19 python test.py train iso_f BayiKodu - Tarih KisiSayimi csv ml3yil_20200429.csv Daily\n",
      "no initialized  None  is detected\n",
      "no initialized  None  is detected\n",
      "no initialized  None  is detected\n",
      "no initialized  None  is detected\n",
      "no initialized  None  is detected\n"
     ]
    }
   ],
   "source": [
    "kill_process_with_name(\"test.py\", argument=None)"
   ]
  },
  {
   "cell_type": "code",
   "execution_count": 76,
   "metadata": {},
   "outputs": [
    {
     "data": {
      "text/plain": [
       "[b'  PID TTY           TIME CMD',\n",
       " b'    1 ??       109:01.70 /sbin/launchd',\n",
       " b'   94 ??         1:42.87 /usr/sbin/syslogd',\n",
       " b'   95 ??        17:19.44 /usr/libexec/UserEventAgent (System)',\n",
       " b'   98 ??         1:24.41 /System/Library/PrivateFrameworks/Uninstall.framework/Resources/uninstalld',\n",
       " b'   99 ??         0:57.30 /usr/libexec/kextd',\n",
       " b'  100 ??       111:22.62 /System/Library/Frameworks/CoreServices.framework/Versions/A/Frameworks/FSEvents.framework/Versions/A/Support/fseventsd',\n",
       " b'  101 ??         3:03.83 /System/Library/PrivateFrameworks/MediaRemote.framework/Support/mediaremoted',\n",
       " b'  104 ??       168:32.91 /usr/sbin/systemstats --daemon',\n",
       " b'  105 ??         4:13.85 /usr/libexec/configd',\n",
       " b'  107 ??        21:15.19 /System/Library/CoreServices/powerd.bundle/powerd',\n",
       " b'  111 ??        28:44.97 /usr/libexec/logd',\n",
       " b'  113 ??         0:35.19 /Library/PostgreSQL/11/bin/postmaster -D/Library/PostgreSQL/11/data',\n",
       " b'  116 ??         1:31.10 /usr/libexec/watchdogd',\n",
       " b'  120 ??       104:57.92 /System/Library/Frameworks/CoreServices.framework/Frameworks/Metadata.framework/Support/mds',\n",
       " b'  122 ??         4:45.72 /usr/libexec/diskarbitrationd',\n",
       " b'  128 ??        21:07.65 /usr/libexec/opendirectoryd',\n",
       " b'  129 ??         9:53.82 /System/Library/PrivateFrameworks/ApplePushService.framework/apsd',\n",
       " b'  131 ??        30:31.34 /System/Library/CoreServices/launchservicesd',\n",
       " b'  132 ??         1:15.57 /usr/libexec/timed',\n",
       " b'  134 ??         0:05.91 /System/Library/PrivateFrameworks/MobileDevice.framework/Versions/A/Resources/usbmuxd -launchd',\n",
       " b'  135 ??         4:41.89 /usr/sbin/securityd -i',\n",
       " b'  138 ??         1:48.72 /usr/libexec/locationd',\n",
       " b'  141 ??         0:00.19 autofsd',\n",
       " b'  142 ??         1:07.69 /usr/libexec/displaypolicyd -k 1',\n",
       " b'  143 ??        10:07.91 /usr/libexec/dasd',\n",
       " b'  148 ??         0:03.82 /System/Library/CoreServices/logind',\n",
       " b'  149 ??         6:57.47 /System/Library/PrivateFrameworks/GenerationalStorage.framework/Versions/A/Support/revisiond',\n",
       " b'  150 ??         0:00.15 /usr/sbin/KernelEventAgent',\n",
       " b'  152 ??        26:33.07 /usr/sbin/bluetoothd',\n",
       " b'  153 ??       505:13.61 /usr/libexec/hidd',\n",
       " b'  155 ??         4:25.20 /usr/libexec/corebrightnessd --launchd',\n",
       " b'  156 ??         7:07.91 /usr/libexec/AirPlayXPCHelper',\n",
       " b'  157 ??         8:36.50 /usr/sbin/notifyd',\n",
       " b'  159 ??         0:19.18 /usr/sbin/distnoted daemon',\n",
       " b'  160 ??         6:13.75 /usr/sbin/cfprefsd daemon',\n",
       " b'  165 ??         1:01.80 /System/Library/CoreServices/coreservicesd',\n",
       " b'  166 ??         9:40.16 /System/Library/CoreServices/loginwindow.app/Contents/MacOS/loginwindow console',\n",
       " b'  168 ??         0:54.56 /System/Library/Frameworks/Security.framework/Versions/A/XPCServices/authd.xpc/Contents/MacOS/authd',\n",
       " b'  169 ??         1:12.08 /System/Library/PrivateFrameworks/CoreAnalytics.framework/Support/analyticsd',\n",
       " b'  195 ??        11:27.44 /System/Library/PrivateFrameworks/CoreDuetContext.framework/Resources/contextstored',\n",
       " b'  196 ??       390:19.09 /usr/sbin/coreaudiod',\n",
       " b'  215 ??         0:09.15 /usr/libexec/searchpartyd',\n",
       " b'  232 ??        92:59.72 /usr/libexec/symptomsd',\n",
       " b'  234 ??       6499:08.85 /System/Library/PrivateFrameworks/SkyLight.framework/Resources/WindowServer -daemon',\n",
       " b'  235 ??        11:34.30 /usr/sbin/mDNSResponder',\n",
       " b'  236 ??        21:07.26 /usr/libexec/syspolicyd',\n",
       " b'  238 ??         0:37.87 /usr/libexec/taskgated',\n",
       " b'  240 ??         1:58.59 /usr/sbin/mDNSResponderHelper',\n",
       " b'  247 ??         1:38.89 /usr/libexec/lsd runAsRoot',\n",
       " b'  249 ??         0:13.96 /usr/libexec/diskmanagementd',\n",
       " b'  253 ??         0:08.94 /System/Library/PrivateFrameworks/WirelessDiagnostics.framework/Support/awdd',\n",
       " b'  315 ??         2:21.75 /usr/libexec/nsurlsessiond --privileged',\n",
       " b'  316 ??         0:00.21 postgres: logger    ',\n",
       " b'  318 ??         0:01.34 postgres: checkpointer    ',\n",
       " b'  319 ??         0:22.13 postgres: background writer    ',\n",
       " b'  320 ??         0:20.41 postgres: walwriter    ',\n",
       " b'  321 ??         0:32.95 postgres: autovacuum launcher    ',\n",
       " b'  322 ??         2:08.07 postgres: stats collector    ',\n",
       " b'  323 ??         0:02.31 postgres: logical replication launcher    ',\n",
       " b'  326 ??         0:03.93 /usr/libexec/apfsd',\n",
       " b'  330 ??         0:09.19 /System/Library/Frameworks/CoreMediaIO.framework/Resources/VDC.plugin/Contents/Resources/VDCAssistant',\n",
       " b'  332 ??        12:49.30 /usr/libexec/airportd',\n",
       " b'  359 ??         0:30.40 /usr/libexec/rtcreportingd',\n",
       " b'  364 ??       356:34.58 /usr/libexec/sysmond',\n",
       " b'  365 ??         0:19.56 /usr/sbin/systemstats --logger-helper /private/var/db/systemstats',\n",
       " b'  367 ??         1:01.14 /System/Library/Frameworks/CoreMediaIO.framework/Versions/A/Resources/AppleCamera.plugin/Contents/Resources/AppleCameraAssistant',\n",
       " b'  375 ??         0:09.50 /usr/libexec/thermald',\n",
       " b'  377 ??         3:31.44 /usr/libexec/runningboardd',\n",
       " b'  384 ??       165:25.72 /System/Library/Frameworks/CoreServices.framework/Frameworks/Metadata.framework/Versions/A/Support/mds_stores',\n",
       " b'  389 ??         0:02.06 /System/Library/Frameworks/OpenGL.framework/Versions/A/Libraries/CVMServer',\n",
       " b'  397 ??         0:17.44 /System/Library/CoreServices/appleeventsd --server',\n",
       " b'  412 ??         0:01.33 /usr/libexec/securityd_service',\n",
       " b'  414 ??         7:36.18 /usr/libexec/UserEventAgent (Aqua)',\n",
       " b'  416 ??         2:04.34 /usr/libexec/knowledge-agent',\n",
       " b'  417 ??         2:34.12 /usr/sbin/distnoted agent',\n",
       " b'  420 ??         2:01.23 /usr/libexec/lsd',\n",
       " b'  424 ??        12:12.42 /System/Library/PrivateFrameworks/CloudKitDaemon.framework/Support/cloudd',\n",
       " b'  426 ??         0:58.87 /usr/libexec/pboard',\n",
       " b'  428 ??        12:33.77 /usr/libexec/nsurlsessiond',\n",
       " b'  440 ??         2:55.58 /System/Library/PrivateFrameworks/IDS.framework/identityservicesd.app/Contents/MacOS/identityservicesd',\n",
       " b'  441 ??         1:15.46 /usr/libexec/rapportd',\n",
       " b'  443 ??         3:40.67 /System/Library/PrivateFrameworks/AmbientDisplay.framework/Versions/A/XPCServices/com.apple.AmbientDisplayAgent.xpc/Contents/MacOS/com.apple.AmbientDisplayAgent',\n",
       " b'  444 ??         0:51.61 /usr/sbin/usernoted',\n",
       " b'  446 ??         3:05.69 /System/Library/CoreServices/NotificationCenter.app/Contents/MacOS/NotificationCenter',\n",
       " b'  450 ??         9:35.02 /System/Library/CoreServices/lockoutagent',\n",
       " b'  460 ??         3:20.51 /System/Library/CoreServices/WiFiAgent.app/Contents/MacOS/WiFiAgent',\n",
       " b'  463 ??         0:40.75 /System/Library/PrivateFrameworks/IMCore.framework/imagent.app/Contents/MacOS/imagent',\n",
       " b'  468 ??         0:04.55 /System/Library/Frameworks/CryptoTokenKit.framework/ctkd -tw',\n",
       " b'  479 ??         0:06.95 /System/Library/CoreServices/SubmitDiagInfo server-init',\n",
       " b'  480 ??         0:33.08 /System/Library/PrivateFrameworks/FamilyCircle.framework/Versions/A/Resources/familycircled',\n",
       " b'  514 ??         0:04.46 /System/Library/CoreServices/backgroundtaskmanagementagent',\n",
       " b'  519 ??        23:17.35 /System/Library/Frameworks/ApplicationServices.framework/Frameworks/ATS.framework/Support/fontd',\n",
       " b'  523 ??         0:36.38 /System/Library/PrivateFrameworks/PassKitCore.framework/passd',\n",
       " b'  524 ??       151:32.81 /System/Library/PrivateFrameworks/CloudDocsDaemon.framework/Versions/A/Support/bird',\n",
       " b'  526 ??         1:31.95 /System/Library/Frameworks/CoreServices.framework/Frameworks/Metadata.framework/Versions/A/Support/corespotlightd',\n",
       " b'  530 ??        12:59.80 /usr/libexec/sharingd',\n",
       " b'  531 ??         5:39.98 /System/Library/PrivateFrameworks/UserActivity.framework/Agents/useractivityd',\n",
       " b'  535 ??         0:17.48 /System/Library/CoreServices/sharedfilelistd',\n",
       " b'  536 ??         0:24.30 /System/Library/PrivateFrameworks/MediaRemote.framework/Support/mediaremoteagent',\n",
       " b'  539 ??         0:05.77 /System/Library/PrivateFrameworks/CommerceKit.framework/Versions/A/Resources/storeaccountd',\n",
       " b'  540 ??         1:17.54 /System/Library/PrivateFrameworks/CommerceKit.framework/Versions/A/Resources/commerce',\n",
       " b'  541 ??         0:02.97 /System/Library/PrivateFrameworks/CoreFP.framework/Versions/A/fpsd',\n",
       " b'  550 ??         0:01.33 /System/Library/Frameworks/ApplicationServices.framework/Frameworks/SpeechSynthesis.framework/Resources/com.apple.speech.speechsynthesisd',\n",
       " b'  554 ??        13:34.94 /System/Library/PrivateFrameworks/StorageKit.framework/Resources/storagekitd',\n",
       " b'  565 ??         0:51.79 /System/Library/CoreServices/diagnostics_agent',\n",
       " b'  568 ??         0:00.88 /System/Library/PrivateFrameworks/CommerceKit.framework/Versions/A/Resources/storedownloadd',\n",
       " b'  578 ??         1:39.15 /usr/sbin/filecoordinationd',\n",
       " b'  588 ??         0:00.79 /System/Library/CoreServices/CrashReporterSupportHelper server-init',\n",
       " b'  597 ??         0:11.04 /System/Library/Frameworks/InputMethodKit.framework/Resources/imklaunchagent',\n",
       " b'  628 ??         1:55.67 /System/Library/Input Methods/PressAndHold.app/Contents/PlugIns/PAH_Extension.appex/Contents/MacOS/PAH_Extension',\n",
       " b'  883 ??         0:02.67 /System/Library/Frameworks/CoreServices.framework/Frameworks/Metadata.framework/Versions/A/Support/mdwrite',\n",
       " b'  884 ??         9:57.89 /System/Library/CoreServices/Spotlight.app/Contents/MacOS/Spotlight',\n",
       " b' 1312 ??         0:25.54 /usr/libexec/lsd',\n",
       " b' 1330 ??         0:02.45 /usr/sbin/distnoted agent',\n",
       " b' 1434 ??       1270:22.63 /Applications/Google Chrome.app/Contents/MacOS/Google Chrome -psn_0_127007',\n",
       " b' 1436 ??       267:05.52 /System/Applications/Utilities/Terminal.app/Contents/MacOS/Terminal -psn_0_131104',\n",
       " b' 1441 ??       128:58.42 /System/Applications/Utilities/Activity Monitor.app/Contents/MacOS/Activity Monitor -psn_0_151589',\n",
       " b' 1442 ??         0:00.12 /Users/mac/opt/anaconda3/Anaconda-Navigator.app/Contents/MacOS/python /Users/mac/opt/anaconda3/Anaconda-Navigator.app/Contents/MacOS/run.py -psn_0_155686',\n",
       " b' 1444 ??        13:28.98 /Applications/Sublime Text.app/Contents/MacOS/Sublime Text -psn_0_163880',\n",
       " b' 1447 ??        25:12.79 /System/Library/CoreServices/SystemUIServer.app/Contents/MacOS/SystemUIServer',\n",
       " b' 1454 ??         0:05.69 /System/Library/PrivateFrameworks/AMPDevices.framework/Versions/A/Support/AMPDeviceDiscoveryAgent --launchd',\n",
       " b' 1525 ??         0:17.43 /Applications/Google Chrome.app/Contents/Frameworks/Google Chrome Framework.framework/Versions/80.0.3987.163/Helpers/chrome_crashpad_handler --monitor-self-annotation=ptype=crashpad-handler --database=/Users/mac/Library/Application Support/Google/Chrome/Crashpad --metrics-dir=/Users/mac/Library/Application Support/Google/Chrome --url=https://clients2.google.com/cr/report --annotation=channel= --annotation=plat=OS X --annotation=prod=Chrome_Mac --annotation=ver=80.0.3987.163 --handshake-fd=7',\n",
       " b' 1529 ??       461:32.58 /Applications/Google Chrome.app/Contents/Frameworks/Google Chrome Framework.framework/Versions/80.0.3987.163/Helpers/Google Chrome Helper.app/Contents/MacOS/Google Chrome Helper --type=utility --field-trial-handle=1718379636,10952369121853722800,11467733939659010545,131072 --lang=en-US --service-sandbox-type=network --enable-audio-service-sandbox --metrics-client-id=e270376f-1c88-4da2-be8a-e14b85486271 --shared-files --seatbelt-client=16',\n",
       " b' 1533 ??         0:37.60 /Applications/Google Chrome.app/Contents/Frameworks/Google Chrome Framework.framework/Versions/80.0.3987.163/Helpers/Google Chrome Helper (Renderer).app/Contents/MacOS/Google Chrome Helper (Renderer) --type=renderer --field-trial-handle=1718379636,10952369121853722800,11467733939659010545,131072 --lang=en-US --metrics-client-id=e270376f-1c88-4da2-be8a-e14b85486271 --extension-process --enable-auto-reload --num-raster-threads=2 --enable-zero-copy --enable-gpu-memory-buffer-compositor-resources --enable-main-frame-before-activation --renderer-client-id=4 --no-v8-untrusted-code-mitigations --shared-files --seatbelt-client=63',\n",
       " b' 1544 ??        25:23.68 /Users/mac/opt/anaconda3/bin/python /Users/mac/opt/anaconda3/bin/anaconda-navigator',\n",
       " b' 1581 ??        58:52.96 /Applications/Google Chrome.app/Contents/Frameworks/Google Chrome Framework.framework/Versions/80.0.3987.163/Helpers/Google Chrome Helper.app/Contents/MacOS/Google Chrome Helper --type=utility --field-trial-handle=1718379636,10952369121853722800,11467733939659010545,131072 --lang=en-US --service-sandbox-type=audio --enable-audio-service-sandbox --message-loop-type-ui --metrics-client-id=e270376f-1c88-4da2-be8a-e14b85486271 --shared-files --seatbelt-client=190',\n",
       " b' 1584 ??         0:11.60 /System/Library/Frameworks/ApplicationServices.framework/Frameworks/SpeechSynthesis.framework/Resources/com.apple.speech.speechsynthesisd',\n",
       " b' 1607 ??         0:46.63 /System/Library/PrivateFrameworks/CommerceKit.framework/Versions/A/Resources/storeuid.app/Contents/MacOS/storeuid',\n",
       " b' 1614 ??         0:03.47 /System/Library/PrivateFrameworks/CoreSpeech.framework/corespeechd',\n",
       " b' 1617 ??         0:04.95 /System/Library/CoreServices/SocialPushAgent.app/Contents/MacOS/SocialPushAgent',\n",
       " b' 1621 ??         0:10.23 /System/Library/Image Capture/Support/icdd',\n",
       " b' 1627 ??         0:37.35 /System/Library/CoreServices/AirPlayUIAgent.app/Contents/MacOS/AirPlayUIAgent --launchd',\n",
       " b' 1628 ??         2:51.01 /System/Library/CoreServices/cloudpaird',\n",
       " b' 1629 ??         8:12.96 /Applications/BlueJeans.app/Contents/Resources/daemon/BlueJeansHelper.app/Contents/MacOS/BlueJeansHelper',\n",
       " b' 1632 ??         0:00.93 /System/Library/Frameworks/CryptoTokenKit.framework/ctkahp.bundle/Contents/MacOS/ctkahp -d',\n",
       " b' 1636 ??         0:00.75 /System/Library/Frameworks/CryptoTokenKit.framework/ctkahp.bundle/Contents/MacOS/ctkahp',\n",
       " b' 1654 ??         4:06.12 /Applications/Postgres.app/Contents/MacOS/PostgresMenuHelper.app/Contents/MacOS/PostgresMenuHelper',\n",
       " b' 7358 ??         0:00.00 (bash)',\n",
       " b' 7982 ??         0:08.56 /Users/mac/opt/anaconda3/bin/python -m ipykernel_launcher -f /Users/mac/Library/Jupyter/runtime/kernel-c1f356a4-1bc7-4aef-8ac2-0ee57e4c8739.json',\n",
       " b' 8163 ??         4:46.67 /Applications/Google Chrome.app/Contents/Frameworks/Google Chrome Framework.framework/Versions/80.0.3987.163/Helpers/Google Chrome Helper (Renderer).app/Contents/MacOS/Google Chrome Helper (Renderer) --type=renderer --field-trial-handle=1718379636,10952369121853722800,11467733939659010545,131072 --lang=en-US --metrics-client-id=e270376f-1c88-4da2-be8a-e14b85486271 --enable-auto-reload --num-raster-threads=2 --enable-zero-copy --enable-gpu-memory-buffer-compositor-resources --enable-main-frame-before-activation --renderer-client-id=32029 --no-v8-untrusted-code-mitigations --shared-files --seatbelt-client=399',\n",
       " b' 8294 ??         0:00.70 /System/Library/PrivateFrameworks/KerberosHelper/Helpers/DiskUnmountWatcher',\n",
       " b' 8494 ??         0:00.13 /usr/bin/ssh-agent -l',\n",
       " b' 8620 ??         0:15.88 /Users/mac/opt/anaconda3/bin/python -m ipykernel_launcher -f /Users/mac/Library/Jupyter/runtime/kernel-62ac307a-02cb-481c-86c4-dac354ff541d.json',\n",
       " b' 8654 ??         0:05.72 /System/Library/PrivateFrameworks/ViewBridge.framework/Versions/A/XPCServices/ViewBridgeAuxiliary.xpc/Contents/MacOS/ViewBridgeAuxiliary',\n",
       " b'12893 ??        63:10.67 /Applications/Google Chrome.app/Contents/Frameworks/Google Chrome Framework.framework/Versions/80.0.3987.163/Helpers/Google Chrome Helper (Renderer).app/Contents/MacOS/Google Chrome Helper (Renderer) --type=renderer --field-trial-handle=1718379636,10952369121853722800,11467733939659010545,131072 --lang=en-US --metrics-client-id=e270376f-1c88-4da2-be8a-e14b85486271 --enable-auto-reload --num-raster-threads=2 --enable-zero-copy --enable-gpu-memory-buffer-compositor-resources --enable-main-frame-before-activation --renderer-client-id=11092 --no-v8-untrusted-code-mitigations --shared-files --seatbelt-client=157',\n",
       " b'13352 ??         0:30.55 /usr/libexec/avconferenced',\n",
       " b'13423 ??         0:20.85 /System/Applications/App Store.app/Contents/MacOS/App Store',\n",
       " b'13425 ??         0:17.70 /System/Library/PrivateFrameworks/AppStoreDaemon.framework/Support/appstoreagent',\n",
       " b'13476 ??         0:05.67 /System/Applications/System Preferences.app/Contents/MacOS/System Preferences',\n",
       " b'13477 ??         0:04.85 /System/Library/PrivateFrameworks/AOSUI.framework/Versions/A/XPCServices/AccountProfileRemoteViewService.xpc/Contents/MacOS/AccountProfileRemoteViewService',\n",
       " b'13687 ??         0:01.60 /Library/PrivilegedHelperTools/com.docker.vmnetd',\n",
       " b'13719 ??         0:00.04 /System/Library/PrivateFrameworks/PackageKit.framework/Resources/system_installd',\n",
       " b'13720 ??         0:29.98 /System/Library/PrivateFrameworks/PackageKit.framework/Resources/installd',\n",
       " b'13979 ??         1:58.28 /Applications/Google Chrome.app/Contents/Frameworks/Google Chrome Framework.framework/Versions/80.0.3987.163/Helpers/Google Chrome Helper (Renderer).app/Contents/MacOS/Google Chrome Helper (Renderer) --type=renderer --field-trial-handle=1718379636,10952369121853722800,11467733939659010545,131072 --lang=en-US --metrics-client-id=e270376f-1c88-4da2-be8a-e14b85486271 --enable-auto-reload --num-raster-threads=2 --enable-zero-copy --enable-gpu-memory-buffer-compositor-resources --enable-main-frame-before-activation --renderer-client-id=32460 --no-v8-untrusted-code-mitigations --shared-files --seatbelt-client=342',\n",
       " b'13983 ??         0:02.53 /Applications/Google Chrome.app/Contents/Frameworks/Google Chrome Framework.framework/Versions/80.0.3987.163/Helpers/Google Chrome Helper (Renderer).app/Contents/MacOS/Google Chrome Helper (Renderer) --type=renderer --field-trial-handle=1718379636,10952369121853722800,11467733939659010545,131072 --lang=en-US --metrics-client-id=e270376f-1c88-4da2-be8a-e14b85486271 --enable-auto-reload --num-raster-threads=2 --enable-zero-copy --enable-gpu-memory-buffer-compositor-resources --enable-main-frame-before-activation --renderer-client-id=32461 --no-v8-untrusted-code-mitigations --shared-files --seatbelt-client=342',\n",
       " b'14262 ??         3:48.31 /Applications/Google Chrome.app/Contents/Frameworks/Google Chrome Framework.framework/Versions/80.0.3987.163/Helpers/Google Chrome Helper (Renderer).app/Contents/MacOS/Google Chrome Helper (Renderer) --type=renderer --field-trial-handle=1718379636,10952369121853722800,11467733939659010545,131072 --lang=en-US --metrics-client-id=e270376f-1c88-4da2-be8a-e14b85486271 --enable-auto-reload --num-raster-threads=2 --enable-zero-copy --enable-gpu-memory-buffer-compositor-resources --enable-main-frame-before-activation --renderer-client-id=32533 --no-v8-untrusted-code-mitigations --shared-files --seatbelt-client=411',\n",
       " b'14265 ??         0:01.91 /Applications/Google Chrome.app/Contents/Frameworks/Google Chrome Framework.framework/Versions/80.0.3987.163/Helpers/Google Chrome Helper (Renderer).app/Contents/MacOS/Google Chrome Helper (Renderer) --type=renderer --field-trial-handle=1718379636,10952369121853722800,11467733939659010545,131072 --lang=en-US --metrics-client-id=e270376f-1c88-4da2-be8a-e14b85486271 --enable-auto-reload --num-raster-threads=2 --enable-zero-copy --enable-gpu-memory-buffer-compositor-resources --enable-main-frame-before-activation --renderer-client-id=32534 --no-v8-untrusted-code-mitigations --shared-files --seatbelt-client=248',\n",
       " b'14614 ??         1:03.29 /System/Library/Frameworks/CoreTelephony.framework/Support/CommCenter -L',\n",
       " b'15433 ??         0:51.72 /Applications/Google Chrome.app/Contents/Frameworks/Google Chrome Framework.framework/Versions/80.0.3987.163/Helpers/Google Chrome Helper (Renderer).app/Contents/MacOS/Google Chrome Helper (Renderer) --type=renderer --field-trial-handle=1718379636,10952369121853722800,11467733939659010545,131072 --lang=en-US --metrics-client-id=e270376f-1c88-4da2-be8a-e14b85486271 --enable-auto-reload --num-raster-threads=2 --enable-zero-copy --enable-gpu-memory-buffer-compositor-resources --enable-main-frame-before-activation --renderer-client-id=32570 --no-v8-untrusted-code-mitigations --shared-files --seatbelt-client=315',\n",
       " b'15601 ??         0:01.65 /usr/libexec/USBAgent',\n",
       " b'16212 ??         0:00.89 /System/Library/PrivateFrameworks/DiskImages.framework/Resources/hdiejectd',\n",
       " b'16214 ??         0:02.30 /System/Library/PrivateFrameworks/DiskImages.framework/Resources/diskimages-helper -uuid EC95333E-8D83-4A30-856D-6A4E44D62B65 -post-exec 4',\n",
       " b'16295 ??       137:09.39 /Applications/Google Chrome.app/Contents/Frameworks/Google Chrome Framework.framework/Versions/80.0.3987.163/Helpers/Google Chrome Helper (Renderer).app/Contents/MacOS/Google Chrome Helper (Renderer) --type=renderer --field-trial-handle=1718379636,10952369121853722800,11467733939659010545,131072 --lang=en-US --metrics-client-id=e270376f-1c88-4da2-be8a-e14b85486271 --enable-auto-reload --num-raster-threads=2 --enable-zero-copy --enable-gpu-memory-buffer-compositor-resources --enable-main-frame-before-activation --renderer-client-id=28076 --no-v8-untrusted-code-mitigations --shared-files --seatbelt-client=159',\n",
       " b'16302 ??         0:00.73 /System/Library/PrivateFrameworks/DiskImages.framework/Resources/diskimages-helper -uuid 562BDF0E-A35A-4089-A25D-3A4D3EA40C65 -post-exec 4',\n",
       " b'16552 ??        20:14.90 /Applications/Google Chrome.app/Contents/Frameworks/Google Chrome Framework.framework/Versions/80.0.3987.163/Helpers/Google Chrome Helper (Renderer).app/Contents/MacOS/Google Chrome Helper (Renderer) --type=renderer --field-trial-handle=1718379636,10952369121853722800,11467733939659010545,131072 --lang=en-US --metrics-client-id=e270376f-1c88-4da2-be8a-e14b85486271 --enable-auto-reload --num-raster-threads=2 --enable-zero-copy --enable-gpu-memory-buffer-compositor-resources --enable-main-frame-before-activation --renderer-client-id=28079 --no-v8-untrusted-code-mitigations --shared-files --seatbelt-client=177',\n",
       " b'16705 ??         0:01.48 /System/Library/Frameworks/ApplicationServices.framework/Frameworks/ATS.framework/Support/fontd',\n",
       " b'17207 ??         0:43.47 /Applications/Google Chrome.app/Contents/Frameworks/Google Chrome Framework.framework/Versions/80.0.3987.163/Helpers/Google Chrome Helper (Renderer).app/Contents/MacOS/Google Chrome Helper (Renderer) --type=renderer --field-trial-handle=1718379636,10952369121853722800,11467733939659010545,131072 --lang=en-US --metrics-client-id=e270376f-1c88-4da2-be8a-e14b85486271 --enable-auto-reload --num-raster-threads=2 --enable-zero-copy --enable-gpu-memory-buffer-compositor-resources --enable-main-frame-before-activation --renderer-client-id=32659 --no-v8-untrusted-code-mitigations --shared-files --seatbelt-client=336',\n",
       " b'17213 ??         0:01.83 /Applications/Google Chrome.app/Contents/Frameworks/Google Chrome Framework.framework/Versions/80.0.3987.163/Helpers/Google Chrome Helper (Renderer).app/Contents/MacOS/Google Chrome Helper (Renderer) --type=renderer --field-trial-handle=1718379636,10952369121853722800,11467733939659010545,131072 --lang=en-US --metrics-client-id=e270376f-1c88-4da2-be8a-e14b85486271 --enable-auto-reload --num-raster-threads=2 --enable-zero-copy --enable-gpu-memory-buffer-compositor-resources --enable-main-frame-before-activation --renderer-client-id=32660 --no-v8-untrusted-code-mitigations --shared-files --seatbelt-client=336',\n",
       " b'17461 ??        13:52.33 /System/Library/PrivateFrameworks/ScreenTimeCore.framework/Versions/A/ScreenTimeAgent',\n",
       " b'18965 ??         0:01.81 /System/Library/PrivateFrameworks/DiskImages.framework/Resources/diskimages-helper -uuid A79A9E4A-A79C-4DB1-8B0D-CCFC4DCB371C -post-exec 4',\n",
       " b'19384 ??         0:01.65 /System/Library/PrivateFrameworks/DiskImages.framework/Resources/diskimages-helper -uuid DFAA8A30-F308-457F-BD90-DBF40D86E652 -post-exec 4',\n",
       " b'19590 ??         0:01.62 /System/Library/PrivateFrameworks/DiskImages.framework/Resources/diskimages-helper -uuid 26ABEFFB-4219-4EA3-9523-2E87AD032F63 -post-exec 4',\n",
       " b'19643 ??         0:00.72 /System/Library/PrivateFrameworks/DiskImages.framework/Resources/diskimages-helper -uuid 85D5ACB0-2809-4D4F-9C7C-C778E86A8F10 -post-exec 4',\n",
       " b'20574 ??         0:00.68 /System/Library/CoreServices/sharedfilelistd',\n",
       " b'21045 ??         0:01.15 /System/Library/PrivateFrameworks/DiskImages.framework/Resources/diskimages-helper -uuid 93CC9523-0184-48D0-BFAA-4FE0268D3CCD -post-exec 4',\n",
       " b'21110 ??         0:06.69 /System/Library/PrivateFrameworks/IMDPersistence.framework/IMAutomaticHistoryDeletionAgent.app/Contents/MacOS/IMAutomaticHistoryDeletionAgent',\n",
       " b'21210 ??         0:05.30 /System/Library/PrivateFrameworks/BookKit.framework/Versions/A/XPCServices/com.apple.BKAgentService.xpc/Contents/MacOS/com.apple.BKAgentService',\n",
       " b'23021 ??         0:01.75 /System/Applications/Books.app/Contents/PlugIns/DiskSpaceEfficiency.appex/Contents/MacOS/DiskSpaceEfficiency',\n",
       " b'24055 ??         0:01.94 /System/Library/PrivateFrameworks/DiskImages.framework/Resources/diskimages-helper -uuid 3C7ECEBA-DF93-4F61-8BED-A9ADBAFD504E -post-exec 4',\n",
       " b'24153 ??         0:00.77 /System/Library/PrivateFrameworks/DiskImages.framework/Resources/diskimages-helper -uuid 82D40F77-0DE9-4B58-AB0A-1BFA89BF3FDB -post-exec 4',\n",
       " b'24983 ??        86:36.51 /Applications/Google Chrome.app/Contents/Frameworks/Google Chrome Framework.framework/Versions/80.0.3987.163/Helpers/Google Chrome Helper (Renderer).app/Contents/MacOS/Google Chrome Helper (Renderer) --type=renderer --field-trial-handle=1718379636,10952369121853722800,11467733939659010545,131072 --lang=en-US --metrics-client-id=e270376f-1c88-4da2-be8a-e14b85486271 --enable-auto-reload --num-raster-threads=2 --enable-zero-copy --enable-gpu-memory-buffer-compositor-resources --enable-main-frame-before-activation --renderer-client-id=32768 --no-v8-untrusted-code-mitigations --shared-files --seatbelt-client=422',\n",
       " b'27701 ??         0:29.39 /Applications/Google Chrome.app/Contents/Frameworks/Google Chrome Framework.framework/Versions/80.0.3987.163/Helpers/Google Chrome Helper (Renderer).app/Contents/MacOS/Google Chrome Helper (Renderer) --type=renderer --field-trial-handle=1718379636,10952369121853722800,11467733939659010545,131072 --lang=en-US --metrics-client-id=e270376f-1c88-4da2-be8a-e14b85486271 --enable-auto-reload --num-raster-threads=2 --enable-zero-copy --enable-gpu-memory-buffer-compositor-resources --enable-main-frame-before-activation --renderer-client-id=32793 --no-v8-untrusted-code-mitigations --shared-files --seatbelt-client=336',\n",
       " b'27703 ??         0:17.00 /Applications/Google Chrome.app/Contents/Frameworks/Google Chrome Framework.framework/Versions/80.0.3987.163/Helpers/Google Chrome Helper (Renderer).app/Contents/MacOS/Google Chrome Helper (Renderer) --type=renderer --field-trial-handle=1718379636,10952369121853722800,11467733939659010545,131072 --lang=en-US --metrics-client-id=e270376f-1c88-4da2-be8a-e14b85486271 --enable-auto-reload --num-raster-threads=2 --enable-zero-copy --enable-gpu-memory-buffer-compositor-resources --enable-main-frame-before-activation --renderer-client-id=32794 --no-v8-untrusted-code-mitigations --shared-files --seatbelt-client=336',\n",
       " b'27722 ??         0:02.05 /Applications/Google Chrome.app/Contents/Frameworks/Google Chrome Framework.framework/Versions/80.0.3987.163/Helpers/Google Chrome Helper (Renderer).app/Contents/MacOS/Google Chrome Helper (Renderer) --type=renderer --field-trial-handle=1718379636,10952369121853722800,11467733939659010545,131072 --lang=en-US --metrics-client-id=e270376f-1c88-4da2-be8a-e14b85486271 --enable-auto-reload --num-raster-threads=2 --enable-zero-copy --enable-gpu-memory-buffer-compositor-resources --enable-main-frame-before-activation --renderer-client-id=32796 --no-v8-untrusted-code-mitigations --shared-files --seatbelt-client=337',\n",
       " b'27723 ??         0:01.67 /Applications/Google Chrome.app/Contents/Frameworks/Google Chrome Framework.framework/Versions/80.0.3987.163/Helpers/Google Chrome Helper (Renderer).app/Contents/MacOS/Google Chrome Helper (Renderer) --type=renderer --field-trial-handle=1718379636,10952369121853722800,11467733939659010545,131072 --lang=en-US --metrics-client-id=e270376f-1c88-4da2-be8a-e14b85486271 --enable-auto-reload --num-raster-threads=2 --enable-zero-copy --enable-gpu-memory-buffer-compositor-resources --enable-main-frame-before-activation --renderer-client-id=32797 --no-v8-untrusted-code-mitigations --shared-files --seatbelt-client=337',\n",
       " b'27736 ??         0:01.65 /Applications/Google Chrome.app/Contents/Frameworks/Google Chrome Framework.framework/Versions/80.0.3987.163/Helpers/Google Chrome Helper (Renderer).app/Contents/MacOS/Google Chrome Helper (Renderer) --type=renderer --field-trial-handle=1718379636,10952369121853722800,11467733939659010545,131072 --lang=en-US --metrics-client-id=e270376f-1c88-4da2-be8a-e14b85486271 --enable-auto-reload --num-raster-threads=2 --enable-zero-copy --enable-gpu-memory-buffer-compositor-resources --enable-main-frame-before-activation --renderer-client-id=32801 --no-v8-untrusted-code-mitigations --shared-files --seatbelt-client=405',\n",
       " b'27746 ??         0:03.21 /Applications/Google Chrome.app/Contents/Frameworks/Google Chrome Framework.framework/Versions/80.0.3987.163/Helpers/Google Chrome Helper (Renderer).app/Contents/MacOS/Google Chrome Helper (Renderer) --type=renderer --field-trial-handle=1718379636,10952369121853722800,11467733939659010545,131072 --lang=en-US --metrics-client-id=e270376f-1c88-4da2-be8a-e14b85486271 --enable-auto-reload --num-raster-threads=2 --enable-zero-copy --enable-gpu-memory-buffer-compositor-resources --enable-main-frame-before-activation --renderer-client-id=32808 --no-v8-untrusted-code-mitigations --shared-files --seatbelt-client=432',\n",
       " b'27788 ??         0:01.56 /Applications/Google Chrome.app/Contents/Frameworks/Google Chrome Framework.framework/Versions/80.0.3987.163/Helpers/Google Chrome Helper (Renderer).app/Contents/MacOS/Google Chrome Helper (Renderer) --type=renderer --field-trial-handle=1718379636,10952369121853722800,11467733939659010545,131072 --lang=en-US --metrics-client-id=e270376f-1c88-4da2-be8a-e14b85486271 --enable-auto-reload --num-raster-threads=2 --enable-zero-copy --enable-gpu-memory-buffer-compositor-resources --enable-main-frame-before-activation --renderer-client-id=32810 --no-v8-untrusted-code-mitigations --shared-files --seatbelt-client=322',\n",
       " b'27791 ??         0:01.68 /Applications/Google Chrome.app/Contents/Frameworks/Google Chrome Framework.framework/Versions/80.0.3987.163/Helpers/Google Chrome Helper (Renderer).app/Contents/MacOS/Google Chrome Helper (Renderer) --type=renderer --field-trial-handle=1718379636,10952369121853722800,11467733939659010545,131072 --lang=en-US --metrics-client-id=e270376f-1c88-4da2-be8a-e14b85486271 --enable-auto-reload --num-raster-threads=2 --enable-zero-copy --enable-gpu-memory-buffer-compositor-resources --enable-main-frame-before-activation --renderer-client-id=32811 --no-v8-untrusted-code-mitigations --shared-files --seatbelt-client=322',\n",
       " b'31689 ??         0:01.49 /Applications/Google Chrome.app/Contents/Frameworks/Google Chrome Framework.framework/Versions/80.0.3987.163/Helpers/Google Chrome Helper (Renderer).app/Contents/MacOS/Google Chrome Helper (Renderer) --type=renderer --field-trial-handle=1718379636,10952369121853722800,11467733939659010545,131072 --lang=en-US --metrics-client-id=e270376f-1c88-4da2-be8a-e14b85486271 --enable-auto-reload --num-raster-threads=2 --enable-zero-copy --enable-gpu-memory-buffer-compositor-resources --enable-main-frame-before-activation --renderer-client-id=30214 --no-v8-untrusted-code-mitigations --shared-files --seatbelt-client=248',\n",
       " b'33129 ??         0:30.47 /Applications/Google Chrome.app/Contents/Frameworks/Google Chrome Framework.framework/Versions/80.0.3987.163/Helpers/Google Chrome Helper (Renderer).app/Contents/MacOS/Google Chrome Helper (Renderer) --type=renderer --field-trial-handle=1718379636,10952369121853722800,11467733939659010545,131072 --lang=en-US --metrics-client-id=e270376f-1c88-4da2-be8a-e14b85486271 --enable-auto-reload --num-raster-threads=2 --enable-zero-copy --enable-gpu-memory-buffer-compositor-resources --enable-main-frame-before-activation --renderer-client-id=32918 --no-v8-untrusted-code-mitigations --shared-files --seatbelt-client=319',\n",
       " b'33313 ??         3:38.40 /Applications/Google Chrome.app/Contents/Frameworks/Google Chrome Framework.framework/Versions/80.0.3987.163/Helpers/Google Chrome Helper (Renderer).app/Contents/MacOS/Google Chrome Helper (Renderer) --type=renderer --field-trial-handle=1718379636,10952369121853722800,11467733939659010545,131072 --lang=en-US --metrics-client-id=e270376f-1c88-4da2-be8a-e14b85486271 --enable-auto-reload --num-raster-threads=2 --enable-zero-copy --enable-gpu-memory-buffer-compositor-resources --enable-main-frame-before-activation --renderer-client-id=32930 --no-v8-untrusted-code-mitigations --shared-files --seatbelt-client=315',\n",
       " b'33502 ??         0:00.00 (python3.7)',\n",
       " b'33537 ??         0:00.00 (python3.7)',\n",
       " b'33642 ??         0:00.01 /Users/mac/Library/Application Support/Steam/Steam.AppBundle/Steam/Contents/MacOS/ipcserver',\n",
       " b'35389 ??         0:46.94 /Users/mac/.conda/envs/Anomaly_Detection_LSTM_AutoEncoder/bin/python /Users/mac/Documents/GitHub/anomaly_detection_framework/web/main.py train lstm BayiKodu - Tarih KisiSayimi csv ml3yil_20200429.csv',\n",
       " b'38175 ??         0:16.12 /System/Library/Frameworks/WebKit.framework/Versions/A/XPCServices/com.apple.WebKit.WebContent.xpc/Contents/MacOS/com.apple.WebKit.WebContent',\n",
       " b'38176 ??         0:02.09 /System/Library/Frameworks/WebKit.framework/Versions/A/XPCServices/com.apple.WebKit.Networking.xpc/Contents/MacOS/com.apple.WebKit.Networking',\n",
       " b'39030 ??         2:45.39 /Applications/Postgres.app/Contents/Versions/11/bin/postgres -D /Users/mac/Library/Application Support/Postgres/var-11 -p 5439',\n",
       " b'39032 ??         0:00.79 postgres: checkpointer       ',\n",
       " b'39033 ??         0:14.73 postgres: background writer       ',\n",
       " b'39034 ??         0:13.46 postgres: walwriter       ',\n",
       " b'39035 ??         2:56.44 postgres: autovacuum launcher       ',\n",
       " b'39036 ??        10:53.01 postgres: stats collector       ',\n",
       " b'39037 ??         0:01.42 postgres: logical replication launcher       ',\n",
       " b'40092 ??       414:50.73 /Applications/PyCharm CE.app/Contents/MacOS/pycharm',\n",
       " b'40395 ??         0:51.66 /Applications/PyCharm CE.app/Contents/bin/fsnotifier',\n",
       " b'42199 ??         0:32.53 /Applications/Docker.app/Contents/MacOS/Docker',\n",
       " b'42219 ??         0:18.66 /Applications/Docker.app/Contents/MacOS/com.docker.supervisor -watchdog',\n",
       " b'42220 ??         0:26.86 /Applications/Docker.app/Contents/MacOS/com.docker.backend -watchdog',\n",
       " b'42225 ??        13:51.30 com.docker.osxfs serve --address fd:3 --connect vms/0/connect --control fd:4 --log-destination asl',\n",
       " b'42233 ??         3:13.11 com.docker.vpnkit --ethernet fd:3 --diagnostics fd:4 --pcap fd:5 --vsock-path vms/0/connect --gateway-forwards /Users/mac/Library/Group Containers/group.com.docker/gateway_forwards.json --host-names host.docker.internal,docker.for.mac.host.internal,docker.for.mac.localhost --listen-backlog 32 --mtu 1500 --allowed-bind-addresses 0.0.0.0 --http /Users/mac/Library/Group Containers/group.com.docker/http_proxy.json --dhcp /Users/mac/Library/Group Containers/group.com.docker/dhcp.json --port-max-idle-time 300 --max-connections 2000 --gateway-ip 192.168.65.1 --host-ip 192.168.65.2 --lowest-ip 192.168.65.3 --highest-ip 192.168.65.254 --log-destination asl --udpv4-forwards 123:127.0.0.1:64688 --gc-compact-interval 1800',\n",
       " b'42234 ??         9:50.12 vpnkit-bridge --addr listen://1999 host',\n",
       " b'42239 ??         0:00.00 (uname)',\n",
       " b'42240 ??         2:43.52 com.docker.driver.amd64-linux -addr fd:3 -debug',\n",
       " b'42242 ??         0:08.56 docker-mutagen mutagen daemon run',\n",
       " b'42246 ??       763:40.84 com.docker.hyperkit -A -u -F vms/0/hyperkit.pid -c 2 -m 2048M -s 0:0,hostbridge -s 31,lpc -s 1:0,virtio-vpnkit,path=vpnkit.eth.sock,uuid=bbb062dd-ec43-494d-800c-cbfe9422b213 -U 65599862-5dfc-4eff-82c6-08b23cd8de55 -s 2:0,virtio-blk,/Users/mac/Library/Containers/com.docker.docker/Data/vms/0/data/Docker.raw -s 3,virtio-sock,guest_cid=3,path=vms/0,guest_forwards=2376;1525 -s 4,ahci-cd,/Applications/Docker.app/Contents/Resources/linuxkit/docker-desktop.iso -s 5,ahci-cd,vms/0/config.iso -s 6,ahci-cd,/Applications/Docker.app/Contents/Resources/linuxkit/docker.iso -s 7,virtio-rnd -l com1,autopty=vms/0/tty,asl -f bootrom,/Applications/Docker.app/Contents/Resources/uefi/UEFI.fd,,',\n",
       " b'45758 ??        59:00.89 /private/var/folders/vf/24rm3s2x5rg55x6wlgz07lv00000gn/T/AppTranslocation/1A21114A-7643-4808-B877-0B5DB8A0A2EC/d/GitHub Desktop.app/Contents/MacOS/GitHub Desktop',\n",
       " b'45766 ??        19:11.55 /private/var/folders/vf/24rm3s2x5rg55x6wlgz07lv00000gn/T/AppTranslocation/1A21114A-7643-4808-B877-0B5DB8A0A2EC/d/GitHub Desktop.app/Contents/Frameworks/GitHub Desktop Helper.app/Contents/MacOS/GitHub Desktop Helper --type=gpu-process --no-sandbox --gpu-preferences=KAAAAAAAAACAAAAAAQAAAAAAAAAAAGAAEAAAAAAAAAAAAAAAAAAAADgBAAAmAAAAMAEAAAAAAAA4AQAAAAAAAEABAAAAAAAASAEAAAAAAABQAQAAAAAAAFgBAAAAAAAAYAEAAAAAAABoAQAAAAAAAHABAAAAAAAAeAEAAAAAAACAAQAAAAAAAIgBAAAAAAAAkAEAAAAAAACYAQAAAAAAAKABAAAAAAAAqAEAAAAAAACwAQAAAAAAALgBAAAAAAAAwAEAAAAAAADIAQAAAAAAANABAAAAAAAA2AEAAAAAAADgAQAAAAAAAOgBAAAAAAAA8AEAAAAAAAD4AQAAAAAAAAACAAAAAAAACAIAAAAAAAAQAgAAAAAAABgCAAAAAAAAIAIAAAAAAAAoAgAAAAAAADACAAAAAAAAOAIAAAAAAABAAgAAAAAAAEgCAAAAAAAAUAIAAAAAAABYAgAAAAAAABAAAAAAAAAAAAAAAAUAAAAQAAAAAAAAAAAAAAALAAAAEAAAAAAAAAAAAAAADAAAABAAAAAAAAAAAAAAAA0AAAAQAAAAAAAAAAAAAAAPAAAAEAAAAAAAAAAAAAAAEAAAABAAAAAAAAAAAAAAABIAAAAQAAAAAAAAAAAAAAATAAAAEAAAAAAAAAABAAAABQAAABAAAAAAAAAAAQAAAAsAAAAQAAAAAAAAAAEAAAAMAAAAEAAAAAAAAAABAAAADQAAABAAAAAAAAAAAQAAAA8AAAAQAAAAAAAAAAEAAAAQAAAAEAAAAAAAAAABAAAAEgAAABAAAAAAAAAAAQAAABMAAAAQAAAAAAAAAAMAAAAFAAAAEAAAAAAAAAADAAAACwAAABAAAAAAAAAAAwAAAAwAAAAQAAAAAAAAAAMAAAANAAAAEAAAAAAAAAADAAAADwAAABAAAAAAAAAAAwAAABAAAAAQAAAAAAAAAAMAAAASAAAAEAAAAAAAAAADAAAAEwAAABAAAAAAAAAABQAAAAUAAAAQAAAAAAAAAAUAAAALAAAAEAAAAAAAAAAFAAAADQAAABAAAAAAAAAABQAAAA8AAAAQAAAAAAAAAAUAAAAQAAAAEAAAAAAAAAAFAAAAEgAAABAAAAAAAAAABQAAABMAAAAQAAAAAAAAAAYAAAAFAAAAEAAAAAAAAAAGAAAACwAAABAAAAAAAAAABgAAAA0AAAAQAAAAAAAAAAYAAAAPAAAAEAAAAAAAAAAGAAAAEAAAABAAAAAAAAAABgAAABIAAAAQAAAAAAAAAAYAAAATAAAA --service-request-channel-token=B4A031F141D59289B1EF615D34972387',\n",
       " b'45767 ??       185:49.90 /private/var/folders/vf/24rm3s2x5rg55x6wlgz07lv00000gn/T/AppTranslocation/1A21114A-7643-4808-B877-0B5DB8A0A2EC/d/GitHub Desktop.app/Contents/Frameworks/GitHub Desktop Helper.app/Contents/MacOS/GitHub Desktop Helper --type=renderer --no-sandbox --service-pipe-token=401BB68B52215EAFD829052D9C4D7D18 --lang=en-US --app-path=/private/var/folders/vf/24rm3s2x5rg55x6wlgz07lv00000gn/T/AppTranslocation/1A21114A-7643-4808-B877-0B5DB8A0A2EC/d/GitHub Desktop.app/Contents/Resources/app --enable-experimental-web-platform-features --node-integration=true --webview-tag=true --no-sandbox --background-color=#fff --disable-blink-features=Auxclick --num-raster-threads=2 --enable-zero-copy --enable-gpu-memory-buffer-compositor-resources --enable-main-frame-before-activation --enable-compositor-image-animations --service-request-channel-token=401BB68B52215EAFD829052D9C4D7D18 --renderer-client-id=4',\n",
       " b'47258 ??         0:10.45 /usr/libexec/PerfPowerServices',\n",
       " b'48867 ??         0:04.38 /Applications/Google Chrome.app/Contents/Frameworks/Google Chrome Framework.framework/Versions/80.0.3987.163/Helpers/Google Chrome Helper (Renderer).app/Contents/MacOS/Google Chrome Helper (Renderer) --type=renderer --field-trial-handle=1718379636,10952369121853722800,11467733939659010545,131072 --lang=en-US --metrics-client-id=e270376f-1c88-4da2-be8a-e14b85486271 --enable-auto-reload --num-raster-threads=2 --enable-zero-copy --enable-gpu-memory-buffer-compositor-resources --enable-main-frame-before-activation --renderer-client-id=33168 --no-v8-untrusted-code-mitigations --shared-files --seatbelt-client=322',\n",
       " b'49436 ??         0:12.35 /System/Library/PrivateFrameworks/CoreDuetContext.framework/Resources/ContextStoreAgent',\n",
       " b'49903 ??         0:08.67 /Applications/Google Chrome.app/Contents/Frameworks/Google Chrome Framework.framework/Versions/80.0.3987.163/Helpers/Google Chrome Helper (Renderer).app/Contents/MacOS/Google Chrome Helper (Renderer) --type=renderer --field-trial-handle=1718379636,10952369121853722800,11467733939659010545,131072 --lang=en-US --metrics-client-id=e270376f-1c88-4da2-be8a-e14b85486271 --enable-auto-reload --num-raster-threads=2 --enable-zero-copy --enable-gpu-memory-buffer-compositor-resources --enable-main-frame-before-activation --renderer-client-id=33180 --no-v8-untrusted-code-mitigations --shared-files --seatbelt-client=337',\n",
       " b'50324 ??         0:09.26 /Applications/Google Chrome.app/Contents/Frameworks/Google Chrome Framework.framework/Versions/80.0.3987.163/Helpers/Google Chrome Helper (Renderer).app/Contents/MacOS/Google Chrome Helper (Renderer) --type=renderer --field-trial-handle=1718379636,10952369121853722800,11467733939659010545,131072 --lang=en-US --metrics-client-id=e270376f-1c88-4da2-be8a-e14b85486271 --extension-process --enable-auto-reload --num-raster-threads=2 --enable-zero-copy --enable-gpu-memory-buffer-compositor-resources --enable-main-frame-before-activation --renderer-client-id=33184 --no-v8-untrusted-code-mitigations --shared-files --seatbelt-client=108',\n",
       " b'50325 ??         0:33.58 /Applications/Google Chrome.app/Contents/Frameworks/Google Chrome Framework.framework/Versions/80.0.3987.163/Helpers/Google Chrome Helper (Renderer).app/Contents/MacOS/Google Chrome Helper (Renderer) --type=renderer --field-trial-handle=1718379636,10952369121853722800,11467733939659010545,131072 --lang=en-US --metrics-client-id=e270376f-1c88-4da2-be8a-e14b85486271 --enable-auto-reload --num-raster-threads=2 --enable-zero-copy --enable-gpu-memory-buffer-compositor-resources --enable-main-frame-before-activation --renderer-client-id=33185 --no-v8-untrusted-code-mitigations --shared-files --seatbelt-client=252',\n",
       " b'53070 ??         0:04.55 /usr/libexec/warmd',\n",
       " b'53479 ??         9:25.76 /System/Library/CoreServices/Dock.app/Contents/MacOS/Dock',\n",
       " b'53484 ??         0:26.99 /System/Library/CoreServices/Dock.app/Contents/XPCServices/com.apple.dock.extra.xpc/Contents/MacOS/com.apple.dock.extra',\n",
       " b'54228 ??         0:11.31 /Applications/Google Chrome.app/Contents/Frameworks/Google Chrome Framework.framework/Versions/80.0.3987.163/Helpers/Google Chrome Helper (Renderer).app/Contents/MacOS/Google Chrome Helper (Renderer) --type=renderer --field-trial-handle=1718379636,10952369121853722800,11467733939659010545,131072 --lang=en-US --metrics-client-id=e270376f-1c88-4da2-be8a-e14b85486271 --enable-auto-reload --num-raster-threads=2 --enable-zero-copy --enable-gpu-memory-buffer-compositor-resources --enable-main-frame-before-activation --renderer-client-id=33242 --no-v8-untrusted-code-mitigations --shared-files --seatbelt-client=266',\n",
       " b'54234 ??         0:01.09 /Applications/Google Chrome.app/Contents/Frameworks/Google Chrome Framework.framework/Versions/80.0.3987.163/Helpers/Google Chrome Helper (Renderer).app/Contents/MacOS/Google Chrome Helper (Renderer) --type=renderer --field-trial-handle=1718379636,10952369121853722800,11467733939659010545,131072 --lang=en-US --metrics-client-id=e270376f-1c88-4da2-be8a-e14b85486271 --enable-auto-reload --num-raster-threads=2 --enable-zero-copy --enable-gpu-memory-buffer-compositor-resources --enable-main-frame-before-activation --renderer-client-id=33244 --no-v8-untrusted-code-mitigations --shared-files --seatbelt-client=396',\n",
       " b'54237 ??         1:39.87 /Applications/Google Chrome.app/Contents/Frameworks/Google Chrome Framework.framework/Versions/80.0.3987.163/Helpers/Google Chrome Helper (Renderer).app/Contents/MacOS/Google Chrome Helper (Renderer) --type=renderer --field-trial-handle=1718379636,10952369121853722800,11467733939659010545,131072 --lang=en-US --metrics-client-id=e270376f-1c88-4da2-be8a-e14b85486271 --enable-auto-reload --num-raster-threads=2 --enable-zero-copy --enable-gpu-memory-buffer-compositor-resources --enable-main-frame-before-activation --renderer-client-id=33245 --no-v8-untrusted-code-mitigations --shared-files --seatbelt-client=396',\n",
       " b'54363 ??         0:04.14 /Applications/Google Chrome.app/Contents/Frameworks/Google Chrome Framework.framework/Versions/80.0.3987.163/Helpers/Google Chrome Helper (Renderer).app/Contents/MacOS/Google Chrome Helper (Renderer) --type=renderer --field-trial-handle=1718379636,10952369121853722800,11467733939659010545,131072 --lang=en-US --metrics-client-id=e270376f-1c88-4da2-be8a-e14b85486271 --enable-auto-reload --num-raster-threads=2 --enable-zero-copy --enable-gpu-memory-buffer-compositor-resources --enable-main-frame-before-activation --renderer-client-id=33261 --no-v8-untrusted-code-mitigations --shared-files --seatbelt-client=396',\n",
       " b'56338 ??         0:06.89 /Applications/Sublime Text.app/Contents/MacOS/plugin_host 1444 --auto-shell-env',\n",
       " b'57219 ??         0:06.61 /Applications/Google Chrome.app/Contents/Frameworks/Google Chrome Framework.framework/Versions/80.0.3987.163/Helpers/Google Chrome Helper (Renderer).app/Contents/MacOS/Google Chrome Helper (Renderer) --type=renderer --field-trial-handle=1718379636,10952369121853722800,11467733939659010545,131072 --lang=en-US --metrics-client-id=e270376f-1c88-4da2-be8a-e14b85486271 --enable-auto-reload --num-raster-threads=2 --enable-zero-copy --enable-gpu-memory-buffer-compositor-resources --enable-main-frame-before-activation --renderer-client-id=33307 --no-v8-untrusted-code-mitigations --shared-files --seatbelt-client=266',\n",
       " b'57355 ??         0:00.16 /usr/sbin/netbiosd',\n",
       " b'57666 ??         0:01.45 /usr/libexec/trustd',\n",
       " b'57712 ??         0:07.02 /System/Library/Frameworks/Accounts.framework/Versions/A/Support/accountsd',\n",
       " b'57750 ??         0:01.71 /System/Library/CoreServices/Siri.app/Contents/MacOS/Siri launchd',\n",
       " b'57770 ??         0:00.41 /usr/libexec/gamecontrollerd',\n",
       " b'57771 ??         0:00.88 /System/Library/CoreServices/TextInputMenuAgent.app/Contents/MacOS/TextInputMenuAgent',\n",
       " b'57797 ??         0:00.86 /System/Library/CoreServices/Siri.app/Contents/XPCServices/SiriNCService.xpc/Contents/MacOS/SiriNCService',\n",
       " b'57915 ??         0:01.94 /System/Library/Frameworks/CoreServices.framework/Frameworks/Metadata.framework/Versions/A/Support/mdworker_shared -s mdworker -c MDSImporterWorker -m com.apple.mdworker.shared',\n",
       " b'57919 ??         0:02.12 /System/Library/Frameworks/CoreServices.framework/Frameworks/Metadata.framework/Versions/A/Support/mdworker_shared -s mdworker -c MDSImporterWorker -m com.apple.mdworker.shared',\n",
       " b'57920 ??         0:00.20 /usr/sbin/WirelessRadioManagerd',\n",
       " b'58151 ??         0:16.25 /Applications/Google Chrome.app/Contents/Frameworks/Google Chrome Framework.framework/Versions/80.0.3987.163/Helpers/Google Chrome Helper (Renderer).app/Contents/MacOS/Google Chrome Helper (Renderer) --type=renderer --field-trial-handle=1718379636,10952369121853722800,11467733939659010545,131072 --lang=en-US --metrics-client-id=e270376f-1c88-4da2-be8a-e14b85486271 --enable-auto-reload --num-raster-threads=2 --enable-zero-copy --enable-gpu-memory-buffer-compositor-resources --enable-main-frame-before-activation --renderer-client-id=33331 --no-v8-untrusted-code-mitigations --shared-files --seatbelt-client=266',\n",
       " b'58503 ??         0:10.48 /Applications/Google Chrome.app/Contents/Frameworks/Google Chrome Framework.framework/Versions/80.0.3987.163/Helpers/Google Chrome Helper (Plugin).app/Contents/MacOS/Google Chrome Helper (Plugin) --type=ppapi-broker --field-trial-handle=1718379636,10952369121853722800,11467733939659010545,131072 --lang=en-US --metrics-client-id=e270376f-1c88-4da2-be8a-e14b85486271 --shared-files',\n",
       " b'58953 ??         0:00.43 /System/Library/CoreServices/OSDUIHelper.app/Contents/MacOS/OSDUIHelper',\n",
       " b'59298 ??         0:00.47 /Applications/Google Chrome.app/Contents/Frameworks/Google Chrome Framework.framework/Versions/80.0.3987.163/Helpers/Google Chrome Helper (Renderer).app/Contents/MacOS/Google Chrome Helper (Renderer) --type=renderer --field-trial-handle=1718379636,10952369121853722800,11467733939659010545,131072 --lang=en-US --metrics-client-id=e270376f-1c88-4da2-be8a-e14b85486271 --enable-auto-reload --num-raster-threads=2 --enable-zero-copy --enable-gpu-memory-buffer-compositor-resources --enable-main-frame-before-activation --renderer-client-id=33326 --no-v8-untrusted-code-mitigations --shared-files --seatbelt-client=495',\n",
       " b'59299 ??         0:00.61 /Applications/Google Chrome.app/Contents/Frameworks/Google Chrome Framework.framework/Versions/80.0.3987.163/Helpers/Google Chrome Helper (Renderer).app/Contents/MacOS/Google Chrome Helper (Renderer) --type=renderer --field-trial-handle=1718379636,10952369121853722800,11467733939659010545,131072 --lang=en-US --metrics-client-id=e270376f-1c88-4da2-be8a-e14b85486271 --enable-auto-reload --num-raster-threads=2 --enable-zero-copy --enable-gpu-memory-buffer-compositor-resources --enable-main-frame-before-activation --renderer-client-id=33327 --no-v8-untrusted-code-mitigations --shared-files --seatbelt-client=495',\n",
       " b'59627 ??         0:12.40 /Applications/Google Chrome.app/Contents/Frameworks/Google Chrome Framework.framework/Versions/80.0.3987.163/Helpers/Google Chrome Helper (Renderer).app/Contents/MacOS/Google Chrome Helper (Renderer) --type=renderer --field-trial-handle=1718379636,10952369121853722800,11467733939659010545,131072 --lang=en-US --metrics-client-id=e270376f-1c88-4da2-be8a-e14b85486271 --enable-auto-reload --num-raster-threads=2 --enable-zero-copy --enable-gpu-memory-buffer-compositor-resources --enable-main-frame-before-activation --renderer-client-id=33359 --no-v8-untrusted-code-mitigations --shared-files --seatbelt-client=266',\n",
       " b'60277 ??         0:00.48 /System/Library/Frameworks/CoreServices.framework/Frameworks/Metadata.framework/Versions/A/Support/mdworker_shared -s mdworker -c MDSImporterWorker -m com.apple.mdworker.shared',\n",
       " b'60663 ??         0:00.30 /System/Library/Frameworks/CoreServices.framework/Frameworks/Metadata.framework/Versions/A/Support/mdworker_shared -s mdworker -c MDSImporterWorker -m com.apple.mdworker.shared',\n",
       " b'60717 ??         0:00.22 /usr/libexec/mobileassetd',\n",
       " b'60740 ??         0:00.37 /System/Library/Frameworks/CoreServices.framework/Frameworks/Metadata.framework/Versions/A/Support/mdworker_shared -s mdworker -c MDSImporterWorker -m com.apple.mdworker.shared',\n",
       " b'60755 ??         0:00.41 /usr/libexec/coreduetd',\n",
       " b'60760 ??         0:00.14 /System/Library/Frameworks/CoreServices.framework/Frameworks/Metadata.framework/Versions/A/Support/mdworker_shared -s mdworker -c MDSImporterWorker -m com.apple.mdworker.shared',\n",
       " b'60761 ??         0:00.03 /usr/libexec/SidecarRelay',\n",
       " b'60763 ??         0:00.02 /usr/libexec/keybagd -t 15',\n",
       " b'60776 ??         0:00.24 /System/Library/Frameworks/CoreServices.framework/Frameworks/Metadata.framework/Versions/A/Support/mdworker_shared -s mdworker -c MDSImporterWorker -m com.apple.mdworker.shared',\n",
       " b'60780 ??         0:00.31 /usr/libexec/trustd --agent',\n",
       " b'60781 ??         0:00.04 /usr/sbin/ocspd',\n",
       " b'60783 ??         0:00.14 /System/Library/PrivateFrameworks/TCC.framework/Resources/tccd',\n",
       " b'60786 ??         0:00.04 /usr/libexec/sandboxd',\n",
       " b'60787 ??         0:00.13 /System/Library/Frameworks/QuickLookThumbnailing.framework/Support/com.apple.quicklook.ThumbnailsAgent',\n",
       " b'60789 ??         0:00.17 /System/Library/PrivateFrameworks/TCC.framework/Resources/tccd system',\n",
       " b'60794 ??         0:00.02 /System/Library/Frameworks/ApplicationServices.framework/Versions/A/Frameworks/HIServices.framework/Versions/A/XPCServices/com.apple.hiservices-xpcservice.xpc/Contents/MacOS/com.apple.hiservices-xpcservice',\n",
       " b'60858 ??         0:00.00 (ps)',\n",
       " b'60902 ??         0:00.09 /System/Library/PrivateFrameworks/XprotectFramework.framework/Versions/A/XPCServices/XprotectService.xpc/Contents/MacOS/XprotectService',\n",
       " b'60903 ??         0:00.13 /Applications/Google Chrome.app/Contents/Frameworks/Google Chrome Framework.framework/Versions/80.0.3987.163/Helpers/Google Chrome Helper (Renderer).app/Contents/MacOS/Google Chrome Helper (Renderer) --type=renderer --field-trial-handle=1718379636,10952369121853722800,11467733939659010545,131072 --lang=en-US --metrics-client-id=e270376f-1c88-4da2-be8a-e14b85486271 --enable-auto-reload --num-raster-threads=2 --enable-zero-copy --enable-gpu-memory-buffer-compositor-resources --enable-main-frame-before-activation --renderer-client-id=33377 --no-v8-untrusted-code-mitigations --shared-files --seatbelt-client=220',\n",
       " b'60905 ??         0:00.47 /Applications/Google Chrome.app/Contents/Frameworks/Google Chrome Framework.framework/Versions/80.0.3987.163/Helpers/Google Chrome Helper (Renderer).app/Contents/MacOS/Google Chrome Helper (Renderer) --type=renderer --field-trial-handle=1718379636,10952369121853722800,11467733939659010545,131072 --lang=en-US --metrics-client-id=e270376f-1c88-4da2-be8a-e14b85486271 --extension-process --enable-auto-reload --num-raster-threads=2 --enable-zero-copy --enable-gpu-memory-buffer-compositor-resources --enable-main-frame-before-activation --renderer-client-id=33378 --no-v8-untrusted-code-mitigations --shared-files --seatbelt-client=220',\n",
       " b'60906 ??         0:00.07 /System/Library/Frameworks/CoreServices.framework/Frameworks/Metadata.framework/Versions/A/Support/mdworker_shared -s mdworker -c MDSImporterWorker -m com.apple.mdworker.shared',\n",
       " b'60910 ??         0:00.00 ps -A',\n",
       " b'66168 ??        32:08.34 /System/Library/CoreServices/Finder.app/Contents/MacOS/Finder',\n",
       " b'70397 ??        74:59.43 /Applications/Google Chrome.app/Contents/Frameworks/Google Chrome Framework.framework/Versions/80.0.3987.163/Helpers/Google Chrome Helper (Renderer).app/Contents/MacOS/Google Chrome Helper (Renderer) --type=renderer --field-trial-handle=1718379636,10952369121853722800,11467733939659010545,131072 --lang=en-US --metrics-client-id=e270376f-1c88-4da2-be8a-e14b85486271 --enable-auto-reload --num-raster-threads=2 --enable-zero-copy --enable-gpu-memory-buffer-compositor-resources --enable-main-frame-before-activation --renderer-client-id=4335 --no-v8-untrusted-code-mitigations --shared-files --seatbelt-client=168',\n",
       " b'72067 ??         0:40.05 /usr/sbin/spindump',\n",
       " b'73700 ??        32:29.39 /Applications/Google Chrome.app/Contents/Frameworks/Google Chrome Framework.framework/Versions/80.0.3987.163/Helpers/Google Chrome Helper (Renderer).app/Contents/MacOS/Google Chrome Helper (Renderer) --type=renderer --field-trial-handle=1718379636,10952369121853722800,11467733939659010545,131072 --lang=en-US --metrics-client-id=e270376f-1c88-4da2-be8a-e14b85486271 --extension-process --enable-auto-reload --num-raster-threads=2 --enable-zero-copy --enable-gpu-memory-buffer-compositor-resources --enable-main-frame-before-activation --renderer-client-id=10289 --no-v8-untrusted-code-mitigations --shared-files --seatbelt-client=152',\n",
       " b'75538 ??         0:10.09 /System/Library/CoreServices/backupd.bundle/Contents/Resources/backupd',\n",
       " b'77382 ??         0:07.04 /System/Library/PrivateFrameworks/ContactsDonation.framework/Versions/A/Support/contactsdonationagent',\n",
       " b'80872 ??         0:42.54 /usr/sbin/cfprefsd agent',\n",
       " b'84758 ??         0:36.84 /System/Applications/Calendar.app/Contents/MacOS/Calendar',\n",
       " b'85597 ??       441:18.28 /Applications/Google Chrome.app/Contents/Frameworks/Google Chrome Framework.framework/Versions/80.0.3987.163/Helpers/Google Chrome Helper (GPU).app/Contents/MacOS/Google Chrome Helper (GPU) --type=gpu-process --field-trial-handle=1718379636,10952369121853722800,11467733939659010545,131072 --metrics-client-id=e270376f-1c88-4da2-be8a-e14b85486271 --gpu-preferences=KAAAAAAAAAAgAAAAAAAAAAAAYAAAAAAAEAAAAAAAAAAAAAAAAAAAAOgAAAAcAAAA4AAAAAAAAADoAAAAAAAAAPAAAAAAAAAA+AAAAAAAAAAAAQAAAAAAAAgBAAAAAAAAEAEAAAAAAAAYAQAAAAAAACABAAAAAAAAKAEAAAAAAAAwAQAAAAAAADgBAAAAAAAAQAEAAAAAAABIAQAAAAAAAFABAAAAAAAAWAEAAAAAAABgAQAAAAAAAGgBAAAAAAAAcAEAAAAAAAB4AQAAAAAAAIABAAAAAAAAiAEAAAAAAACQAQAAAAAAAJgBAAAAAAAAoAEAAAAAAACoAQAAAAAAALABAAAAAAAAuAEAAAAAAAAQAAAAAAAAAAAAAAAAAAAAEAAAAAAAAAAAAAAABgAAABAAAAAAAAAAAAAAAAcAAAAQAAAAAAAAAAAAAAAIAAAAEAAAAAAAAAAAAAAACgAAABAAAAAAAAAAAAAAAAsAAAAQAAAAAAAAAAAAAAANAAAAEAAAAAAAAAABAAAAAAAAABAAAAAAAAAAAQAAAAYAAAAQAAAAAAAAAAEAAAAHAAAAEAAAAAAAAAABAAAACAAAABAAAAAAAAAAAQAAAAoAAAAQAAAAAAAAAAEAAAALAAAAEAAAAAAAAAABAAAADQAAABAAAAAAAAAABAAAAAAAAAAQAAAAAAAAAAQAAAAGAAAAEAAAAAAAAAAEAAAABwAAABAAAAAAAAAABAAAAAgAAAAQAAAAAAAAAAQAAAAKAAAAEAAAAAAAAAAEAAAACwAAABAAAAAAAAAABAAAAA0AAAAQAAAAAAAAAAYAAAAAAAAAEAAAAAAAAAAGAAAABgAAABAAAAAAAAAABgAAAAcAAAAQAAAAAAAAAAYAAAAIAAAAEAAAAAAAAAAGAAAACgAAABAAAAAAAAAABgAAAAsAAAAQAAAAAAAAAAYAAAANAAAA --shared-files',\n",
       " b'86817 ??         0:30.53 /System/Library/PrivateFrameworks/UniversalAccess.framework/Versions/A/Resources/universalAccessAuthWarn.app/Contents/MacOS/universalAccessAuthWarn launchd -s',\n",
       " b'95876 ??       131:28.12 /Applications/Spotify.app/Contents/MacOS/Spotify',\n",
       " b'95881 ??         0:03.14 /Applications/Spotify.app/Contents/Frameworks/Spotify Helper.app/Contents/MacOS/Spotify Helper --monitor-self-annotation=ptype=crashpad-handler --type=crashpad-handler --max-uploads=5 --max-db-size=20 --max-db-age=5 --database=/Users/mac/Library/Application Support/Spotify/User Data --url=https://crashdump.spotify.com:443/ --annotation=platform=macos --annotation=product=spotify --annotation=version=1.1.31.703 --handshake-fd=8',\n",
       " b'95882 ??        66:58.04 /Applications/Spotify.app/Contents/Frameworks/Spotify Helper (GPU).app/Contents/MacOS/Spotify Helper (GPU) --type=gpu-process --field-trial-handle=1718379636,13721039555018632605,3452975139031541785,131072 --disable-features=MimeHandlerViewInCrossProcessFrame --log-file=/Users/mac/Library/Logs/Spotify_debug.log --log-severity=disable --product-version=Spotify/1.1.31.703 --lang=en --gpu-preferences=KAAAAAAAAAAgAAAAAAAAAAAAYAAAAAAAEAAAAAAAAAAAAAAAAAAAAOgAAAAcAAAA4AAAAAAAAADoAAAAAAAAAPAAAAAAAAAA+AAAAAAAAAAAAQAAAAAAAAgBAAAAAAAAEAEAAAAAAAAYAQAAAAAAACABAAAAAAAAKAEAAAAAAAAwAQAAAAAAADgBAAAAAAAAQAEAAAAAAABIAQAAAAAAAFABAAAAAAAAWAEAAAAAAABgAQAAAAAAAGgBAAAAAAAAcAEAAAAAAAB4AQAAAAAAAIABAAAAAAAAiAEAAAAAAACQAQAAAAAAAJgBAAAAAAAAoAEAAAAAAACoAQAAAAAAALABAAAAAAAAuAEAAAAAAAAQAAAAAAAAAAAAAAAAAAAAEAAAAAAAAAAAAAAABgAAABAAAAAAAAAAAAAAAAcAAAAQAAAAAAAAAAAAAAAIAAAAEAAAAAAAAAAAAAAACgAAABAAAAAAAAAAAAAAAAsAAAAQAAAAAAAAAAAAAAANAAAAEAAAAAAAAAABAAAAAAAAABAAAAAAAAAAAQAAAAYAAAAQAAAAAAAAAAEAAAAHAAAAEAAAAAAAAAABAAAACAAAABAAAAAAAAAAAQAAAAoAAAAQAAAAAAAAAAEAAAALAAAAEAAAAAAAAAABAAAADQAAABAAAAAAAAAABAAAAAAAAAAQAAAAAAAAAAQAAAAGAAAAEAAAAAAAAAAEAAAABwAAABAAAAAAAAAABAAAAAgAAAAQAAAAAAAAAAQAAAAKAAAAEAAAAAAAAAAEAAAACwAAABAAAAAAAAAABAAAAA0AAAAQAAAAAAAAAAYAAAAAAAAAEAAAAAAAAAAGAAAABgAAABAAAAAAAAAABgAAAAcAAAAQAAAAAAAAAAYAAAAIAAAAEAAAAAAAAAAGAAAACgAAABAAAAAAAAAABgAAAAsAAAAQAAAAAAAAAAYAAAANAAAA --log-file=/Users/mac/Library/Logs/Spotify_debug.log --service-request-channel-token=2616412795424996089',\n",
       " b'95884 ??         3:08.59 /Applications/Spotify.app/Contents/Frameworks/Spotify Helper.app/Contents/MacOS/Spotify Helper --type=utility --field-trial-handle=1718379636,13721039555018632605,3452975139031541785,131072 --disable-features=MimeHandlerViewInCrossProcessFrame --lang=en --service-sandbox-type=network --use-mock-keychain --log-file=/Users/mac/Library/Logs/Spotify_debug.log --log-severity=disable --product-version=Spotify/1.1.31.703 --lang=en --log-file=/Users/mac/Library/Logs/Spotify_debug.log --service-request-channel-token=293904546731678469',\n",
       " b'95885 ??       132:18.88 /Applications/Spotify.app/Contents/Frameworks/Spotify Helper (Renderer).app/Contents/MacOS/Spotify Helper (Renderer) --type=renderer --log-file=/Users/mac/Library/Logs/Spotify_debug.log --field-trial-handle=1718379636,13721039555018632605,3452975139031541785,131072 --disable-features=MimeHandlerViewInCrossProcessFrame --lang=en --log-file=/Users/mac/Library/Logs/Spotify_debug.log --log-severity=disable --product-version=Spotify/1.1.31.703 --disable-scroll-bounce --disable-spell-checking --num-raster-threads=2 --enable-zero-copy --enable-gpu-memory-buffer-compositor-resources --enable-main-frame-before-activation --service-request-channel-token=1646384633408389159 --renderer-client-id=4 --seatbelt-client=47',\n",
       " b'97134 ??         0:41.23 /System/Library/CoreServices/CoreServicesUIAgent.app/Contents/MacOS/CoreServicesUIAgent',\n",
       " b'99567 ??         0:04.79 /usr/libexec/studentd',\n",
       " b'84632 ttys001    0:00.04 login -pf mac',\n",
       " b'84633 ttys001    0:01.14 -bash',\n",
       " b'44118 ttys002    0:00.12 login -pfl mac /bin/bash -c exec -la bash /bin/bash',\n",
       " b'44120 ttys002    0:00.98 -bash',\n",
       " b' 7653 ttys003    0:00.11 login -pf mac',\n",
       " b' 7657 ttys003    0:00.11 -bash',\n",
       " b' 7960 ttys003    0:00.00 -bash',\n",
       " b' 7962 ttys003    0:42.12 /Users/mac/opt/anaconda3/bin/python /Users/mac/opt/anaconda3/bin/jupyter-notebook',\n",
       " b'60326 ttys004    0:00.08 login -pf mac',\n",
       " b'60328 ttys004    0:00.11 -bash',\n",
       " b'60890 ttys004    0:19.98 python test.py train iso_f BayiKodu - Tarih KisiSayimi csv ml3yil_20200429.csv Daily',\n",
       " b'60892 ttys004    0:00.14 /Users/mac/opt/anaconda3/bin/python -c from multiprocessing.semaphore_tracker import main;main(5)',\n",
       " b'45043 ttys005    0:00.04 login -pfl mac /bin/bash -c exec -la bash /bin/bash',\n",
       " b'45044 ttys005    0:00.12 -bash',\n",
       " b'49750 ttys006    0:00.05 login -pf mac',\n",
       " b'49752 ttys006    0:00.10 -bash']"
      ]
     },
     "execution_count": 76,
     "metadata": {},
     "output_type": "execute_result"
    }
   ],
   "source": [
    "import subprocess\n",
    "p = subprocess.Popen(['ps', '-A'], stdout=subprocess.PIPE)\n",
    "out, err = p.communicate()\n",
    "out.splitlines()"
   ]
  },
  {
   "cell_type": "code",
   "execution_count": 80,
   "metadata": {},
   "outputs": [],
   "source": [
    "def test():\n",
    "    print(\"ok!!!\")"
   ]
  },
  {
   "cell_type": "code",
   "execution_count": 81,
   "metadata": {},
   "outputs": [],
   "source": [
    "import schedule"
   ]
  },
  {
   "cell_type": "code",
   "execution_count": 87,
   "metadata": {},
   "outputs": [
    {
     "data": {
      "text/plain": [
       "Every 2 weeks do test() (last run: [never], next run: 2020-06-01 22:16:19)"
      ]
     },
     "execution_count": 87,
     "metadata": {},
     "output_type": "execute_result"
    }
   ],
   "source": [
    "schedule.every(2).weeks.do(test)"
   ]
  },
  {
   "cell_type": "code",
   "execution_count": 88,
   "metadata": {},
   "outputs": [
    {
     "name": "stdout",
     "output_type": "stream",
     "text": [
      "waiting!!\n",
      "waiting!!\n",
      "waiting!!\n"
     ]
    },
    {
     "ename": "KeyboardInterrupt",
     "evalue": "",
     "output_type": "error",
     "traceback": [
      "\u001b[0;31m---------------------------------------------------------------------------\u001b[0m",
      "\u001b[0;31mKeyboardInterrupt\u001b[0m                         Traceback (most recent call last)",
      "\u001b[0;32m<ipython-input-88-0a6d18b005e1>\u001b[0m in \u001b[0;36m<module>\u001b[0;34m\u001b[0m\n\u001b[1;32m      2\u001b[0m     \u001b[0mschedule\u001b[0m\u001b[0;34m.\u001b[0m\u001b[0mrun_pending\u001b[0m\u001b[0;34m(\u001b[0m\u001b[0;34m)\u001b[0m\u001b[0;34m\u001b[0m\u001b[0;34m\u001b[0m\u001b[0m\n\u001b[1;32m      3\u001b[0m     \u001b[0mprint\u001b[0m\u001b[0;34m(\u001b[0m\u001b[0;34m\"waiting!!\"\u001b[0m\u001b[0;34m)\u001b[0m\u001b[0;34m\u001b[0m\u001b[0;34m\u001b[0m\u001b[0m\n\u001b[0;32m----> 4\u001b[0;31m     \u001b[0mtime\u001b[0m\u001b[0;34m.\u001b[0m\u001b[0msleep\u001b[0m\u001b[0;34m(\u001b[0m\u001b[0;36m10\u001b[0m\u001b[0;34m)\u001b[0m\u001b[0;34m\u001b[0m\u001b[0;34m\u001b[0m\u001b[0m\n\u001b[0m",
      "\u001b[0;31mKeyboardInterrupt\u001b[0m: "
     ]
    }
   ],
   "source": [
    "while True:\n",
    "    schedule.run_pending()\n",
    "    print(\"waiting!!\")\n",
    "    time.sleep(10)"
   ]
  },
  {
   "cell_type": "code",
   "execution_count": null,
   "metadata": {},
   "outputs": [],
   "source": []
  }
 ],
 "metadata": {
  "kernelspec": {
   "display_name": "Python 3",
   "language": "python",
   "name": "python3"
  },
  "language_info": {
   "codemirror_mode": {
    "name": "ipython",
    "version": 3
   },
   "file_extension": ".py",
   "mimetype": "text/x-python",
   "name": "python",
   "nbconvert_exporter": "python",
   "pygments_lexer": "ipython3",
   "version": "3.7.4"
  }
 },
 "nbformat": 4,
 "nbformat_minor": 2
}
