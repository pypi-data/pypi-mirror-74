{
 "cells": [
  {
   "cell_type": "markdown",
   "metadata": {},
   "source": [
    "# GO enrichment with `goenrich`\n",
    "\n",
    "In the following we will perform a gene ontology enrichment analysis using 'goenrich' and the example data provided by the published [`WebGestalt`](http://bioinfo.vanderbilt.edu/webgestalt/) tool.\n",
    "\n",
    "### 1. run `WebGestalt`\n",
    "\n",
    "First we can run `WebGestalt` on their website using the example data provided (`final_sig_file_XXX.tsv`). I wrote a small script `wegestalt.py` to parse their weird output format into something more convenient."
   ]
  },
  {
   "cell_type": "code",
   "execution_count": 1,
   "metadata": {
    "collapsed": false
   },
   "outputs": [
    {
     "data": {
      "text/html": [
       "<div>\n",
       "<table border=\"1\" class=\"dataframe\">\n",
       "  <thead>\n",
       "    <tr style=\"text-align: right;\">\n",
       "      <th></th>\n",
       "      <th>C</th>\n",
       "      <th>E</th>\n",
       "      <th>GO_ID</th>\n",
       "      <th>O</th>\n",
       "      <th>R</th>\n",
       "      <th>adjP</th>\n",
       "      <th>name</th>\n",
       "      <th>namespace</th>\n",
       "      <th>rawP</th>\n",
       "    </tr>\n",
       "  </thead>\n",
       "  <tbody>\n",
       "    <tr>\n",
       "      <th>0</th>\n",
       "      <td>1023</td>\n",
       "      <td>49.06</td>\n",
       "      <td>GO:0006468</td>\n",
       "      <td>93</td>\n",
       "      <td>1.90</td>\n",
       "      <td>8.130000e-07</td>\n",
       "      <td>protein phosphorylation</td>\n",
       "      <td>biological_process</td>\n",
       "      <td>4.460000e-10</td>\n",
       "    </tr>\n",
       "    <tr>\n",
       "      <th>1</th>\n",
       "      <td>1963</td>\n",
       "      <td>94.13</td>\n",
       "      <td>GO:0006796</td>\n",
       "      <td>149</td>\n",
       "      <td>1.58</td>\n",
       "      <td>8.130000e-07</td>\n",
       "      <td>phosphate-containing compound metabolic process</td>\n",
       "      <td>biological_process</td>\n",
       "      <td>5.370000e-10</td>\n",
       "    </tr>\n",
       "    <tr>\n",
       "      <th>2</th>\n",
       "      <td>2002</td>\n",
       "      <td>96.00</td>\n",
       "      <td>GO:0006793</td>\n",
       "      <td>150</td>\n",
       "      <td>1.56</td>\n",
       "      <td>1.200000e-06</td>\n",
       "      <td>phosphorus metabolic process</td>\n",
       "      <td>biological_process</td>\n",
       "      <td>1.190000e-09</td>\n",
       "    </tr>\n",
       "    <tr>\n",
       "      <th>3</th>\n",
       "      <td>1640</td>\n",
       "      <td>78.64</td>\n",
       "      <td>GO:0035556</td>\n",
       "      <td>127</td>\n",
       "      <td>1.61</td>\n",
       "      <td>4.170000e-06</td>\n",
       "      <td>intracellular signal transduction</td>\n",
       "      <td>biological_process</td>\n",
       "      <td>5.510000e-09</td>\n",
       "    </tr>\n",
       "    <tr>\n",
       "      <th>4</th>\n",
       "      <td>1687</td>\n",
       "      <td>80.90</td>\n",
       "      <td>GO:0009653</td>\n",
       "      <td>128</td>\n",
       "      <td>1.58</td>\n",
       "      <td>1.020000e-05</td>\n",
       "      <td>anatomical structure morphogenesis</td>\n",
       "      <td>biological_process</td>\n",
       "      <td>1.680000e-08</td>\n",
       "    </tr>\n",
       "  </tbody>\n",
       "</table>\n",
       "</div>"
      ],
      "text/plain": [
       "      C      E       GO_ID    O     R          adjP  \\\n",
       "0  1023  49.06  GO:0006468   93  1.90  8.130000e-07   \n",
       "1  1963  94.13  GO:0006796  149  1.58  8.130000e-07   \n",
       "2  2002  96.00  GO:0006793  150  1.56  1.200000e-06   \n",
       "3  1640  78.64  GO:0035556  127  1.61  4.170000e-06   \n",
       "4  1687  80.90  GO:0009653  128  1.58  1.020000e-05   \n",
       "\n",
       "                                              name           namespace  \\\n",
       "0                          protein phosphorylation  biological_process   \n",
       "1  phosphate-containing compound metabolic process  biological_process   \n",
       "2                     phosphorus metabolic process  biological_process   \n",
       "3                intracellular signal transduction  biological_process   \n",
       "4               anatomical structure morphogenesis  biological_process   \n",
       "\n",
       "           rawP  \n",
       "0  4.460000e-10  \n",
       "1  5.370000e-10  \n",
       "2  1.190000e-09  \n",
       "3  5.510000e-09  \n",
       "4  1.680000e-08  "
      ]
     },
     "execution_count": 1,
     "metadata": {},
     "output_type": "execute_result"
    }
   ],
   "source": [
    "import webgestalt\n",
    "web = webgestalt.read('../db/webgestalt_example_results/files/final_sig_file_1439064580.tsv')\n",
    "web.head()"
   ]
  },
  {
   "cell_type": "markdown",
   "metadata": {},
   "source": [
    "### 2. parse example into pandas\n",
    "\n",
    "We need the `geneinfo` table in order to map the ids from `GeneID` to `Symbol`"
   ]
  },
  {
   "cell_type": "code",
   "execution_count": 2,
   "metadata": {
    "collapsed": true
   },
   "outputs": [],
   "source": [
    "import pandas as pd\n",
    "geneinfo = pd.read_table('../db/Homo_sapiens.gene_info.gz', comment='#', usecols=[1,2], names=['GeneID', 'Symbol']) \n",
    "interesting = pd.read_table('../db/interestingGenes.txt', names=['Symbol']).merge(geneinfo)\n",
    "reference = pd.read_table('../db/referenceGenes.txt', names=['Symbol']).merge(geneinfo)"
   ]
  },
  {
   "cell_type": "markdown",
   "metadata": {},
   "source": [
    "### 3. build the ontology\n",
    "\n",
    "Now we can move on to use `goenrich` to build the ontology DAG. Additionally we need the set of all GO annotation from `gene2go`."
   ]
  },
  {
   "cell_type": "code",
   "execution_count": 3,
   "metadata": {
    "collapsed": false
   },
   "outputs": [],
   "source": [
    "import goenrich\n",
    "O = goenrich.obo.ontology('../db/go-basic.obo')\n",
    "gene2go = goenrich.read.gene2go('../db/gene2go.gz')"
   ]
  },
  {
   "cell_type": "markdown",
   "metadata": {},
   "source": [
    "### 4. build the background-set and propagate\n",
    "\n",
    "Using a small helper functon we can generate a background set from the `pandas.DataFrames` we parsed before. We use the background set to annotate our ontology. Because of the DAG structure of the ontology we can do so by first perfoming a topological sort on the ontology."
   ]
  },
  {
   "cell_type": "code",
   "execution_count": 4,
   "metadata": {
    "collapsed": true
   },
   "outputs": [],
   "source": [
    "import goenrich.tools as tools\n",
    "background = tools.generate_background(gene2go, reference, 'GO_ID', 'GeneID')\n",
    "goenrich.enrich.propagate(O, background, 'reference')"
   ]
  },
  {
   "cell_type": "markdown",
   "metadata": {},
   "source": [
    "### 5. run the query\n",
    "\n",
    "Using the set of interesting genes as query we can perform our analysis. Additional options for filtering the categories we would like to test on can be passed to `analyze`. One might choose to extract small (`min_category_size`), too specific (`max_category_depth`) or too big/generic (`max_category_size`) categories.\n",
    "\n",
    "The underlying test is the hypergeometric test `hypergeom.sf(x, M, n, N)`. All $p$-values are corrected for multiple testing using the Benjamini-Hochberge method before a significance cut-off of $\\alpha=0.05$ is applied."
   ]
  },
  {
   "cell_type": "code",
   "execution_count": 5,
   "metadata": {
    "collapsed": false
   },
   "outputs": [
    {
     "data": {
      "text/html": [
       "<div>\n",
       "<table border=\"1\" class=\"dataframe\">\n",
       "  <thead>\n",
       "    <tr style=\"text-align: right;\">\n",
       "      <th></th>\n",
       "      <th>M</th>\n",
       "      <th>N</th>\n",
       "      <th>n</th>\n",
       "      <th>name</th>\n",
       "      <th>namespace</th>\n",
       "      <th>p</th>\n",
       "      <th>q</th>\n",
       "      <th>rejected</th>\n",
       "      <th>term</th>\n",
       "      <th>x</th>\n",
       "    </tr>\n",
       "  </thead>\n",
       "  <tbody>\n",
       "    <tr>\n",
       "      <th>26098</th>\n",
       "      <td>10808</td>\n",
       "      <td>484</td>\n",
       "      <td>518</td>\n",
       "      <td>protein kinase activity</td>\n",
       "      <td>molecular_function</td>\n",
       "      <td>1.392832e-19</td>\n",
       "      <td>1.648139e-15</td>\n",
       "      <td>1</td>\n",
       "      <td>GO:0004672</td>\n",
       "      <td>73</td>\n",
       "    </tr>\n",
       "    <tr>\n",
       "      <th>9247</th>\n",
       "      <td>10808</td>\n",
       "      <td>484</td>\n",
       "      <td>632</td>\n",
       "      <td>kinase activity</td>\n",
       "      <td>molecular_function</td>\n",
       "      <td>6.839273e-18</td>\n",
       "      <td>4.046456e-14</td>\n",
       "      <td>1</td>\n",
       "      <td>GO:0016301</td>\n",
       "      <td>79</td>\n",
       "    </tr>\n",
       "    <tr>\n",
       "      <th>34231</th>\n",
       "      <td>10808</td>\n",
       "      <td>484</td>\n",
       "      <td>590</td>\n",
       "      <td>phosphotransferase activity, alcohol group as ...</td>\n",
       "      <td>molecular_function</td>\n",
       "      <td>1.916952e-17</td>\n",
       "      <td>7.561097e-14</td>\n",
       "      <td>1</td>\n",
       "      <td>GO:0016773</td>\n",
       "      <td>75</td>\n",
       "    </tr>\n",
       "    <tr>\n",
       "      <th>24064</th>\n",
       "      <td>10808</td>\n",
       "      <td>484</td>\n",
       "      <td>703</td>\n",
       "      <td>protein phosphorylation</td>\n",
       "      <td>biological_process</td>\n",
       "      <td>3.232890e-17</td>\n",
       "      <td>9.563697e-14</td>\n",
       "      <td>1</td>\n",
       "      <td>GO:0006468</td>\n",
       "      <td>83</td>\n",
       "    </tr>\n",
       "    <tr>\n",
       "      <th>9366</th>\n",
       "      <td>10808</td>\n",
       "      <td>484</td>\n",
       "      <td>1628</td>\n",
       "      <td>carbohydrate derivative binding</td>\n",
       "      <td>molecular_function</td>\n",
       "      <td>1.829513e-16</td>\n",
       "      <td>4.329726e-13</td>\n",
       "      <td>1</td>\n",
       "      <td>GO:0097367</td>\n",
       "      <td>141</td>\n",
       "    </tr>\n",
       "  </tbody>\n",
       "</table>\n",
       "</div>"
      ],
      "text/plain": [
       "           M    N     n                                               name  \\\n",
       "26098  10808  484   518                            protein kinase activity   \n",
       "9247   10808  484   632                                    kinase activity   \n",
       "34231  10808  484   590  phosphotransferase activity, alcohol group as ...   \n",
       "24064  10808  484   703                            protein phosphorylation   \n",
       "9366   10808  484  1628                    carbohydrate derivative binding   \n",
       "\n",
       "                namespace             p             q  rejected        term  \\\n",
       "26098  molecular_function  1.392832e-19  1.648139e-15         1  GO:0004672   \n",
       "9247   molecular_function  6.839273e-18  4.046456e-14         1  GO:0016301   \n",
       "34231  molecular_function  1.916952e-17  7.561097e-14         1  GO:0016773   \n",
       "24064  biological_process  3.232890e-17  9.563697e-14         1  GO:0006468   \n",
       "9366   molecular_function  1.829513e-16  4.329726e-13         1  GO:0097367   \n",
       "\n",
       "         x  \n",
       "26098   73  \n",
       "9247    79  \n",
       "34231   75  \n",
       "24064   83  \n",
       "9366   141  "
      ]
     },
     "execution_count": 5,
     "metadata": {},
     "output_type": "execute_result"
    }
   ],
   "source": [
    "query = set(interesting['GeneID'])\n",
    "options = { 'min_category_size' : 2, 'max_category_size' : 100000,\n",
    "    'max_category_depth' : 100000 }\n",
    "enrichment = goenrich.enrich.analyze(O, query, 'reference', **options).dropna().sort_values('q')\n",
    "enrichment.head()"
   ]
  },
  {
   "cell_type": "markdown",
   "metadata": {},
   "source": [
    "### 6. comparison to `WebGestalt`\n",
    "\n",
    "We can first look at the category sizes and intersections\n",
    "\n",
    "`Webgestalt`: `C`, `O`\n",
    "\n",
    "`goenrich`: `n`, `x`"
   ]
  },
  {
   "cell_type": "code",
   "execution_count": 6,
   "metadata": {
    "collapsed": false
   },
   "outputs": [
    {
     "data": {
      "text/html": [
       "<div>\n",
       "<table border=\"1\" class=\"dataframe\">\n",
       "  <thead>\n",
       "    <tr style=\"text-align: right;\">\n",
       "      <th></th>\n",
       "      <th>C</th>\n",
       "      <th>O</th>\n",
       "      <th>n</th>\n",
       "      <th>x</th>\n",
       "    </tr>\n",
       "  </thead>\n",
       "  <tbody>\n",
       "    <tr>\n",
       "      <th>0</th>\n",
       "      <td>528</td>\n",
       "      <td>74</td>\n",
       "      <td>518</td>\n",
       "      <td>73</td>\n",
       "    </tr>\n",
       "    <tr>\n",
       "      <th>1</th>\n",
       "      <td>642</td>\n",
       "      <td>79</td>\n",
       "      <td>632</td>\n",
       "      <td>79</td>\n",
       "    </tr>\n",
       "    <tr>\n",
       "      <th>2</th>\n",
       "      <td>606</td>\n",
       "      <td>76</td>\n",
       "      <td>590</td>\n",
       "      <td>75</td>\n",
       "    </tr>\n",
       "    <tr>\n",
       "      <th>3</th>\n",
       "      <td>1023</td>\n",
       "      <td>93</td>\n",
       "      <td>703</td>\n",
       "      <td>83</td>\n",
       "    </tr>\n",
       "    <tr>\n",
       "      <th>4</th>\n",
       "      <td>378</td>\n",
       "      <td>56</td>\n",
       "      <td>386</td>\n",
       "      <td>56</td>\n",
       "    </tr>\n",
       "  </tbody>\n",
       "</table>\n",
       "</div>"
      ],
      "text/plain": [
       "      C   O    n   x\n",
       "0   528  74  518  73\n",
       "1   642  79  632  79\n",
       "2   606  76  590  75\n",
       "3  1023  93  703  83\n",
       "4   378  56  386  56"
      ]
     },
     "execution_count": 6,
     "metadata": {},
     "output_type": "execute_result"
    }
   ],
   "source": [
    "df = pd.merge(enrichment, web)\n",
    "df[['C', 'O', 'n', 'x']].head()"
   ]
  },
  {
   "cell_type": "markdown",
   "metadata": {},
   "source": [
    "we can see come differences which might be due to different version of the `gene2go` annotation file, the ontology tree, or artifacts of the id mapping.\n",
    "\n",
    "To quantify to consistency of both predictions we can therefore look at the correlation between the two"
   ]
  },
  {
   "cell_type": "code",
   "execution_count": 7,
   "metadata": {
    "collapsed": false
   },
   "outputs": [
    {
     "name": "stderr",
     "output_type": "stream",
     "text": [
      "/data/miniconda3/envs/goenrich/lib/python2.7/site-packages/seaborn/linearmodels.py:1283: UserWarning: The `corrplot` function has been deprecated in favor of `heatmap` and will be removed in a forthcoming release. Please update your code.\n",
      "  warnings.warn((\"The `corrplot` function has been deprecated in favor \"\n",
      "/data/miniconda3/envs/goenrich/lib/python2.7/site-packages/seaborn/linearmodels.py:1349: UserWarning: The `symmatplot` function has been deprecated in favor of `heatmap` and will be removed in a forthcoming release. Please update your code.\n",
      "  warnings.warn((\"The `symmatplot` function has been deprecated in favor \"\n"
     ]
    },
    {
     "data": {
      "text/plain": [
       "<matplotlib.axes._subplots.AxesSubplot at 0x7fe544706390>"
      ]
     },
     "execution_count": 7,
     "metadata": {},
     "output_type": "execute_result"
    },
    {
     "data": {
      "image/png": "[encoded data removed]",
      "text/plain": [
       "<matplotlib.figure.Figure at 0x7fe544773d50>"
      ]
     },
     "metadata": {},
     "output_type": "display_data"
    }
   ],
   "source": [
    "%matplotlib inline\n",
    "import seaborn as sns\n",
    "sns.corrplot(df[['C', 'O', 'rawP', 'n', 'x', 'p']], method='spearman')"
   ]
  },
  {
   "cell_type": "markdown",
   "metadata": {},
   "source": [
    "The resulting correlation between `WebGestalt` and `goenrich` $p$-values is $0.92$"
   ]
  }
 ],
 "metadata": {
  "kernelspec": {
   "display_name": "Python 2",
   "language": "python",
   "name": "python2"
  },
  "language_info": {
   "codemirror_mode": {
    "name": "ipython",
    "version": 2
   },
   "file_extension": ".py",
   "mimetype": "text/x-python",
   "name": "python",
   "nbconvert_exporter": "python",
   "pygments_lexer": "ipython2",
   "version": "2.7.10"
  }
 },
 "nbformat": 4,
 "nbformat_minor": 0
}
