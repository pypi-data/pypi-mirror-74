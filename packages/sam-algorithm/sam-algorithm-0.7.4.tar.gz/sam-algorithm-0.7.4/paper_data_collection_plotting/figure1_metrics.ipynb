{
 "cells": [
  {
   "cell_type": "code",
   "execution_count": 9,
   "metadata": {},
   "outputs": [],
   "source": [
    "import pickle\n",
    "import utilities as ut\n",
    "import sklearn.metrics as met\n",
    "#from SAM import SAM\n",
    "import utilities_full as ut2\n",
    "import pandas as pd\n",
    "import numpy as np\n",
    "import matplotlib.pyplot as plt\n",
    "from SAM_iter import SAM\n",
    "import scipy as sp\n",
    "from graph_tool.all import Graph, local_clustering\n",
    "def generate_graph(graph):\n",
    "    Npca = graph.copy()\n",
    "    G = Graph(directed=True)\n",
    "\n",
    "    Npca[np.arange(Npca.shape[0]), np.arange(Npca.shape[0])] = 0\n",
    "\n",
    "    G.add_edge_list(np.transpose(Npca.nonzero()))\n",
    "    return G\n",
    "\n",
    "def SEURAT(adata):\n",
    "    pca,_,_,_ = ut2.do_SEURAT4(adata.copy(),NN=3000)\n",
    "    return pca\n",
    "def local_clust(graph):\n",
    "    G = generate_graph(graph)\n",
    "    return np.mean(list(local_clustering(G, undirected=False)))\n",
    "\n",
    "\n",
    "def l2disp(data, graph, k, N):\n",
    "    davg = graph.dot(data / k)\n",
    "    mu = davg.mean(0)\n",
    "\n",
    "    disp = davg.var(0)[mu > 0] / mu[mu > 0]\n",
    "    disp[np.isnan(disp)] = 0\n",
    "    return np.sqrt(np.sum(np.sort(disp)[-N:]**2))\n",
    "\n",
    "def modularity(graph, cl):\n",
    "    indegree = graph.sum(0).flatten()\n",
    "    outdegree = graph.sum(1).flatten()\n",
    "    m = graph.sum()\n",
    "\n",
    "    C = np.zeros(graph.shape)\n",
    "    for i in range(cl.max() + 1):\n",
    "        idxs = np.where(cl == i)[0]\n",
    "        idxs1 = np.repeat(idxs, idxs.size)\n",
    "        idxs2 = np.tile(idxs, idxs.size)\n",
    "        C[idxs1, idxs2] = 1\n",
    "\n",
    "    Q = ((graph - indegree[:, None] * outdegree[None, :] / m) * C / m).sum()\n",
    "    return Q"
   ]
  },
  {
   "cell_type": "code",
   "execution_count": null,
   "metadata": {},
   "outputs": [],
   "source": []
  },
  {
   "cell_type": "code",
   "execution_count": 22,
   "metadata": {},
   "outputs": [
    {
     "name": "stdout",
     "output_type": "stream",
     "text": [
      "3000\n"
     ]
    }
   ],
   "source": [
    "sam=SAM()\n",
    "sam.load_data('schisto2.5_tpm.csv')\n",
    "sam.preprocess_data()\n",
    "\n",
    "pca = SEURAT(sam.adata_raw.copy())\n",
    "\n",
    "nnm = sp.sparse.csr_matrix(ut.dist_to_nn(ut.compute_distances(pca,'correlation'),20))"
   ]
  },
  {
   "cell_type": "code",
   "execution_count": null,
   "metadata": {},
   "outputs": [],
   "source": [
    "sam.run(nnm,max_iter=10,stopping_condition=0)"
   ]
  },
  {
   "cell_type": "code",
   "execution_count": 31,
   "metadata": {},
   "outputs": [],
   "source": [
    "import copy\n",
    "sam2 = copy.deepcopy(sam)"
   ]
  },
  {
   "cell_type": "code",
   "execution_count": 33,
   "metadata": {},
   "outputs": [
    {
     "name": "stdout",
     "output_type": "stream",
     "text": [
      "0\n",
      "1\n",
      "2\n",
      "3\n",
      "4\n",
      "5\n",
      "6\n",
      "7\n",
      "8\n",
      "9\n"
     ]
    }
   ],
   "source": [
    "NS=[]\n",
    "for i in range(10):\n",
    "    print(i)\n",
    "    numcells = 338\n",
    "    k=20\n",
    "    edm = sp.sparse.coo_matrix((numcells, numcells), dtype='i').tolil()\n",
    "    nums = np.arange(edm.shape[1])\n",
    "    RINDS = np.random.randint(\n",
    "        0, numcells, (k - 1) * numcells).reshape((numcells,(k - 1)))\n",
    "    RINDS = np.hstack((nums[:, None], RINDS))\n",
    "\n",
    "    edm[np.tile(np.arange(RINDS.shape[0])[:, None],\n",
    "                (1, RINDS.shape[1])).flatten(), RINDS.flatten()] = 1\n",
    "    edm = edm.tocsr()\n",
    "\n",
    "    sam2.run(edm,max_iter=10,stopping_condition=0,verbose=False)\n",
    "    NS.append(sam2.Ns)"
   ]
  },
  {
   "cell_type": "code",
   "execution_count": null,
   "metadata": {},
   "outputs": [],
   "source": [
    "cly = sam.louvain_clustering(X=nnm)\n",
    "nacc_seur = local_clust(nnm.A)\n",
    "mod_seur = modularity(nnm.A,cly)\n",
    "disp_seur = l2disp(sam.adata.X.A,nnm.A,20,100)"
   ]
  },
  {
   "cell_type": "code",
   "execution_count": 40,
   "metadata": {},
   "outputs": [],
   "source": [
    "nai = np.zeros((len(sam.Ns)))\n",
    "moi = np.zeros((len(sam.Ns)))\n",
    "dii = np.zeros((len(sam.Ns)))\n",
    "\n",
    "for i,N in enumerate(sam.Ns):\n",
    "    cly = sam.louvain_clustering(X=N)\n",
    "    nai[i] = local_clust(N.A)\n",
    "    moi[i] = modularity(N.A,cly)\n",
    "    dii[i] = l2disp(sam.adata.X.A,N.A,20,100)"
   ]
  },
  {
   "cell_type": "code",
   "execution_count": 34,
   "metadata": {},
   "outputs": [],
   "source": [
    "na = np.zeros((10,len(sam.Ns)))\n",
    "mo = np.zeros((10,len(sam.Ns)))\n",
    "di = np.zeros((10,len(sam.Ns)))\n",
    "\n",
    "for j in range(10):\n",
    "    for i,N in enumerate(NS[j]):\n",
    "        cly = sam.louvain_clustering(X=N)\n",
    "        na[j,i] = local_clust(N.A)\n",
    "        mo[j,i] = modularity(N.A,cly)\n",
    "        di[j,i] = l2disp(sam.adata.X.A,N.A,20,100)"
   ]
  },
  {
   "cell_type": "code",
   "execution_count": 42,
   "metadata": {},
   "outputs": [
    {
     "data": {
      "image/png": "[encoded data removed]",
      "text/plain": [
       "<Figure size 519.718x108 with 3 Axes>"
      ]
     },
     "metadata": {
      "needs_background": "light"
     },
     "output_type": "display_data"
    }
   ],
   "source": [
    "DATA =  pickle.load(open('paper_scripts/iter_data_10T_20R_corruption_figure1_1_7_2019.p','rb'))    \n",
    "NT=10\n",
    "ITER=11\n",
    "keys=list(DATA[0][0][0].keys())\n",
    "vals=np.zeros((10,NT,ITER,len(keys)))\n",
    "for z in range(len(DATA)):\n",
    "    for i in range(DATA[0].shape[0]):  \n",
    "        for k in range(len(keys)):        \n",
    "            for j in range(ITER):\n",
    "                vals[z,i,j,k] = DATA[z][i,j][keys[k]]\n",
    "vals[:,:,:,0]=vals[:,:,:,0]*10\n",
    "valsm=vals.mean(0).mean(0)\n",
    "valss=vals.mean(0).std(0)\n",
    "\n",
    "data2 = pickle.load(open('paper_scripts/iter_data_50T_figure1_1_7_2019.p','rb'))\n",
    "keys = list(data2[0,0].keys())  \n",
    "vals2=np.zeros((50,ITER,len(keys)))\n",
    "for i in range(data2.shape[0]):  \n",
    "    for k in range(len(keys)):        \n",
    "        for j in range(ITER):\n",
    "            vals2[i,j,k] = data2[i,j][keys[k]]\n",
    "vals2[:,:,0]=vals2[:,:,0]*10\n",
    "valsm2=vals2.mean(0)\n",
    "valss2=vals2.std(0)\n",
    "\n",
    "fig,axs = plt.subplots(nrows=1,ncols=3)\n",
    "fig.subplots_adjust(wspace=0.4,left=0.05,right=0.95)\n",
    "z=0\n",
    "fig.set_size_inches((7.218307086614,1.5))\n",
    "nm = ['Spatial dispersion','NACC','Modularity']\n",
    "\n",
    "valsm2 = np.vstack([di.mean(0),na.mean(0),mo.mean(0)]).T\n",
    "valss2 = np.vstack([di.std(0),na.std(0),mo.std(0)]).T\n",
    "valsm3 = np.vstack((dii,nai,moi)).T\n",
    "for i in range(3):    \n",
    "    axs[i].errorbar(np.arange(ITER),valsm[:,z],yerr = valss[:,z],color='b',marker='.',linestyle='-',linewidth=1,markersize=4)#,yerr=valss[:,z]); \n",
    "    axs[i].errorbar(np.arange(ITER),valsm2[:,z],yerr = valss2[:,z],color='r',marker='.',linestyle='-',linewidth=1,markersize=4)#,yerr=valss[:,z]); \n",
    "    axs[i].plot(np.arange(ITER),valsm3[:,z],color='goldenrod',marker='.',linestyle='-',linewidth=1,markersize=4)#,yerr=valss[:,z]); \n",
    "    #axs[i,j].fill_between(np.arange(ITER), valsm[:,z]-valss[:,z], valsm[:,z]+valss[:,z],alpha=0.2,color='k')\n",
    "    #axs[i].spines['right'].set_visible(False)\n",
    "    axs[i].set_ylim([0,valsm2[:,z].max()*1.1])\n",
    "    axs[i].tick_params(pad=1)\n",
    "    #axs[i,j].spines['top'].set_visible(False)  \n",
    "    #axs[i].spines['bottom'].set_visible(False)\n",
    "    axs[i].set_xticks([2,4,6,8,10])\n",
    "    axs[i].set_xticklabels([2,4,6,8,10])\n",
    "    \n",
    "    axs[i].set_ylabel(nm[i],fontsize=7,fontname='Arial')\n",
    "    axs[i].set_xlabel('Iteration',fontsize=7,fontname='Arial')\n",
    "    f=axs[i].get_xticklabels()\n",
    "    for j in f: j.set_fontname('Arial'); j.set_fontsize(7)\n",
    "    f=axs[i].get_yticklabels()\n",
    "    for j in f: j.set_fontname('Arial'); j.set_fontsize(7)\n",
    "    \n",
    "    \n",
    "    #axs[i].set_title(keys[z])\n",
    "    z+=1\n",
    "axs[0].axhline(disp_seur,color='k',linestyle='--',linewidth=1)\n",
    "axs[1].axhline(nacc_seur,color='k',linestyle='--',linewidth=1)\n",
    "axs[2].axhline(mod_seur,color='k',linestyle='--',linewidth=1)\n",
    "plt.savefig('/media/storage/dbox/Dropbox/paper_scripts/METRICS_FIXED.pdf',transparent=True)"
   ]
  }
 ],
 "metadata": {
  "kernelspec": {
   "display_name": "Python 3",
   "language": "python",
   "name": "python3"
  },
  "language_info": {
   "codemirror_mode": {
    "name": "ipython",
    "version": 3
   },
   "file_extension": ".py",
   "mimetype": "text/x-python",
   "name": "python",
   "nbconvert_exporter": "python",
   "pygments_lexer": "ipython3",
   "version": "3.6.8"
  }
 },
 "nbformat": 4,
 "nbformat_minor": 2
}
