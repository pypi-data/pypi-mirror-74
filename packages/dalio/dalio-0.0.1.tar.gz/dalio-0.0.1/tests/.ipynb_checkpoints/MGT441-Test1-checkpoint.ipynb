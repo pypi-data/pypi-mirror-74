{
 "cells": [
  {
   "cell_type": "code",
   "execution_count": null,
   "metadata": {},
   "outputs": [],
   "source": [
    "import warnings, os\n",
    "warnings.filterwarnings(\"ignore\")\n",
    "warnings.simplefilter(\"ignore\")\n",
    "\n",
    "os.environ[\"PYTHONWARNINGS\"] = \"ignore\" # Also affect subprocesses"
   ]
  },
  {
   "cell_type": "code",
   "execution_count": null,
   "metadata": {},
   "outputs": [],
   "source": [
    "import sys\n",
    "sys.path.append(\"/home/renatomz/Documents/Projects/Dal-io\")"
   ]
  },
  {
   "cell_type": "markdown",
   "metadata": {},
   "source": [
    "## Import Base Packages"
   ]
  },
  {
   "cell_type": "code",
   "execution_count": null,
   "metadata": {},
   "outputs": [],
   "source": [
    "import numpy as np\n",
    "import pandas as pd\n",
    "\n",
    "%matplotlib inline\n",
    "import matplotlib as plt\n",
    "\n",
    "from scipy.stats import skew, kurtosis"
   ]
  },
  {
   "cell_type": "markdown",
   "metadata": {},
   "source": [
    "## Import Dal-IO Pieces"
   ]
  },
  {
   "cell_type": "code",
   "execution_count": null,
   "metadata": {
    "scrolled": false
   },
   "outputs": [],
   "source": [
    "from dalio.base.memory import LazyRunner, LocalMemory\n",
    "\n",
    "from dalio.external import (\n",
    "    PandasInFile,\n",
    "    YahooDR, \n",
    "    PyPlotGraph, \n",
    "    PyPfOptGraph,\n",
    "    PySubplotGraph\n",
    ")\n",
    "\n",
    "from dalio.translator import (\n",
    "    YahooStockTranslator,\n",
    "    StockStreamFileTranslator,\n",
    ")\n",
    "    \n",
    "from dalio.pipe import (\n",
    "    Pipe,\n",
    "    PipeLine,\n",
    "    DateSelect,\n",
    "    ColSelect, \n",
    "    Index,\n",
    "    Change,\n",
    "    StockReturns, \n",
    "    Period, \n",
    "    Custom, \n",
    "    Rolling,\n",
    "    CovShrink, \n",
    "    ExpectedReturns,\n",
    "    PandasLinearModel,\n",
    "    OptimumWeights,\n",
    ")\n",
    "\n",
    "from dalio.model import (\n",
    "    MakeCriticalLine, \n",
    "    MakeEfficientFrontier, \n",
    "    OptimumPortfolio,\n",
    "    XYLinearModel,\n",
    ")\n",
    "\n",
    "from dalio.application import (\n",
    "    Grapher,\n",
    "    PandasTSGrapher,\n",
    "    PandasMultiGrapher,\n",
    "    LMGrapher,\n",
    ")\n",
    "\n",
    "from dalio.ops import risk_metrics"
   ]
  },
  {
   "cell_type": "markdown",
   "metadata": {},
   "source": [
    "## Base Setup"
   ]
  },
  {
   "cell_type": "code",
   "execution_count": null,
   "metadata": {},
   "outputs": [],
   "source": [
    "yahoo_in = YahooStockTranslator()(YahooDR())\n",
    "yahoo = ColSelect(columns=\"close\")(yahoo_in)"
   ]
  },
  {
   "cell_type": "code",
   "execution_count": null,
   "metadata": {},
   "outputs": [],
   "source": [
    "stocks = StockStreamFileTranslator()(PandasInFile(\"sample_stocks.xlsx\"))"
   ]
  },
  {
   "cell_type": "code",
   "execution_count": null,
   "metadata": {},
   "outputs": [],
   "source": [
    "raw_in = Pipe()(stocks)"
   ]
  },
  {
   "cell_type": "code",
   "execution_count": null,
   "metadata": {},
   "outputs": [],
   "source": [
    "time = DateSelect()\n",
    "time.set_start(\"1999-12-31\")\n",
    "time.set_end(\"2019-12-31\")\n",
    "\n",
    "mem = LazyRunner(LocalMemory, buff=4, update=True)(raw_in) # 11.09 sec\n",
    "# mem = raw_in # 28.14 sec\n",
    "price = PipeLine(time)(mem)"
   ]
  },
  {
   "cell_type": "code",
   "execution_count": null,
   "metadata": {},
   "outputs": [],
   "source": [
    "simple_rets = price + Change(strategy=\"pct_change\")\n",
    "\n",
    "# ticker = [\"WMT\", \"MSFT\", \"AMZN\", \"HD\"]\n",
    "# ticker = [\"AMZN\", \"HD\", \"NVDA\", \"RL\"]\n",
    "ticker = [\"NVDA\", \"RL\", \"GPS\", \"WMT\"]\n",
    "# ticker = [\"GPS\", \"MSFT\", \"AMZN\", \"NVDA\"]"
   ]
  },
  {
   "cell_type": "code",
   "execution_count": null,
   "metadata": {},
   "outputs": [],
   "source": [
    "price.run(ticker=ticker)"
   ]
  },
  {
   "cell_type": "markdown",
   "metadata": {},
   "source": [
    "## Part A"
   ]
  },
  {
   "cell_type": "markdown",
   "metadata": {},
   "source": [
    "### Setup"
   ]
  },
  {
   "cell_type": "code",
   "execution_count": null,
   "metadata": {
    "scrolled": true
   },
   "outputs": [],
   "source": [
    "daily_var = simple_rets + Custom(risk_metrics, 0.94)\n",
    "daily_vol = daily_var + Custom(lambda x: np.sqrt(x))"
   ]
  },
  {
   "cell_type": "code",
   "execution_count": null,
   "metadata": {},
   "outputs": [],
   "source": [
    "daily_vol.run(ticker=ticker)"
   ]
  },
  {
   "cell_type": "code",
   "execution_count": null,
   "metadata": {},
   "outputs": [],
   "source": [
    "ret_avg = simple_rets + Custom(np.mean)\n",
    "ret_sd = simple_rets + Custom(np.std)\n",
    "ret_skew = simple_rets + Custom(skew)\n",
    "ret_kurt = simple_rets + Custom(kurtosis)"
   ]
  },
  {
   "cell_type": "code",
   "execution_count": null,
   "metadata": {},
   "outputs": [],
   "source": [
    "ret_avg.run(ticker=ticker)"
   ]
  },
  {
   "cell_type": "code",
   "execution_count": null,
   "metadata": {},
   "outputs": [],
   "source": [
    "summary_grapher = PandasMultiGrapher(2, 2)\\\n",
    "    .set_input((0, 0), price)\\\n",
    "        .set_piece((0, 0), \"line\", x_index=True, y=\"price\", lw=0.5)\\\n",
    "    .set_input((0, 1), simple_rets)\\\n",
    "        .set_piece((0, 1), \"line\", x_index=True, y=\"price\", lw=0.3)\\\n",
    "    .set_input((1, 0), daily_vol)\\\n",
    "        .set_piece((1, 0), \"line\", x_index=True, y=\"price\", lw=0.5)\\\n",
    "    .set_input((1, 1), simple_rets)\\\n",
    "        .set_piece((1, 1), \"histogram\", x=\"price\", bins=30)\\\n",
    "    .set_output(\"data_out\", PySubplotGraph(2, 2, figsize=(16, 8)))\n",
    "\n",
    "fig = summary_grapher.run(ticker=\"WMT\")"
   ]
  },
  {
   "cell_type": "markdown",
   "metadata": {},
   "source": [
    "## Part B"
   ]
  },
  {
   "cell_type": "markdown",
   "metadata": {},
   "source": [
    "### Setup"
   ]
  },
  {
   "cell_type": "code",
   "execution_count": null,
   "metadata": {},
   "outputs": [],
   "source": [
    "p = price.run(ticker=ticker)"
   ]
  },
  {
   "cell_type": "code",
   "execution_count": null,
   "metadata": {},
   "outputs": [],
   "source": [
    "p.resample(\"Y\").apply(lambda x: x[-1])"
   ]
  },
  {
   "cell_type": "code",
   "execution_count": null,
   "metadata": {},
   "outputs": [],
   "source": [
    "annual_rets = price + Period(\"Y\", agg_func=lambda x: (x[-1] - x[0])/x[0])"
   ]
  },
  {
   "cell_type": "code",
   "execution_count": null,
   "metadata": {},
   "outputs": [],
   "source": [
    "price"
   ]
  },
  {
   "cell_type": "code",
   "execution_count": null,
   "metadata": {},
   "outputs": [],
   "source": [
    "annual_rets = price + \\\n",
    "    Period(\"Y\", agg_func=lambda x: x[-1]) + \\\n",
    "    Change(strategy=\"pct_change\", rm_first=True)"
   ]
  },
  {
   "cell_type": "code",
   "execution_count": null,
   "metadata": {},
   "outputs": [],
   "source": [
    "annual_rets.run(ticker=ticker)"
   ]
  },
  {
   "cell_type": "code",
   "execution_count": null,
   "metadata": {},
   "outputs": [],
   "source": [
    "avg_rets = simple_rets + Period(\"Y\", agg_func=np.mean)\n",
    "var_rets = simple_rets + Period(\"Y\", agg_func=np.var)\n",
    "std_rets = simple_rets + Period(\"Y\", agg_func=np.std)"
   ]
  },
  {
   "cell_type": "code",
   "execution_count": null,
   "metadata": {},
   "outputs": [],
   "source": [
    "ann_agg = annual_rets + Custom(np.mean)"
   ]
  },
  {
   "cell_type": "code",
   "execution_count": null,
   "metadata": {},
   "outputs": [],
   "source": [
    "ann_agg.run(ticker=ticker)"
   ]
  },
  {
   "cell_type": "code",
   "execution_count": null,
   "metadata": {},
   "outputs": [],
   "source": [
    "cov_rets = annual_rets + Custom(lambda x: x.cov(), strategy=\"pipe\")\n",
    "corr_rets = annual_rets + Custom(lambda x: x.corr(), strategy=\"pipe\")"
   ]
  },
  {
   "cell_type": "code",
   "execution_count": null,
   "metadata": {
    "scrolled": true
   },
   "outputs": [],
   "source": [
    "cov_rets.run(ticker=ticker)"
   ]
  },
  {
   "cell_type": "code",
   "execution_count": null,
   "metadata": {},
   "outputs": [],
   "source": [
    "S = CovShrink(frequency=252)(price)\\\n",
    "    .set_piece(\"shrinkage\", \"ledoit_wolf\")\n",
    "\n",
    "mu = ExpectedReturns()(price)\\\n",
    "    .set_piece(\"return_model\", \"james_stein_shrinkage\")"
   ]
  },
  {
   "cell_type": "code",
   "execution_count": null,
   "metadata": {},
   "outputs": [],
   "source": [
    "cla_lo = MakeCriticalLine(weight_bounds=(0.05, 1))\\\n",
    "    .set_input(\"sample_covariance\", cov_rets)\\\n",
    "    .set_input(\"expected_returns\", ann_agg)"
   ]
  },
  {
   "cell_type": "code",
   "execution_count": null,
   "metadata": {},
   "outputs": [],
   "source": [
    "res = cla_lo.run(ticker=ticker)"
   ]
  },
  {
   "cell_type": "code",
   "execution_count": null,
   "metadata": {},
   "outputs": [],
   "source": [
    "res.efficient_frontier(points=100)"
   ]
  },
  {
   "cell_type": "code",
   "execution_count": null,
   "metadata": {},
   "outputs": [],
   "source": [
    "cla_graph = Grapher()\\\n",
    "    .set_input(\"data_in\", cla_lo)\\\n",
    "    .set_output(\"data_out\", PyPfOptGraph(figsize=(12, 8)))"
   ]
  },
  {
   "cell_type": "code",
   "execution_count": null,
   "metadata": {},
   "outputs": [],
   "source": [
    "cla_graph.run(ticker=ticker)"
   ]
  },
  {
   "cell_type": "markdown",
   "metadata": {},
   "source": [
    "## Part C"
   ]
  },
  {
   "cell_type": "markdown",
   "metadata": {},
   "source": [
    "### Setup Efficient Frontier"
   ]
  },
  {
   "cell_type": "code",
   "execution_count": null,
   "metadata": {},
   "outputs": [],
   "source": [
    "ef_lo = MakeEfficientFrontier(weight_bounds=(0.05, 1))\\\n",
    "    .set_input(\"sample_covariance\", cov_rets)\\\n",
    "    .set_input(\"expected_returns\", ann_agg)\n",
    "\n",
    "ef_ls = MakeEfficientFrontier(weight_bounds=(-1, 1))\\\n",
    "    .set_input(\"sample_covariance\", cov_rets)\\\n",
    "    .set_input(\"expected_returns\", ann_agg)"
   ]
  },
  {
   "cell_type": "markdown",
   "metadata": {},
   "source": [
    "#### Get long-only efficient frontier"
   ]
  },
  {
   "cell_type": "code",
   "execution_count": null,
   "metadata": {
    "scrolled": true
   },
   "outputs": [],
   "source": [
    "lo_res = ef_lo.run(ticker=ticker)"
   ]
  },
  {
   "cell_type": "code",
   "execution_count": null,
   "metadata": {
    "tags": []
   },
   "outputs": [],
   "source": [
    "lo_res.max_sharpe(risk_free_rate=0.0)"
   ]
  },
  {
   "cell_type": "code",
   "execution_count": null,
   "metadata": {
    "scrolled": true
   },
   "outputs": [],
   "source": [
    "lo_res.portfolio_performance()"
   ]
  },
  {
   "cell_type": "markdown",
   "metadata": {},
   "source": [
    "#### Get long-short efficient frontier"
   ]
  },
  {
   "cell_type": "code",
   "execution_count": null,
   "metadata": {
    "scrolled": true,
    "tags": []
   },
   "outputs": [],
   "source": [
    "ls_res = ef_ls.run(ticker=ticker)"
   ]
  },
  {
   "cell_type": "code",
   "execution_count": null,
   "metadata": {
    "tags": []
   },
   "outputs": [],
   "source": [
    "ls_res.max_sharpe(risk_free_rate=0.0)"
   ]
  },
  {
   "cell_type": "code",
   "execution_count": null,
   "metadata": {
    "scrolled": true
   },
   "outputs": [],
   "source": [
    "ls_res.portfolio_performance()"
   ]
  },
  {
   "cell_type": "markdown",
   "metadata": {},
   "source": [
    "#### Get optimum weights"
   ]
  },
  {
   "cell_type": "code",
   "execution_count": null,
   "metadata": {},
   "outputs": [],
   "source": [
    "max_shp_weights_lo = OptimumWeights()(ef_lo)\\\n",
    "    .set_piece(\"strategy\", \"max_sharpe\", risk_free_rate=0.0)\n",
    "\n",
    "max_shp_weights_ls = OptimumWeights()(ef_ls)\\\n",
    "    .set_piece(\"strategy\", \"max_sharpe\", risk_free_rate=0.0)\n",
    "\n",
    "min_vol_weights_lo = max_shp_weights_lo.with_piece(\"strategy\", \"min_volatility\")\n",
    "\n",
    "min_vol_weights_ls = max_shp_weights_ls.with_piece(\"strategy\", \"min_volatility\")"
   ]
  },
  {
   "cell_type": "code",
   "execution_count": null,
   "metadata": {
    "tags": []
   },
   "outputs": [],
   "source": [
    "max_shp_weights_lo.run(ticker=ticker)"
   ]
  },
  {
   "cell_type": "code",
   "execution_count": null,
   "metadata": {
    "tags": []
   },
   "outputs": [],
   "source": [
    "max_shp_weights_ls.run(ticker=ticker)"
   ]
  },
  {
   "cell_type": "code",
   "execution_count": null,
   "metadata": {
    "tags": []
   },
   "outputs": [],
   "source": [
    "min_vol_weights_lo.run(ticker=ticker)"
   ]
  },
  {
   "cell_type": "code",
   "execution_count": null,
   "metadata": {},
   "outputs": [],
   "source": [
    "min_vol_weights_ls.run(ticker=ticker)"
   ]
  },
  {
   "cell_type": "markdown",
   "metadata": {},
   "source": [
    "## Part D"
   ]
  },
  {
   "cell_type": "markdown",
   "metadata": {},
   "source": [
    "### Setup"
   ]
  },
  {
   "cell_type": "code",
   "execution_count": null,
   "metadata": {},
   "outputs": [],
   "source": [
    "two_years = DateSelect()\\\n",
    "    .set_start(\"2018-01-01\")\\\n",
    "    .set_end(\"2019-12-31\")\n",
    "\n",
    "price_2y = PipeLine(two_years)(mem)\n",
    "rets_2y = simple_rets.with_input(price_2y)"
   ]
  },
  {
   "cell_type": "code",
   "execution_count": null,
   "metadata": {},
   "outputs": [],
   "source": [
    "lm = PandasLinearModel()\\\n",
    "    .set_input(Index(100)(price_2y))\\\n",
    "    .set_piece(\"strategy\", \"LinearRegression\")"
   ]
  },
  {
   "cell_type": "code",
   "execution_count": null,
   "metadata": {},
   "outputs": [],
   "source": [
    "res = lm.run(ticker=ticker)"
   ]
  },
  {
   "cell_type": "code",
   "execution_count": null,
   "metadata": {},
   "outputs": [],
   "source": [
    "res.intercept_"
   ]
  },
  {
   "cell_type": "code",
   "execution_count": null,
   "metadata": {},
   "outputs": [],
   "source": [
    "res.coef_"
   ]
  },
  {
   "cell_type": "code",
   "execution_count": null,
   "metadata": {},
   "outputs": [],
   "source": [
    "all_lm_graph = LMGrapher(legend=\"upper left\")\\\n",
    "    .set_input(\"data_in\", Index(100)(price_2y))\\\n",
    "    .set_input(\"linear_model\", lm)\\\n",
    "    .set_output(\"data_out\", PyPlotGraph(figsize=(12, 8)))"
   ]
  },
  {
   "cell_type": "code",
   "execution_count": null,
   "metadata": {
    "scrolled": true,
    "tags": []
   },
   "outputs": [],
   "source": [
    "all_lm_graph.run(ticker=ticker)"
   ]
  },
  {
   "cell_type": "code",
   "execution_count": null,
   "metadata": {},
   "outputs": [],
   "source": [
    "comp_tick = \"WMT\"\n",
    "\n",
    "spy = ColSelect((\"price\", \"SPY\"))(rets_2y)\n",
    "comp = ColSelect((\"price\", comp_tick))(rets_2y)\n",
    "\n",
    " # Using simple_rets for full data optimization\n",
    "opt_port = OptimumPortfolio()\\\n",
    "    .set_input(\"data_in\", simple_rets)\\\n",
    "    .set_input(\"weights_in\", max_shp_weights_lo)\n",
    "\n",
    "sp500_lm = XYLinearModel()\\\n",
    "    .set_input(\"x\", spy)\\\n",
    "    .set_input(\"y\", two_years(opt_port))\\\n",
    "    .set_piece(\"strategy\", \"LinearRegression\")\n",
    "\n",
    "lm_res = sp500_lm.run(ticker=[comp_tick, \"SPY\"])"
   ]
  },
  {
   "cell_type": "code",
   "execution_count": null,
   "metadata": {
    "scrolled": false,
    "tags": []
   },
   "outputs": [],
   "source": [
    "opt_port.run(ticker=ticker)"
   ]
  },
  {
   "cell_type": "code",
   "execution_count": null,
   "metadata": {},
   "outputs": [],
   "source": [
    "lm_res.coef_"
   ]
  },
  {
   "cell_type": "code",
   "execution_count": null,
   "metadata": {
    "tags": []
   },
   "outputs": [],
   "source": [
    "lm_res.score(\n",
    "    spy.run(), \n",
    "    comp.run()\n",
    ")"
   ]
  },
  {
   "cell_type": "code",
   "execution_count": null,
   "metadata": {},
   "outputs": [],
   "source": [
    "sp500_lm_graph = LMGrapher(x=(\"price\", \"SPY\"), y=(\"price\", \"WMT\"))\\\n",
    "    .set_input(\"data_in\", rets_2y)\\\n",
    "    .set_input(\"linear_model\", sp500_lm)\\\n",
    "    .set_output(\"data_out\", PyPlotGraph(figsize=(12, 8)))"
   ]
  },
  {
   "cell_type": "code",
   "execution_count": null,
   "metadata": {
    "scrolled": false,
    "tags": []
   },
   "outputs": [],
   "source": [
    "sp500_lm_graph.run(ticker=[\"WMT\", \"SPY\"])"
   ]
  },
  {
   "cell_type": "markdown",
   "metadata": {},
   "source": [
    "## Part E"
   ]
  },
  {
   "cell_type": "markdown",
   "metadata": {},
   "source": [
    "### Setup"
   ]
  },
  {
   "cell_type": "code",
   "execution_count": null,
   "metadata": {},
   "outputs": [],
   "source": [
    "sp500_const = MakeEfficientFrontier(weight_bounds=(0.05, 1))\\\n",
    "    .set_input(\"sample_covariance\", cov_rets)\\\n",
    "    .set_input(\"expected_returns\", ann_agg)\\\n",
    "    .add_stock_weight_constraint(ticker=\"SPY\", comparisson=\"==\", weight=0.6)"
   ]
  },
  {
   "cell_type": "code",
   "execution_count": null,
   "metadata": {
    "scrolled": true,
    "tags": []
   },
   "outputs": [],
   "source": [
    "res = sp500_const.run(ticker=ticker+[\"SPY\"])"
   ]
  },
  {
   "cell_type": "code",
   "execution_count": null,
   "metadata": {
    "tags": []
   },
   "outputs": [],
   "source": [
    "res.max_sharpe(risk_free_rate=0.0)"
   ]
  },
  {
   "cell_type": "code",
   "execution_count": null,
   "metadata": {
    "scrolled": true
   },
   "outputs": [],
   "source": [
    "res.portfolio_performance()"
   ]
  },
  {
   "cell_type": "code",
   "execution_count": null,
   "metadata": {},
   "outputs": [],
   "source": [
    "sp_opt_weights = max_shp_weights_lo.with_input(sp500_const)"
   ]
  },
  {
   "cell_type": "code",
   "execution_count": null,
   "metadata": {},
   "outputs": [],
   "source": [
    "sp_opt_port = opt_port\\\n",
    "    .with_input(\"weights_in\", sp_opt_weights)\\\n",
    "    .set_input(\"data_in\", annual_rets)"
   ]
  },
  {
   "cell_type": "code",
   "execution_count": null,
   "metadata": {
    "tags": []
   },
   "outputs": [],
   "source": [
    "sp_opt_port.run(ticker=ticker+[\"SPY\"])"
   ]
  },
  {
   "cell_type": "code",
   "execution_count": null,
   "metadata": {
    "tags": []
   },
   "outputs": [],
   "source": [
    "simple_rets.run(ticker=\"SPY\")"
   ]
  }
 ],
 "metadata": {
  "kernelspec": {
   "display_name": "Python 3",
   "language": "python",
   "name": "python3"
  },
  "language_info": {
   "codemirror_mode": {
    "name": "ipython",
    "version": 3
   },
   "file_extension": ".py",
   "mimetype": "text/x-python",
   "name": "python",
   "nbconvert_exporter": "python",
   "pygments_lexer": "ipython3",
   "version": "3.7.6"
  }
 },
 "nbformat": 4,
 "nbformat_minor": 4
}
