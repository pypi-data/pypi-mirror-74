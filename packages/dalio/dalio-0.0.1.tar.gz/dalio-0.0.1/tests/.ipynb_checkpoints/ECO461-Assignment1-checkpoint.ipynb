{
 "cells": [
  {
   "cell_type": "code",
   "execution_count": null,
   "metadata": {
    "scrolled": true
   },
   "outputs": [],
   "source": [
    "import sys\n",
    "sys.path.append(\"/home/renatomz/Documents/Projects/Dal-io\")\n",
    "\n",
    "import warnings\n",
    "warnings.filterwarnings('ignore')\n",
    "warnings.simplefilter('ignore')"
   ]
  },
  {
   "cell_type": "markdown",
   "metadata": {},
   "source": [
    "## Import Base Packages"
   ]
  },
  {
   "cell_type": "code",
   "execution_count": null,
   "metadata": {},
   "outputs": [],
   "source": [
    "import numpy as np\n",
    "import pandas as pd\n",
    "import matplotlib as plt\n",
    "\n",
    "from scipy.stats import skew, kurtosis"
   ]
  },
  {
   "cell_type": "markdown",
   "metadata": {},
   "source": [
    "### Import Dal-io Pieces"
   ]
  },
  {
   "cell_type": "code",
   "execution_count": null,
   "metadata": {},
   "outputs": [],
   "source": [
    "from dalio.base.memory import LazyRunner, LocalMemory\n",
    "\n",
    "from dalio.external import (\n",
    "    YahooDR, \n",
    "    PyPlotGraph, \n",
    "    PandasInFile,\n",
    ")\n",
    "\n",
    "from dalio.translator import (\n",
    "    YahooStockTranslator,\n",
    "    StockStreamFileTranslator,\n",
    ")\n",
    "    \n",
    "from dalio.pipe import (\n",
    "    Pipe,\n",
    "    ColSelect, \n",
    "    Change,\n",
    "    DateSelect,\n",
    "    StockReturns, \n",
    "    Period, \n",
    "    Custom, \n",
    "    Rolling,\n",
    "    CovShrink, \n",
    "    PandasLinearModel,\n",
    "    ExpectedReturns,\n",
    "    OptimumWeights,\n",
    "    MakeARCH,\n",
    "    ValueAtRisk,\n",
    "    ExpectedShortfall,\n",
    "    PipeLine\n",
    ")\n",
    "\n",
    "from dalio.model import (\n",
    "    MakeEfficientFrontier, \n",
    "    OptimumPortfolio,\n",
    ")\n",
    "\n",
    "from dalio.application import (\n",
    "    Grapher,\n",
    "    PandasXYGrapher,\n",
    "    VaRGrapher,\n",
    ")\n",
    "\n",
    "from dalio.ops import risk_metrics"
   ]
  },
  {
   "cell_type": "markdown",
   "metadata": {},
   "source": [
    "### Basic Setup"
   ]
  },
  {
   "cell_type": "code",
   "execution_count": null,
   "metadata": {},
   "outputs": [],
   "source": [
    "yahoo_in = YahooStockTranslator()(YahooDR())\n",
    "yahoo = ColSelect(columns=\"adj_close\")(yahoo_in)"
   ]
  },
  {
   "cell_type": "code",
   "execution_count": null,
   "metadata": {},
   "outputs": [],
   "source": [
    "forex = StockStreamFileTranslator()(PandasInFile(\"sample_forex.xls\"))\n",
    "funds = StockStreamFileTranslator()(PandasInFile(\"sample_funds.xls\"))"
   ]
  },
  {
   "cell_type": "code",
   "execution_count": null,
   "metadata": {},
   "outputs": [],
   "source": [
    "raw_in = Pipe()(forex)"
   ]
  },
  {
   "cell_type": "markdown",
   "metadata": {},
   "source": [
    "### VaR"
   ]
  },
  {
   "cell_type": "code",
   "execution_count": null,
   "metadata": {},
   "outputs": [],
   "source": [
    "time = DateSelect()\\\n",
    "    .set_start(\"1988-01\")\\\n",
    "    .set_end(\"1997-08\")\n",
    "\n",
    "mem = LazyRunner(LocalMemory, buff=4, update=True)(raw_in)\n",
    "# mem = raw_in\n",
    "\n",
    "price = PipeLine(time)(mem)"
   ]
  },
  {
   "cell_type": "code",
   "execution_count": null,
   "metadata": {},
   "outputs": [],
   "source": [
    "price.run()"
   ]
  },
  {
   "cell_type": "code",
   "execution_count": null,
   "metadata": {},
   "outputs": [],
   "source": [
    "simple_rets = price + Change(strategy=\"pct_change\")\n",
    "\n",
    "one_tick = \"JPY-USD\"\n",
    "ticker = [\"DJI\", \"GSPC\" , \"IXIC\"]"
   ]
  },
  {
   "cell_type": "code",
   "execution_count": null,
   "metadata": {},
   "outputs": [],
   "source": [
    "simple_rets.run()"
   ]
  },
  {
   "cell_type": "code",
   "execution_count": null,
   "metadata": {},
   "outputs": [],
   "source": [
    "rets_avg = simple_rets + Custom(np.mean)\n",
    "rets_std = simple_rets + Custom(np.std)"
   ]
  },
  {
   "cell_type": "code",
   "execution_count": null,
   "metadata": {},
   "outputs": [],
   "source": [
    "rets_avg.run(ticker=one_tick)"
   ]
  },
  {
   "cell_type": "code",
   "execution_count": null,
   "metadata": {},
   "outputs": [],
   "source": [
    "am = MakeARCH()\\\n",
    "    .set_input(simple_rets + Custom(lambda df: df * 100, strategy=\"pipe\"))\\\n",
    "    .set_piece(\"mean\", \"ConstantMean\")\\\n",
    "    .set_piece(\"volatility\", \"RiskMetrics\", lam=None)\\\n",
    "    .set_piece(\"distribution\", \"Normal\")"
   ]
  },
  {
   "cell_type": "code",
   "execution_count": null,
   "metadata": {
    "tags": []
   },
   "outputs": [],
   "source": [
    "res = am.run(ticker=one_tick).fit()"
   ]
  },
  {
   "cell_type": "code",
   "execution_count": null,
   "metadata": {},
   "outputs": [],
   "source": [
    "res.params"
   ]
  },
  {
   "cell_type": "code",
   "execution_count": null,
   "metadata": {},
   "outputs": [],
   "source": [
    "am2 = am.with_piece(\"volatility\", \"GARCH\", p=1, q=1)"
   ]
  },
  {
   "cell_type": "code",
   "execution_count": null,
   "metadata": {
    "tags": []
   },
   "outputs": [],
   "source": [
    "res2 = am2.run(ticker=one_tick).fit()"
   ]
  },
  {
   "cell_type": "code",
   "execution_count": null,
   "metadata": {},
   "outputs": [],
   "source": [
    "res2.params"
   ]
  },
  {
   "cell_type": "code",
   "execution_count": null,
   "metadata": {},
   "outputs": [],
   "source": [
    "VaR025 = am.pipeline(ValueAtRisk(quantiles=[0.025]))"
   ]
  },
  {
   "cell_type": "code",
   "execution_count": null,
   "metadata": {
    "tags": []
   },
   "outputs": [],
   "source": [
    "var = VaR025.run(ticker=one_tick)"
   ]
  },
  {
   "cell_type": "code",
   "execution_count": null,
   "metadata": {},
   "outputs": [],
   "source": [
    "var"
   ]
  },
  {
   "cell_type": "code",
   "execution_count": null,
   "metadata": {
    "tags": []
   },
   "outputs": [],
   "source": [
    "var_grapher = VaRGrapher()\\\n",
    "    .set_input(\"data_in\", VaR025)\\\n",
    "    .set_output(\"data_out\", PyPlotGraph(figsize=(20, 5)))\n",
    "\n",
    "fig = var_grapher.run(ticker=one_tick)"
   ]
  },
  {
   "cell_type": "code",
   "execution_count": null,
   "metadata": {},
   "outputs": [],
   "source": [
    "ES025 = am.pipeline(ExpectedShortfall(quantiles=[0.025]))"
   ]
  },
  {
   "cell_type": "code",
   "execution_count": null,
   "metadata": {
    "tags": []
   },
   "outputs": [],
   "source": [
    "ES025.run(ticker=one_tick)"
   ]
  },
  {
   "cell_type": "markdown",
   "metadata": {},
   "source": [
    "### Switch input"
   ]
  },
  {
   "cell_type": "code",
   "execution_count": null,
   "metadata": {},
   "outputs": [],
   "source": [
    "raw_in.set_input(funds)\n",
    "\n",
    "# clear memory for new input\n",
    "mem.clear()"
   ]
  },
  {
   "cell_type": "code",
   "execution_count": null,
   "metadata": {},
   "outputs": [],
   "source": [
    "time.set_start(\"2011-01\")\n",
    "time.set_end(\"2017-12\")"
   ]
  },
  {
   "cell_type": "code",
   "execution_count": null,
   "metadata": {
    "scrolled": true
   },
   "outputs": [],
   "source": [
    "price.run()"
   ]
  },
  {
   "cell_type": "code",
   "execution_count": null,
   "metadata": {},
   "outputs": [],
   "source": [
    "S = CovShrink()(price)\\\n",
    "    .set_piece(\"shrinkage\", \"ledoit_wolf\")\n",
    "\n",
    "mu = ExpectedReturns()(price)\\\n",
    "    .set_piece(\"return_model\", \"mean_historical_return\")"
   ]
  },
  {
   "cell_type": "code",
   "execution_count": null,
   "metadata": {},
   "outputs": [],
   "source": [
    "annual_rets = price + \\\n",
    "    Period(\"Y\", agg_func=lambda x: x[-1]) + \\\n",
    "    Change(strategy=\"pct_change\", rm_first=True)\n",
    "\n",
    "ann_agg = annual_rets + Custom(np.mean)"
   ]
  },
  {
   "cell_type": "code",
   "execution_count": null,
   "metadata": {},
   "outputs": [],
   "source": [
    "cov_rets = annual_rets + Custom(lambda x: x.cov(), strategy=\"pipe\")"
   ]
  },
  {
   "cell_type": "code",
   "execution_count": null,
   "metadata": {},
   "outputs": [],
   "source": [
    "ef = MakeEfficientFrontier(weight_bounds=(0, 1))\\\n",
    "    .set_input(\"sample_covariance\", cov_rets)\\\n",
    "    .set_input(\"expected_returns\", ann_agg)\n",
    "\n",
    "opt_weights = OptimumWeights()(ef)\\\n",
    "    .set_piece(\"strategy\", \"max_sharpe\", risk_free_rate=0.0)"
   ]
  },
  {
   "cell_type": "code",
   "execution_count": null,
   "metadata": {},
   "outputs": [],
   "source": [
    "cov_rets.run(ticker=ticker)"
   ]
  },
  {
   "cell_type": "code",
   "execution_count": null,
   "metadata": {
    "tags": []
   },
   "outputs": [],
   "source": [
    "opt_weights.run(ticker=ticker)"
   ]
  },
  {
   "cell_type": "code",
   "execution_count": null,
   "metadata": {},
   "outputs": [],
   "source": [
    "opt_port = OptimumPortfolio()\\\n",
    "    .set_input(\"data_in\", price)\\\n",
    "    .set_input(\"weights_in\", opt_weights)"
   ]
  },
  {
   "cell_type": "code",
   "execution_count": null,
   "metadata": {
    "tags": []
   },
   "outputs": [],
   "source": [
    "opt_port.run(ticker=ticker)"
   ]
  },
  {
   "cell_type": "code",
   "execution_count": null,
   "metadata": {},
   "outputs": [],
   "source": [
    "opt_rets = PipeLine(StockReturns())(opt_port)\n",
    "opt_avg = rets_avg.with_input(opt_rets)\n",
    "opt_std = rets_std.with_input(opt_rets)"
   ]
  },
  {
   "cell_type": "code",
   "execution_count": null,
   "metadata": {
    "scrolled": true
   },
   "outputs": [],
   "source": [
    "# set input of ARCH Model, as that is in turn the value at risk input\n",
    "VaR025.set_input(opt_rets) # same as am.set_input(opt_port_scaled)"
   ]
  },
  {
   "cell_type": "code",
   "execution_count": null,
   "metadata": {},
   "outputs": [],
   "source": [
    "VaR025.run(ticker=ticker)"
   ]
  },
  {
   "cell_type": "code",
   "execution_count": null,
   "metadata": {},
   "outputs": [],
   "source": [
    "ES025.set_input(opt_rets)"
   ]
  },
  {
   "cell_type": "code",
   "execution_count": null,
   "metadata": {
    "tags": []
   },
   "outputs": [],
   "source": [
    "ES025.run(ticker=ticker)"
   ]
  },
  {
   "cell_type": "markdown",
   "metadata": {},
   "source": [
    "### Back Testing"
   ]
  },
  {
   "cell_type": "code",
   "execution_count": null,
   "metadata": {},
   "outputs": [],
   "source": [
    "test_dates = DateSelect()\\\n",
    "    .set_start(\"2018-01\")\\\n",
    "    .set_end(\"2019-12\")\n",
    "\n",
    "bt_price = PipeLine(test_dates)(mem)\n",
    "\n",
    "bt_port = opt_port\\\n",
    "    .with_input(\"data_in\", bt_price)\n",
    "\n",
    "bt_rets = opt_rets.with_input(bt_port)\n",
    "\n",
    "VaR025.set_input(bt_rets)"
   ]
  },
  {
   "cell_type": "code",
   "execution_count": null,
   "metadata": {},
   "outputs": [],
   "source": [
    "bt_price.run()"
   ]
  },
  {
   "cell_type": "code",
   "execution_count": null,
   "metadata": {
    "tags": []
   },
   "outputs": [],
   "source": [
    "var = VaR025.run(ticker=ticker)\n",
    "var"
   ]
  },
  {
   "cell_type": "code",
   "execution_count": null,
   "metadata": {
    "tags": []
   },
   "outputs": [],
   "source": [
    "fig = var_grapher.reset_out().run(ticker=ticker)"
   ]
  },
  {
   "cell_type": "code",
   "execution_count": null,
   "metadata": {},
   "outputs": [],
   "source": [
    "fig.savefig(\"var.png\")"
   ]
  },
  {
   "cell_type": "code",
   "execution_count": null,
   "metadata": {},
   "outputs": [],
   "source": [
    "np.sum(var[\"max_exedence\"] <= 0.025)"
   ]
  },
  {
   "cell_type": "markdown",
   "metadata": {},
   "source": [
    "### RiskMetrics"
   ]
  },
  {
   "cell_type": "code",
   "execution_count": null,
   "metadata": {
    "scrolled": true
   },
   "outputs": [],
   "source": [
    "daily_var = opt_rets + Custom(risk_metrics, 0.94)"
   ]
  },
  {
   "cell_type": "code",
   "execution_count": null,
   "metadata": {
    "tags": []
   },
   "outputs": [],
   "source": [
    "daily_var.run(ticker=ticker)"
   ]
  },
  {
   "cell_type": "code",
   "execution_count": null,
   "metadata": {},
   "outputs": [],
   "source": [
    "VaR01 = am.pipeline(\n",
    "    ValueAtRisk(quantiles=[0.01])\n",
    ")(bt_rets)"
   ]
  },
  {
   "cell_type": "code",
   "execution_count": null,
   "metadata": {
    "tags": []
   },
   "outputs": [],
   "source": [
    "var = VaR01.run(ticker=ticker)\n",
    "var"
   ]
  },
  {
   "cell_type": "code",
   "execution_count": null,
   "metadata": {
    "tags": []
   },
   "outputs": [],
   "source": [
    "var_grapher.set_input(\"data_in\", VaR01)\n",
    "\n",
    "fig = var_grapher.reset_out().run(ticker=ticker)"
   ]
  },
  {
   "cell_type": "code",
   "execution_count": null,
   "metadata": {},
   "outputs": [],
   "source": [
    "np.sum(var[\"max_exedence\"] <= 0.01)"
   ]
  },
  {
   "cell_type": "code",
   "execution_count": null,
   "metadata": {},
   "outputs": [],
   "source": [
    "np.sum(var[\"returns\"] <= -var[\"1.0%\"])"
   ]
  },
  {
   "cell_type": "code",
   "execution_count": null,
   "metadata": {},
   "outputs": [],
   "source": []
  },
  {
   "cell_type": "code",
   "execution_count": null,
   "metadata": {},
   "outputs": [],
   "source": []
  }
 ],
 "metadata": {
  "kernelspec": {
   "display_name": "Python 3",
   "language": "python",
   "name": "python3"
  },
  "language_info": {
   "codemirror_mode": {
    "name": "ipython",
    "version": 3
   },
   "file_extension": ".py",
   "mimetype": "text/x-python",
   "name": "python",
   "nbconvert_exporter": "python",
   "pygments_lexer": "ipython3",
   "version": "3.7.6"
  }
 },
 "nbformat": 4,
 "nbformat_minor": 4
}
