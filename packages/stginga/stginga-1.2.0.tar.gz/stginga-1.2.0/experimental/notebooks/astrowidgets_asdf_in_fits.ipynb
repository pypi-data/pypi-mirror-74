{
 "cells": [
  {
   "cell_type": "markdown",
   "metadata": {},
   "source": [
    "# Reading JWST ASDF-in-FITS with `astrowidgets`\n",
    "\n",
    "This is a proof-of-concept using `astrowidgets` to read in JWST ASDF-in-FITS data. As it is using the dev versions of several different packages, this notebook is not guaranteed to work as-is in the future. As Ginga is primarily an image viewer, we will not concern ourselves with spectrocopic data models in this notebook.\n",
    "\n",
    "Relevant specs used in testing (more or less):\n",
    "\n",
    "* Python 3.7.3\n",
    "* `aggdraw` 1.3.11\n",
    "* `asdf` 2.4.0.dev\n",
    "* `astropy` 4.0.dev\n",
    "* `astrowidgets` 0.1.0.dev\n",
    "* `ginga` 3.0.dev (https://github.com/ejeschke/ginga/pull/781 and https://github.com/ejeschke/ginga/pull/764)\n",
    "* `gwcs` 0.12.dev\n",
    "* `ipyevents` 0.6.2\n",
    "* `ipywidgets` 7.5.0\n",
    "* `jsonschema` 2.6.0\n",
    "* `jupyter` 1.0.0\n",
    "* `jupyter_client` 5.3.1\n",
    "* `jupyter_console` 6.0.0\n",
    "* `jupyter_core` 4.5.0\n",
    "* `jwst` 0.13.8a0.dev\n",
    "* `notebook` 6.0.0\n",
    "* `numpy` 1.16.4\n",
    "* `opencv` 3.4.2\n",
    "* `scipy` 1.3.0\n",
    "* `stginga` 1.1.dev308 (https://github.com/spacetelescope/stginga/pull/177 and https://github.com/spacetelescope/stginga/pull/179)"
   ]
  },
  {
   "cell_type": "code",
   "execution_count": null,
   "metadata": {},
   "outputs": [],
   "source": [
    "import warnings\n",
    "\n",
    "from astropy.io import fits\n",
    "\n",
    "from astrowidgets import ImageWidget\n",
    "\n",
    "from ginga.misc.log import get_logger\n",
    "from ginga.util import wcsmod"
   ]
  },
  {
   "cell_type": "markdown",
   "metadata": {},
   "source": [
    "We need to ask Ginga to explicitly use its `astropy_ape14` WCS interface. This is unnecessary if every user sets it in their `~/.ginga/general.cfg` but that is not always guaranteed."
   ]
  },
  {
   "cell_type": "code",
   "execution_count": null,
   "metadata": {},
   "outputs": [],
   "source": [
    "wcsmod.use('astropy_ape14')"
   ]
  },
  {
   "cell_type": "markdown",
   "metadata": {},
   "source": [
    "This notebook assumes that you have downloaded a JWST data file of interest into the working directory. Example file can be found at https://stsci.box.com/s/hwrc5reqygmmv2rl3yvvz90l7ryjac6h (requires permission for access)."
   ]
  },
  {
   "cell_type": "code",
   "execution_count": null,
   "metadata": {},
   "outputs": [],
   "source": [
    "filename = 'jw1069001001_01203_00002_nrca1_level2_cal.fits'"
   ]
  },
  {
   "cell_type": "markdown",
   "metadata": {},
   "source": [
    "The following cell should show a multi-extension FITS with an ASDF-in-FITS extension. For example:\n",
    "\n",
    "    Filename: jw1069001001_01203_00002_nrca1_level2_cal.fits\n",
    "    No.    Name      Ver    Type      Cards   Dimensions   Format\n",
    "      0  PRIMARY       1 PrimaryHDU     232   ()      \n",
    "      1  SCI           1 ImageHDU        53   (2048, 2048)   float32   \n",
    "      2  ERR           1 ImageHDU        10   (2048, 2048)   float32   \n",
    "      3  DQ            1 ImageHDU        11   (2048, 2048)   int32 (rescales to uint32)   \n",
    "      4  AREA          1 ImageHDU         9   (2048, 2048)   float32   \n",
    "      5  VAR_POISSON    1 ImageHDU         9   (2048, 2048)   float32   \n",
    "      6  VAR_RNOISE    1 ImageHDU         9   (2048, 2048)   float32   \n",
    "      7  ASDF          1 BinTableHDU     11   1R x 1C   [14057B]   "
   ]
  },
  {
   "cell_type": "code",
   "execution_count": null,
   "metadata": {},
   "outputs": [],
   "source": [
    "with fits.open(filename) as pf:\n",
    "    pf.info()"
   ]
  },
  {
   "cell_type": "markdown",
   "metadata": {},
   "source": [
    "Then, we customize our image widget by subclassing `ImageWidget` and adding a method to load the file. In the future, after https://github.com/astropy/astrowidgets/pull/78 is merged, this subclassing will be unnecessary and we will be able to use `ImageWidget` directly."
   ]
  },
  {
   "cell_type": "code",
   "execution_count": null,
   "metadata": {},
   "outputs": [],
   "source": [
    "class JWSTImageWidget(ImageWidget):  \n",
    "    def load_file(self, filename):\n",
    "        from ginga.util.io import io_asdf\n",
    "        \n",
    "        # Even if jwst package is not called directly, it is used\n",
    "        # to load the correct GWCS data models behind the scenes.\n",
    "        image = io_asdf.load_file(filename)\n",
    "        self._viewer.set_image(image)"
   ]
  },
  {
   "cell_type": "markdown",
   "metadata": {},
   "source": [
    "We define a Ginga logger to go with our image widget. This logger prints out error messages to screen directly."
   ]
  },
  {
   "cell_type": "code",
   "execution_count": null,
   "metadata": {},
   "outputs": [],
   "source": [
    "logger = get_logger('my viewer', log_stderr=True, log_file=None, level=40)"
   ]
  },
  {
   "cell_type": "markdown",
   "metadata": {},
   "source": [
    "We create the widget instance. This would be the thing that you interface with for widget magic."
   ]
  },
  {
   "cell_type": "code",
   "execution_count": null,
   "metadata": {},
   "outputs": [],
   "source": [
    "w = JWSTImageWidget(logger=logger)"
   ]
  },
  {
   "cell_type": "markdown",
   "metadata": {},
   "source": [
    "We load our JWST data file into our widget instance."
   ]
  },
  {
   "cell_type": "code",
   "execution_count": null,
   "metadata": {},
   "outputs": [],
   "source": [
    "with warnings.catch_warnings():\n",
    "    warnings.simplefilter('ignore')  # Ignore validation warning\n",
    "    w.load_file(filename)"
   ]
  },
  {
   "cell_type": "markdown",
   "metadata": {},
   "source": [
    "This would display the widget. When you mouse over the pixels, you would see coordinates information (both pixels and sky) change. See https://astrowidgets.readthedocs.io/en/latest/ for documentation on `astrowidgets`."
   ]
  },
  {
   "cell_type": "code",
   "execution_count": null,
   "metadata": {},
   "outputs": [],
   "source": [
    "w"
   ]
  },
  {
   "cell_type": "markdown",
   "metadata": {},
   "source": [
    "Let's change the colormap, the stretch, and the cuts."
   ]
  },
  {
   "cell_type": "code",
   "execution_count": null,
   "metadata": {},
   "outputs": [],
   "source": [
    "w.set_colormap('viridis_r')\n",
    "w.stretch = 'log'\n",
    "w.cuts = 'histogram'"
   ]
  },
  {
   "cell_type": "markdown",
   "metadata": {},
   "source": [
    "Now, we mark some stars of interest by running the following cell and then click on the widget above. You will see a marker appear where you click each time. We will also customize how the marker would show in the viewer."
   ]
  },
  {
   "cell_type": "code",
   "execution_count": null,
   "metadata": {},
   "outputs": [],
   "source": [
    "marker_params = {'type': 'circle', 'color': 'red', 'radius': 10,\n",
    "                 'linewidth': 2}\n",
    "w.start_marking(marker_name='demo', marker=marker_params)\n",
    "print(w.is_marking)"
   ]
  },
  {
   "cell_type": "markdown",
   "metadata": {},
   "source": [
    "When we are done, we run the following cell to stop marking."
   ]
  },
  {
   "cell_type": "code",
   "execution_count": null,
   "metadata": {},
   "outputs": [],
   "source": [
    "w.stop_marking()\n",
    "print(w.is_marking)"
   ]
  },
  {
   "cell_type": "markdown",
   "metadata": {},
   "source": [
    "We can see the points we manually selected above."
   ]
  },
  {
   "cell_type": "code",
   "execution_count": null,
   "metadata": {},
   "outputs": [],
   "source": [
    "tab = w.get_markers(marker_name='all')\n",
    "tab.pprint_all()"
   ]
  },
  {
   "cell_type": "markdown",
   "metadata": {},
   "source": [
    "Optional: Delete all the markers to start over marking objects again above."
   ]
  },
  {
   "cell_type": "code",
   "execution_count": null,
   "metadata": {},
   "outputs": [],
   "source": [
    "w.reset_markers()"
   ]
  },
  {
   "cell_type": "markdown",
   "metadata": {},
   "source": [
    "<img style=\"float: right;\" src=\"https://raw.githubusercontent.com/spacetelescope/notebooks/master/assets/stsci_pri_combo_mark_horizonal_white_bkgd.png\" alt=\"Space Telescope Logo\" width=\"200px\"/>"
   ]
  }
 ],
 "metadata": {
  "kernelspec": {
   "display_name": "Python 3",
   "language": "python",
   "name": "python3"
  },
  "language_info": {
   "codemirror_mode": {
    "name": "ipython",
    "version": 3
   },
   "file_extension": ".py",
   "mimetype": "text/x-python",
   "name": "python",
   "nbconvert_exporter": "python",
   "pygments_lexer": "ipython3",
   "version": "3.7.3"
  }
 },
 "nbformat": 4,
 "nbformat_minor": 2
}
