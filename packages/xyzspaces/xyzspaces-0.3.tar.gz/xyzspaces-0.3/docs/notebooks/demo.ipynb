{
 "cells": [
  {
   "cell_type": "markdown",
   "metadata": {},
   "source": [
    "# Demo for XYZ Spaces for Python\n",
    "\n",
    "This notebook shows a demo of xyzspaces."
   ]
  },
  {
   "cell_type": "code",
   "execution_count": null,
   "metadata": {},
   "outputs": [],
   "source": [
    "# This is only to show what to integrate better into Jupyter in the future\n",
    "# (not covered further in this notebook).\n",
    "\n",
    "from IPython.display import IFrame\n",
    "\n",
    "url = \"https://xyz.here.com/viewer/\"\n",
    "project_id = \"5c54716d-f900-4b89-80ac-b21518e94b30\"\n",
    "IFrame(src=f\"{url}?project_id={project_id}\", width=\"100%\", height=400)"
   ]
  },
  {
   "cell_type": "code",
   "execution_count": null,
   "metadata": {},
   "outputs": [],
   "source": [
    "import os\n",
    "\n",
    "import requests\n",
    "from sidecar import Sidecar\n",
    "from ipyleaflet import Map, GeoJSON, FullScreenControl\n",
    "\n",
    "from xyzspaces.apis import HubApi\n",
    "from xyzspaces.datasets import get_countries_data"
   ]
  },
  {
   "cell_type": "code",
   "execution_count": null,
   "metadata": {},
   "outputs": [],
   "source": [
    "xyz_token = os.environ[\"XYZ_TOKEN\"]\n",
    "api = HubApi(credentials=xyz_token)\n",
    "\n",
    "# create a temporary space\n",
    "res = api.post_space(\n",
    "    data={\"title\": \"My Demo Space\",\n",
    "          \"description\": \"Demo\"})\n",
    "space_id = res[\"id\"]"
   ]
  },
  {
   "cell_type": "code",
   "execution_count": null,
   "metadata": {},
   "outputs": [],
   "source": [
    "# create map widget in sidebar (JupyterLab needed)\n",
    "m = Map(zoom=2)\n",
    "with Sidecar(title='XYZ'):\n",
    "    display(m)"
   ]
  },
  {
   "cell_type": "code",
   "execution_count": null,
   "metadata": {},
   "outputs": [],
   "source": [
    "# load https://raw.githubusercontent.com/johan/world.geo.json/master/countries.geo.json\n",
    "# with minor clean-ups\n",
    "gj = get_countries_data()"
   ]
  },
  {
   "cell_type": "code",
   "execution_count": null,
   "metadata": {},
   "outputs": [],
   "source": [
    "# add world GeoJSON to XYZ space (returns the added GeoJSON)\n",
    "world = api.put_space_features(\n",
    "    space_id=space_id, \n",
    "    data=gj)"
   ]
  },
  {
   "cell_type": "code",
   "execution_count": null,
   "metadata": {},
   "outputs": [],
   "source": [
    "# add entire GeoJSON feature from XYZ to the map\n",
    "m += GeoJSON(data=world)"
   ]
  },
  {
   "cell_type": "code",
   "execution_count": null,
   "metadata": {},
   "outputs": [],
   "source": [
    "# add \"full screen\" button to map\n",
    "m += FullScreenControl()"
   ]
  },
  {
   "cell_type": "code",
   "execution_count": null,
   "metadata": {},
   "outputs": [],
   "source": [
    "# get one feature (France) from XYZ space\n",
    "fra = api.get_space_feature(\n",
    "    space_id=space_id,\n",
    "    feature_id=\"FRA\"\n",
    ")"
   ]
  },
  {
   "cell_type": "code",
   "execution_count": null,
   "metadata": {},
   "outputs": [],
   "source": [
    "# add the feature to the map\n",
    "style = dict(\n",
    "    color=\"red\",\n",
    "    opacity=1,\n",
    "    weight=1.9, \n",
    "    fillOpacity=0.5\n",
    ")\n",
    "m += GeoJSON(data=fra, style=style)"
   ]
  },
  {
   "cell_type": "code",
   "execution_count": null,
   "metadata": {},
   "outputs": [],
   "source": [
    "# show only countries on southern hemisphere \n",
    "bbox = [-180, -90, 180, 0]\n",
    "kwargs = dict(space_id=space_id, bbox=bbox)\n",
    "hemi = api.get_space_bbox(**kwargs)\n",
    "m += GeoJSON(data=hemi, style=style)"
   ]
  },
  {
   "cell_type": "code",
   "execution_count": null,
   "metadata": {},
   "outputs": [],
   "source": [
    "# show the same but with clipped borders \n",
    "kwargs[\"clip\"] = True\n",
    "hemi = api.get_space_bbox(**kwargs)\n",
    "style[\"color\"] = \"yellow\"\n",
    "m += GeoJSON(data=hemi, style=style)"
   ]
  },
  {
   "cell_type": "code",
   "execution_count": null,
   "metadata": {},
   "outputs": [],
   "source": [
    "# Spatial search: Given latitude and longitude search intersecting geometry.\n",
    "\n",
    "spatial_search = api.get_space_spatial(space_id=space_id, lat=19.1526, lon=72.8557)\n",
    "spatial_search\n",
    "style[\"color\"] = \"orange\" \n",
    "m += GeoJSON(data=spatial_search, style=style)\n",
    "m"
   ]
  },
  {
   "cell_type": "code",
   "execution_count": null,
   "metadata": {},
   "outputs": [],
   "source": [
    "# clean-up and delete temporary space\n",
    "api.delete_space(space_id=space_id)"
   ]
  }
 ],
 "metadata": {
  "kernelspec": {
   "display_name": "Python 3",
   "language": "python",
   "name": "python3"
  },
  "language_info": {
   "codemirror_mode": {
    "name": "ipython",
    "version": 3
   },
   "file_extension": ".py",
   "mimetype": "text/x-python",
   "name": "python",
   "nbconvert_exporter": "python",
   "pygments_lexer": "ipython3",
   "version": "3.7.3"
  }
 },
 "nbformat": 4,
 "nbformat_minor": 4
}
