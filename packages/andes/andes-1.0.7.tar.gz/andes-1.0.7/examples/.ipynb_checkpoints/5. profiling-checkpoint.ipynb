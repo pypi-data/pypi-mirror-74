{
 "cells": [
  {
   "cell_type": "markdown",
   "metadata": {},
   "source": [
    "# Profiling ANDES in Notebook"
   ]
  },
  {
   "cell_type": "markdown",
   "metadata": {},
   "source": [
    "## Profiling with Python CProfiler"
   ]
  },
  {
   "cell_type": "code",
   "execution_count": 1,
   "metadata": {},
   "outputs": [],
   "source": [
    "import andes\n",
    "from andes.utils.paths import get_case\n",
    "\n",
    "case_path = get_case('kundur/kundur_full.xlsx')"
   ]
  },
  {
   "cell_type": "markdown",
   "metadata": {},
   "source": [
    "Passing `profile=True, no_output = True` to `run` will enable the profiler and have the results printed."
   ]
  },
  {
   "cell_type": "code",
   "execution_count": 2,
   "metadata": {},
   "outputs": [
    {
     "name": "stderr",
     "output_type": "stream",
     "text": [
      "Working directory: \"/Users/hcui7/repos/andes/examples\"\n",
      "Parsing input file \"/Users/hcui7/repos/andes/andes/cases/kundur/kundur_full.xlsx\"\n",
      "Input file parsed in 0.1158 seconds.\n",
      "\n",
      "-> Power flow calculation\n",
      "Method: NR method\n",
      "Power flow initialized.\n",
      "0: |F(x)| = 14.9283   \n",
      "1: |F(x)| = 3.60858   \n",
      "2: |F(x)| = 0.17009   \n",
      "3: |F(x)| = 0.00203822\n",
      "4: |F(x)| = 3.76399e-07\n",
      "Converged in 5 iterations in 0.0111 seconds.\n",
      "\n",
      "-> Time Domain Simulation Summary:\n",
      "Sparse Solver: KLU\n",
      "Simulation time: 0.0-20.0sec.\n",
      "Fixed step size: h=33.33msec., shrink if not converged\n",
      "Initialization was successful in 0.0159 seconds.\n"
     ]
    },
    {
     "name": "stdout",
     "output_type": "stream",
     "text": [
      "<Toggle 1>: Status of Line.Line_8 changed to 0.0 at t=2.0sec.         \n",
      "100%|████████████████████████████████| 100/100 [00:01<00:00, 63.85%/s]"
     ]
    },
    {
     "name": "stderr",
     "output_type": "stream",
     "text": [
      "Simulation completed in 1.5667 seconds.\n",
      "\n",
      "-> Single process finished in 1.8691 seconds.\n"
     ]
    },
    {
     "name": "stdout",
     "output_type": "stream",
     "text": [
      "\n",
      "         1272709 function calls (1267945 primitive calls) in 1.850 seconds\n",
      "\n",
      "   Ordered by: cumulative time\n",
      "   List reduced from 2079 to 40 due to restriction <40>\n",
      "\n",
      "   ncalls  tottime  percall  cumtime  percall filename:lineno(function)\n",
      "        1    0.005    0.005    1.630    1.630 /Users/hcui7/repos/andes/andes/routines/tds.py:144(run)\n",
      "      600    0.083    0.000    1.535    0.003 /Users/hcui7/repos/andes/andes/routines/tds.py:256(_itm_step)\n",
      "     1834    0.007    0.000    1.233    0.001 /Users/hcui7/repos/andes/andes/routines/tds.py:244(_fg_update)\n",
      "     9227    0.075    0.000    1.175    0.000 /Users/hcui7/repos/andes/andes/system.py:872(call_models)\n",
      "     1839    0.002    0.000    0.641    0.000 /Users/hcui7/repos/andes/andes/system.py:582(g_update)\n",
      "    18370    0.208    0.000    0.613    0.000 /Users/hcui7/repos/andes/andes/core/model.py:1083(g_update)\n",
      "     1839    0.002    0.000    0.285    0.000 /Users/hcui7/repos/andes/andes/system.py:568(f_update)\n",
      "    18370    0.120    0.000    0.257    0.000 /Users/hcui7/repos/andes/andes/core/model.py:1052(f_update)\n",
      "        1    0.000    0.000    0.206    0.206 /Users/hcui7/repos/andes/andes/main.py:235(load)\n",
      "     1839    0.003    0.000    0.139    0.000 /Users/hcui7/repos/andes/andes/system.py:542(l_update_eq)\n",
      "        1    0.000    0.000    0.117    0.117 /Users/hcui7/repos/andes/andes/io/__init__.py:94(parse)\n",
      "        1    0.000    0.000    0.115    0.115 /Users/hcui7/repos/andes/andes/io/xlsx.py:84(read)\n",
      "44340/44338    0.109    0.000    0.109    0.000 {built-in method numpy.array}\n",
      "     1839    0.003    0.000    0.097    0.000 /Users/hcui7/repos/andes/andes/system.py:552(fg_to_dae)\n",
      "        1    0.000    0.000    0.095    0.095 /Users/hcui7/miniconda3/envs/a/lib/python3.7/site-packages/pandas/io/excel/_base.py:270(read_excel)\n",
      "     3678    0.014    0.000    0.094    0.000 /Users/hcui7/repos/andes/andes/system.py:722(_e_to_dae)\n",
      "     1839    0.085    0.000    0.091    0.000 <lambdifygenerated-50>:1(_lambdifygenerated)\n",
      "     1834    0.070    0.000    0.086    0.000 <lambdifygenerated-149>:1(_lambdifygenerated)\n",
      "     1838    0.001    0.000    0.082    0.000 /Users/hcui7/repos/andes/andes/core/solver.py:34(solve)\n",
      "     1838    0.009    0.000    0.081    0.000 /Users/hcui7/repos/andes/andes/core/solver.py:156(solve)\n",
      "    25726    0.080    0.000    0.080    0.000 {method 'at' of 'numpy.ufunc' objects}\n",
      "    94/51    0.001    0.000    0.074    0.001 <frozen importlib._bootstrap>:978(_find_and_load)\n",
      "     1839    0.067    0.000    0.072    0.000 <lambdifygenerated-6>:1(_lambdifygenerated)\n",
      "    76/34    0.000    0.000    0.072    0.002 <frozen importlib._bootstrap>:948(_find_and_load_unlocked)\n",
      "        1    0.000    0.000    0.070    0.070 /Users/hcui7/repos/andes/andes/system.py:60(__init__)\n",
      "12700/10559    0.015    0.000    0.070    0.000 {built-in method numpy.core._multiarray_umath.implement_array_function}\n",
      "     1834    0.056    0.000    0.065    0.000 <lambdifygenerated-150>:1(_lambdifygenerated)\n",
      "       12    0.005    0.000    0.064    0.005 /Users/hcui7/miniconda3/envs/a/lib/python3.7/site-packages/pandas/core/frame.py:414(__init__)\n",
      "     1839    0.002    0.000    0.063    0.000 /Users/hcui7/repos/andes/andes/system.py:534(l_update_var)\n",
      "    66/25    0.000    0.000    0.063    0.003 <frozen importlib._bootstrap>:663(_load_unlocked)\n",
      "       29    0.002    0.000    0.063    0.002 /Users/hcui7/repos/andes/andes/system.py:596(j_update)\n",
      "    61/25    0.000    0.000    0.062    0.002 <frozen importlib._bootstrap_external>:722(exec_module)\n",
      "       38    0.000    0.000    0.053    0.001 /Users/hcui7/miniconda3/envs/a/lib/python3.7/importlib/__init__.py:109(import_module)\n",
      "       38    0.000    0.000    0.053    0.001 <frozen importlib._bootstrap>:994(_gcd_import)\n",
      "        1    0.000    0.000    0.052    0.052 /Users/hcui7/miniconda3/envs/a/lib/python3.7/site-packages/pandas/io/excel/_base.py:829(parse)\n",
      "        1    0.000    0.000    0.052    0.052 /Users/hcui7/miniconda3/envs/a/lib/python3.7/site-packages/pandas/io/excel/_base.py:390(parse)\n",
      "    18370    0.014    0.000    0.051    0.000 /Users/hcui7/repos/andes/andes/core/model.py:845(l_set_eq)\n",
      "    18370    0.016    0.000    0.051    0.000 /Users/hcui7/repos/andes/andes/core/model.py:830(l_check_eq)\n",
      "    82/26    0.000    0.000    0.049    0.002 <frozen importlib._bootstrap>:211(_call_with_frames_removed)\n",
      "      270    0.039    0.000    0.048    0.000 /Users/hcui7/repos/andes/andes/core/model.py:1110(j_update)\n",
      "\n",
      "\n"
     ]
    }
   ],
   "source": [
    "ss = andes.run(case_path, profile=True, routine='tds', no_output=True)"
   ]
  },
  {
   "cell_type": "markdown",
   "metadata": {},
   "source": [
    "## Profiling with `line_profiler`."
   ]
  },
  {
   "cell_type": "markdown",
   "metadata": {},
   "source": [
    "`line_profiler` provides line-based profiling results for functions. \n",
    "\n",
    "Install with `pip install line_profiler` and restart the notebook."
   ]
  },
  {
   "cell_type": "code",
   "execution_count": 3,
   "metadata": {},
   "outputs": [],
   "source": [
    "import andes\n",
    "from andes.utils.paths import get_case\n",
    "\n",
    "case_path = get_case('kundur/kundur_full.xlsx')"
   ]
  },
  {
   "cell_type": "markdown",
   "metadata": {},
   "source": [
    "### Profile power flow "
   ]
  },
  {
   "cell_type": "markdown",
   "metadata": {},
   "source": [
    "Pass the function name to profile to the magic `%lprun`, followed by a call to the function itself or an upper-level function.\n",
    "\n",
    "Results will be shown in a popup window."
   ]
  },
  {
   "cell_type": "code",
   "execution_count": 4,
   "metadata": {},
   "outputs": [
    {
     "name": "stderr",
     "output_type": "stream",
     "text": [
      "Working directory: \"/Users/hcui7/repos/andes/examples\"\n",
      "Parsing input file \"/Users/hcui7/repos/andes/andes/cases/kundur/kundur_full.xlsx\"\n",
      "Input file parsed in 0.1106 seconds.\n",
      "\n",
      "-> Power flow calculation\n",
      "Method: NR method\n",
      "Power flow initialized.\n",
      "0: |F(x)| = 14.9283   \n",
      "1: |F(x)| = 3.60858   \n",
      "2: |F(x)| = 0.17009   \n",
      "3: |F(x)| = 0.00203822\n",
      "4: |F(x)| = 3.76399e-07\n",
      "Converged in 5 iterations in 0.0099 seconds.\n",
      "-> Single process finished in 0.1719 seconds.\n"
     ]
    }
   ],
   "source": [
    "%lprun -f andes.routines.pflow.PFlow.run andes.run(case_path, no_output=True)"
   ]
  },
  {
   "cell_type": "markdown",
   "metadata": {},
   "source": [
    "Alternatively, do"
   ]
  },
  {
   "cell_type": "code",
   "execution_count": 5,
   "metadata": {},
   "outputs": [
    {
     "name": "stderr",
     "output_type": "stream",
     "text": [
      "Working directory: \"/Users/hcui7/repos/andes/examples\"\n",
      "Parsing input file \"/Users/hcui7/repos/andes/andes/cases/kundur/kundur_full.xlsx\"\n",
      "Input file parsed in 0.0565 seconds.\n",
      "\n",
      "-> Power flow calculation\n",
      "Method: NR method\n",
      "Power flow initialized.\n",
      "0: |F(x)| = 14.9283   \n",
      "1: |F(x)| = 3.60858   \n",
      "2: |F(x)| = 0.17009   \n",
      "3: |F(x)| = 0.00203822\n",
      "4: |F(x)| = 3.76399e-07\n",
      "Converged in 5 iterations in 0.0092 seconds.\n",
      "-> Single process finished in 0.0995 seconds.\n"
     ]
    }
   ],
   "source": [
    "ss = andes.run(case_path, no_output=True)"
   ]
  },
  {
   "cell_type": "code",
   "execution_count": 6,
   "metadata": {},
   "outputs": [
    {
     "name": "stderr",
     "output_type": "stream",
     "text": [
      "\n",
      "-> Power flow calculation\n",
      "Method: NR method\n",
      "Power flow initialized.\n",
      "0: |F(x)| = 14.9283   \n",
      "1: |F(x)| = 3.60858   \n",
      "2: |F(x)| = 0.17009   \n",
      "3: |F(x)| = 0.00203822\n",
      "4: |F(x)| = 3.76399e-07\n",
      "Converged in 5 iterations in 0.0116 seconds.\n"
     ]
    }
   ],
   "source": [
    "%lprun -f ss.PFlow.run ss.PFlow.run()"
   ]
  },
  {
   "cell_type": "markdown",
   "metadata": {},
   "source": [
    "To dig into the Newton Raphson iteration steps, profile each step instead with:"
   ]
  },
  {
   "cell_type": "code",
   "execution_count": 7,
   "metadata": {},
   "outputs": [
    {
     "name": "stderr",
     "output_type": "stream",
     "text": [
      "\n",
      "-> Power flow calculation\n",
      "Method: NR method\n",
      "Power flow initialized.\n",
      "0: |F(x)| = 14.9283   \n",
      "1: |F(x)| = 3.60858   \n",
      "2: |F(x)| = 0.17009   \n",
      "3: |F(x)| = 0.00203822\n",
      "4: |F(x)| = 3.76399e-07\n",
      "Converged in 5 iterations in 0.0104 seconds.\n"
     ]
    }
   ],
   "source": [
    "%lprun -f ss.PFlow.nr_step ss.PFlow.run()"
   ]
  },
  {
   "cell_type": "markdown",
   "metadata": {},
   "source": [
    "### Profile time-domain simulation"
   ]
  },
  {
   "cell_type": "code",
   "execution_count": 8,
   "metadata": {},
   "outputs": [
    {
     "name": "stderr",
     "output_type": "stream",
     "text": [
      "\n",
      "-> Time Domain Simulation Summary:\n",
      "Sparse Solver: KLU\n",
      "Simulation time: 0.0-20.0sec.\n",
      "Fixed step size: h=33.33msec., shrink if not converged\n",
      "Initialization was successful in 0.0191 seconds.\n"
     ]
    },
    {
     "name": "stdout",
     "output_type": "stream",
     "text": [
      "<Toggle 1>: Status of Line.Line_8 changed to 0.0 at t=2.0sec.         \n",
      "100%|████████████████████████████████| 100/100 [00:01<00:00, 52.32%/s]"
     ]
    },
    {
     "name": "stderr",
     "output_type": "stream",
     "text": [
      "Simulation completed in 1.9118 seconds.\n"
     ]
    },
    {
     "name": "stdout",
     "output_type": "stream",
     "text": [
      "\n"
     ]
    }
   ],
   "source": [
    "%lprun -f ss.TDS._itm_step ss.TDS.run()"
   ]
  },
  {
   "cell_type": "markdown",
   "metadata": {},
   "source": [
    "## Cleanup"
   ]
  },
  {
   "cell_type": "code",
   "execution_count": 9,
   "metadata": {},
   "outputs": [
    {
     "name": "stdout",
     "output_type": "stream",
     "text": [
      "\r\n",
      "    _           _         | Version 0.8.8.post42+gcfb26c4a\r\n",
      "   /_\\  _ _  __| |___ ___ | Python 3.7.1 on Darwin, 05/02/2020 01:04:54 PM\r\n",
      "  / _ \\| ' \\/ _` / -_|_-< | \r\n",
      " /_/ \\_\\_||_\\__,_\\___/__/ | This program comes with ABSOLUTELY NO WARRANTY.\r\n",
      "\r\n",
      "No output file found in the working directory.\r\n"
     ]
    }
   ],
   "source": [
    "!andes misc -C"
   ]
  }
 ],
 "metadata": {
  "kernelspec": {
   "display_name": "Python 3",
   "language": "python",
   "name": "python3"
  },
  "language_info": {
   "codemirror_mode": {
    "name": "ipython",
    "version": 3
   },
   "file_extension": ".py",
   "mimetype": "text/x-python",
   "name": "python",
   "nbconvert_exporter": "python",
   "pygments_lexer": "ipython3",
   "version": "3.7.1"
  }
 },
 "nbformat": 4,
 "nbformat_minor": 4
}
