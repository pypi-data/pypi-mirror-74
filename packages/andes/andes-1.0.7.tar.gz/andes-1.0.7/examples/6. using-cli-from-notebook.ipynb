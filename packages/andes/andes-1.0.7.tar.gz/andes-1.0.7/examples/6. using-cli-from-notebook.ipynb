{
 "cells": [
  {
   "cell_type": "markdown",
   "metadata": {},
   "source": [
    "# Using Command-Line Interface (CLI) from Notebook"
   ]
  },
  {
   "cell_type": "markdown",
   "metadata": {},
   "source": [
    "This example notebook is a supplement to the ANDES tutorial. Make sure you have read the tutorial on using the CLI first.\n",
    "\n",
    "A brief version can be found at https://github.com/cuihantao/andes/blob/master/README.md#run-simulations"
   ]
  },
  {
   "cell_type": "markdown",
   "metadata": {},
   "source": [
    "## The `!` magic in iPython"
   ]
  },
  {
   "cell_type": "markdown",
   "metadata": {},
   "source": [
    "This example shows how to use the ANDES CLI from Jupyter Notebook.\n",
    "\n",
    "It is based on the iPython magic `!`. To run a shell command from within iPython or notebook, place a `!` before the command."
   ]
  },
  {
   "cell_type": "markdown",
   "metadata": {},
   "source": [
    "All the commands demonstrated in this notebook can be used in a terminal/shell by removing the preceeding `!` sign."
   ]
  },
  {
   "cell_type": "markdown",
   "metadata": {
    "pycharm": {
     "name": "#%% md\n"
    }
   },
   "source": [
    "For example, to list the directory , use `!ls`. This is equivalent to running `ls` from the terminal."
   ]
  },
  {
   "cell_type": "code",
   "execution_count": 1,
   "metadata": {
    "pycharm": {
     "name": "#%%\n"
    }
   },
   "outputs": [
    {
     "name": "stdout",
     "output_type": "stream",
     "text": [
      "'1. simulate_and_plot.ipynb'  '5. profiling.ipynb'\r\n",
      "'2. inspect_data.ipynb'       '6. using-cli-from-notebook.ipynb'\r\n",
      "'3. eigenvalue.ipynb'\t      '7. parallel-simulation.ipynb'\r\n",
      "'4. inspect_models.ipynb'\r\n"
     ]
    }
   ],
   "source": [
    "!ls"
   ]
  },
  {
   "cell_type": "markdown",
   "metadata": {
    "pycharm": {
     "name": "#%% md\n"
    }
   },
   "source": [
    "Likewise, to run `andes`, use `!andes`. Addition arguments can be passed as usual."
   ]
  },
  {
   "cell_type": "code",
   "execution_count": 2,
   "metadata": {
    "pycharm": {
     "name": "#%%\n"
    }
   },
   "outputs": [
    {
     "name": "stdout",
     "output_type": "stream",
     "text": [
      "\r\n",
      "    _           _         | Version 0.8.8.post41.dev0+g56198e1\r\n",
      "   /_\\  _ _  __| |___ ___ | Python 3.7.3 on Linux, 05/02/2020 12:57:33 PM\r\n",
      "  / _ \\| ' \\/ _` / -_|_-< | \r\n",
      " /_/ \\_\\_||_\\__,_\\___/__/ | This program comes with ABSOLUTELY NO WARRANTY.\r\n",
      "\r\n",
      "usage: andes [-h] [-v {1,10,20,30,40,50}]\r\n",
      "             {run,plot,doc,misc,prepare,selftest} ...\r\n",
      "\r\n",
      "positional arguments:\r\n",
      "  {run,plot,doc,misc,prepare,selftest}\r\n",
      "                        [run] run simulation routine; [plot] plot simulation\r\n",
      "                        results; [doc] quick documentation; [prepare] run the\r\n",
      "                        symbolic-to-numeric preparation; [misc] miscellaneous\r\n",
      "                        functions.\r\n",
      "\r\n",
      "optional arguments:\r\n",
      "  -h, --help            show this help message and exit\r\n",
      "  -v {1,10,20,30,40,50}, --verbose {1,10,20,30,40,50}\r\n",
      "                        Program logging level in 10-DEBUG, 20-INFO,\r\n",
      "                        30-WARNING, 40-ERROR or 50-CRITICAL.\r\n"
     ]
    }
   ],
   "source": [
    "!andes"
   ]
  },
  {
   "cell_type": "markdown",
   "metadata": {
    "pycharm": {
     "name": "#%% md\n"
    }
   },
   "source": [
    "## Run a simulation"
   ]
  },
  {
   "cell_type": "markdown",
   "metadata": {},
   "source": [
    "Pass the path to the case file and other arguments to andes from the command line as follows."
   ]
  },
  {
   "cell_type": "code",
   "execution_count": 3,
   "metadata": {
    "pycharm": {
     "name": "#%%\n"
    }
   },
   "outputs": [
    {
     "name": "stdout",
     "output_type": "stream",
     "text": [
      "\n",
      "    _           _         | Version 0.8.8.post41.dev0+g56198e1\n",
      "   /_\\  _ _  __| |___ ___ | Python 3.7.3 on Linux, 05/02/2020 12:57:35 PM\n",
      "  / _ \\| ' \\/ _` / -_|_-< | \n",
      " /_/ \\_\\_||_\\__,_\\___/__/ | This program comes with ABSOLUTELY NO WARRANTY.\n",
      "\n",
      "Working directory: \"/home/hcui7/repos/andes/examples\"\n",
      "Parsing input file \"../andes/cases/kundur/kundur_full.xlsx\"\n",
      "Input file parsed in 0.0817 seconds.\n",
      "\n",
      "-> Power flow calculation\n",
      "Method: NR method\n",
      "Power flow initialized.\n",
      "0: |F(x)| = 14.9283   \n",
      "1: |F(x)| = 3.60858   \n",
      "2: |F(x)| = 0.17009   \n",
      "3: |F(x)| = 0.00203822\n",
      "4: |F(x)| = 3.76399e-07\n",
      "Converged in 5 iterations in 0.0082 seconds.\n",
      "Report saved to \"kundur_full_out.txt\" in 0.0007 seconds.\n",
      "\n",
      "-> Time Domain Simulation Summary:\n",
      "Sparse Solver: KLU\n",
      "Simulation time: 0.0-20.0sec.\n",
      "Fixed step size: h=33.33msec., shrink if not converged\n",
      "Initialization was successful in 0.0190 seconds.\n",
      "<Toggle 1>: Status of Line.Line_8 changed to 0.0 at t=2.0sec.         \n",
      "100%|████████████████████████████████| 100/100 [00:02<00:00, 42.58%/s]\n",
      "Simulation completed in 2.3486 seconds.\n",
      "TDS outputs saved in 0.0492 seconds.\n",
      "-> Single process finished in 2.6142 seconds.\n"
     ]
    }
   ],
   "source": [
    "!andes run ../andes/cases/kundur/kundur_full.xlsx -r tds"
   ]
  },
  {
   "cell_type": "markdown",
   "metadata": {},
   "source": [
    "Case file names can be separated from the path, which can be passed to `-p`. The above command is equivanent to"
   ]
  },
  {
   "cell_type": "code",
   "execution_count": 4,
   "metadata": {},
   "outputs": [
    {
     "name": "stdout",
     "output_type": "stream",
     "text": [
      "\n",
      "    _           _         | Version 0.8.8.post41.dev0+g56198e1\n",
      "   /_\\  _ _  __| |___ ___ | Python 3.7.3 on Linux, 05/02/2020 12:57:39 PM\n",
      "  / _ \\| ' \\/ _` / -_|_-< | \n",
      " /_/ \\_\\_||_\\__,_\\___/__/ | This program comes with ABSOLUTELY NO WARRANTY.\n",
      "\n",
      "Working directory: \"/home/hcui7/repos/andes/examples\"\n",
      "Parsing input file \"../andes/cases/kundur/kundur_full.xlsx\"\n",
      "Input file parsed in 0.0627 seconds.\n",
      "\n",
      "-> Power flow calculation\n",
      "Method: NR method\n",
      "Power flow initialized.\n",
      "0: |F(x)| = 14.9283   \n",
      "1: |F(x)| = 3.60858   \n",
      "2: |F(x)| = 0.17009   \n",
      "3: |F(x)| = 0.00203822\n",
      "4: |F(x)| = 3.76399e-07\n",
      "Converged in 5 iterations in 0.0078 seconds.\n",
      "Report saved to \"kundur_full_out.txt\" in 0.0009 seconds.\n",
      "\n",
      "-> Time Domain Simulation Summary:\n",
      "Sparse Solver: KLU\n",
      "Simulation time: 0.0-20.0sec.\n",
      "Fixed step size: h=33.33msec., shrink if not converged\n",
      "Initialization was successful in 0.0170 seconds.\n",
      "<Toggle 1>: Status of Line.Line_8 changed to 0.0 at t=2.0sec.         \n",
      "100%|████████████████████████████████| 100/100 [00:01<00:00, 66.84%/s]\n",
      "Simulation completed in 1.4962 seconds.\n",
      "TDS outputs saved in 0.0352 seconds.\n",
      "-> Single process finished in 1.6869 seconds.\n"
     ]
    }
   ],
   "source": [
    "!andes run kundur_full.xlsx -p \"../andes/cases/kundur/\" -r tds"
   ]
  },
  {
   "cell_type": "markdown",
   "metadata": {},
   "source": [
    "### PSS/E RAW and DYR Files"
   ]
  },
  {
   "cell_type": "markdown",
   "metadata": {},
   "source": [
    "To run a simulation using PSS/E raw and dyr files, pass the dyr file to argument `--addfile`. \n",
    "\n",
    "For example:"
   ]
  },
  {
   "cell_type": "code",
   "execution_count": 5,
   "metadata": {},
   "outputs": [
    {
     "name": "stdout",
     "output_type": "stream",
     "text": [
      "\n",
      "    _           _         | Version 0.8.8.post41.dev0+g56198e1\n",
      "   /_\\  _ _  __| |___ ___ | Python 3.7.3 on Linux, 05/02/2020 12:57:43 PM\n",
      "  / _ \\| ' \\/ _` / -_|_-< | \n",
      " /_/ \\_\\_||_\\__,_\\___/__/ | This program comes with ABSOLUTELY NO WARRANTY.\n",
      "\n",
      "Working directory: \"/home/hcui7/repos/andes/examples\"\n",
      "Parsing input file \"../andes/cases/kundur/kundur_full.raw\"\n",
      "  MODIFIED KUNDUR'S TWO-AREA TEST SYSTEM, DISTRIBUTED WITH ANDES\n",
      "  SEE THE BOOK \"POWER SYSTEM STABILITY AND CONTROL\" FOR ORIGINAL DATA\n",
      "Input file parsed in 0.0029 seconds.\n",
      "Parsing additional file \"../andes/cases/kundur/kundur_full.dyr\"\n",
      "\u001b[33mPSS/E dyr support is experimental.\u001b[0m\n",
      "Addfile parsed in 0.0353 seconds.\n",
      "\n",
      "-> Power flow calculation\n",
      "Method: NR method\n",
      "Power flow initialized.\n",
      "0: |F(x)| = 3.17585   \n",
      "1: |F(x)| = 3.17626e-06\n",
      "2: |F(x)| = 3.33604e-10\n",
      "Converged in 3 iterations in 0.0034 seconds.\n",
      "Report saved to \"kundur_full_out.txt\" in 0.0006 seconds.\n",
      "\n",
      "-> Time Domain Simulation Summary:\n",
      "Sparse Solver: KLU\n",
      "Simulation time: 0.0-20.0sec.\n",
      "Fixed step size: h=33.33msec., shrink if not converged\n",
      "Initialization was successful in 0.0128 seconds.\n",
      "<Toggle Toggler_1>: Status of Line.Line_8 changed to 0.0 at t=2.0sec. \n",
      "100%|████████████████████████████████| 100/100 [00:02<00:00, 49.30%/s]\n",
      "Simulation completed in 2.0285 seconds.\n",
      "TDS outputs saved in 0.0343 seconds.\n",
      "-> Single process finished in 2.1997 seconds.\n"
     ]
    }
   ],
   "source": [
    "!andes run kundur_full.raw --addfile kundur_full.dyr -p=\"../andes/cases/kundur\" -r tds"
   ]
  },
  {
   "cell_type": "markdown",
   "metadata": {
    "pycharm": {
     "name": "#%% md\n"
    }
   },
   "source": [
    "## Check the output `lst` file"
   ]
  },
  {
   "cell_type": "code",
   "execution_count": 6,
   "metadata": {
    "pycharm": {
     "name": "#%%\n"
    }
   },
   "outputs": [
    {
     "name": "stdout",
     "output_type": "stream",
     "text": [
      "     0,                  Time [s],                            Time [s]\r\n",
      "     1,            delta GENROU 1,                   $\\delta$ GENROU 1\r\n",
      "     2,            delta GENROU 2,                   $\\delta$ GENROU 2\r\n",
      "     3,            delta GENROU 3,                   $\\delta$ GENROU 3\r\n",
      "     4,            delta GENROU 4,                   $\\delta$ GENROU 4\r\n",
      "     5,            omega GENROU 1,                   $\\omega$ GENROU 1\r\n",
      "     6,            omega GENROU 2,                   $\\omega$ GENROU 2\r\n",
      "     7,            omega GENROU 3,                   $\\omega$ GENROU 3\r\n",
      "     8,            omega GENROU 4,                   $\\omega$ GENROU 4\r\n",
      "     9,              e1q GENROU 1,                     $e'_q$ GENROU 1\r\n",
      "    10,              e1q GENROU 2,                     $e'_q$ GENROU 2\r\n",
      "    11,              e1q GENROU 3,                     $e'_q$ GENROU 3\r\n",
      "    12,              e1q GENROU 4,                     $e'_q$ GENROU 4\r\n",
      "    13,              e1d GENROU 1,                     $e'_d$ GENROU 1\r\n",
      "    14,              e1d GENROU 2,                     $e'_d$ GENROU 2\r\n",
      "    15,              e1d GENROU 3,                     $e'_d$ GENROU 3\r\n",
      "    16,              e1d GENROU 4,                     $e'_d$ GENROU 4\r\n",
      "    17,              e2d GENROU 1,                    $e''_d$ GENROU 1\r\n",
      "    18,              e2d GENROU 2,                    $e''_d$ GENROU 2\r\n",
      "    19,              e2d GENROU 3,                    $e''_d$ GENROU 3\r\n",
      "    20,              e2d GENROU 4,                    $e''_d$ GENROU 4\r\n",
      "    21,              e2q GENROU 1,                    $e''_q$ GENROU 1\r\n",
      "    22,              e2q GENROU 2,                    $e''_q$ GENROU 2\r\n",
      "    23,              e2q GENROU 3,                    $e''_q$ GENROU 3\r\n",
      "    24,              e2q GENROU 4,                    $e''_q$ GENROU 4\r\n",
      "    25,             LAG_x TGOV1 1,                  $x'_{LAG}$ TGOV1 1\r\n",
      "    26,             LAG_x TGOV1 2,                  $x'_{LAG}$ TGOV1 2\r\n",
      "    27,             LAG_x TGOV1 3,                  $x'_{LAG}$ TGOV1 3\r\n",
      "    28,             LAG_x TGOV1 4,                  $x'_{LAG}$ TGOV1 4\r\n",
      "    29,              LL_x TGOV1 1,                   $x'_{LL}$ TGOV1 1\r\n",
      "    30,              LL_x TGOV1 2,                   $x'_{LL}$ TGOV1 2\r\n",
      "    31,              LL_x TGOV1 3,                   $x'_{LL}$ TGOV1 3\r\n",
      "    32,              LL_x TGOV1 4,                   $x'_{LL}$ TGOV1 4\r\n",
      "    33,                vp EXDC2 1,                       $V_p$ EXDC2 1\r\n",
      "    34,                vp EXDC2 2,                       $V_p$ EXDC2 2\r\n",
      "    35,                vp EXDC2 3,                       $V_p$ EXDC2 3\r\n",
      "    36,                vp EXDC2 4,                       $V_p$ EXDC2 4\r\n",
      "    37,              LS_x EXDC2 1,                   $x'_{LS}$ EXDC2 1\r\n",
      "    38,              LS_x EXDC2 2,                   $x'_{LS}$ EXDC2 2\r\n",
      "    39,              LS_x EXDC2 3,                   $x'_{LS}$ EXDC2 3\r\n",
      "    40,              LS_x EXDC2 4,                   $x'_{LS}$ EXDC2 4\r\n",
      "    41,              LL_x EXDC2 1,                   $x'_{LL}$ EXDC2 1\r\n",
      "    42,              LL_x EXDC2 2,                   $x'_{LL}$ EXDC2 2\r\n",
      "    43,              LL_x EXDC2 3,                   $x'_{LL}$ EXDC2 3\r\n",
      "    44,              LL_x EXDC2 4,                   $x'_{LL}$ EXDC2 4\r\n",
      "    45,              LA_x EXDC2 1,                   $x'_{LA}$ EXDC2 1\r\n",
      "    46,              LA_x EXDC2 2,                   $x'_{LA}$ EXDC2 2\r\n",
      "    47,              LA_x EXDC2 3,                   $x'_{LA}$ EXDC2 3\r\n",
      "    48,              LA_x EXDC2 4,                   $x'_{LA}$ EXDC2 4\r\n",
      "    49,               W_x EXDC2 1,                    $x'_{W}$ EXDC2 1\r\n",
      "    50,               W_x EXDC2 2,                    $x'_{W}$ EXDC2 2\r\n",
      "    51,               W_x EXDC2 3,                    $x'_{W}$ EXDC2 3\r\n",
      "    52,               W_x EXDC2 4,                    $x'_{W}$ EXDC2 4\r\n",
      "    53,                   a Bus 1,                      $\\theta$ Bus 1\r\n",
      "    54,                   a Bus 2,                      $\\theta$ Bus 2\r\n",
      "    55,                   a Bus 3,                      $\\theta$ Bus 3\r\n",
      "    56,                   a Bus 4,                      $\\theta$ Bus 4\r\n",
      "    57,                   a Bus 5,                      $\\theta$ Bus 5\r\n",
      "    58,                   a Bus 6,                      $\\theta$ Bus 6\r\n",
      "    59,                   a Bus 7,                      $\\theta$ Bus 7\r\n",
      "    60,                   a Bus 8,                      $\\theta$ Bus 8\r\n",
      "    61,                   a Bus 9,                      $\\theta$ Bus 9\r\n",
      "    62,                  a Bus 10,                     $\\theta$ Bus 10\r\n",
      "    63,                   v Bus 1,                           $V$ Bus 1\r\n",
      "    64,                   v Bus 2,                           $V$ Bus 2\r\n",
      "    65,                   v Bus 3,                           $V$ Bus 3\r\n",
      "    66,                   v Bus 4,                           $V$ Bus 4\r\n",
      "    67,                   v Bus 5,                           $V$ Bus 5\r\n",
      "    68,                   v Bus 6,                           $V$ Bus 6\r\n",
      "    69,                   v Bus 7,                           $V$ Bus 7\r\n",
      "    70,                   v Bus 8,                           $V$ Bus 8\r\n",
      "    71,                   v Bus 9,                           $V$ Bus 9\r\n",
      "    72,                  v Bus 10,                          $V$ Bus 10\r\n",
      "    73,                    p PV 2,                            $p$ PV 2\r\n",
      "    74,                    p PV 3,                            $p$ PV 3\r\n",
      "    75,                    p PV 4,                            $p$ PV 4\r\n",
      "    76,                    q PV 2,                            $q$ PV 2\r\n",
      "    77,                    q PV 3,                            $q$ PV 3\r\n",
      "    78,                    q PV 4,                            $q$ PV 4\r\n",
      "    79,                 p Slack 1,                         $p$ Slack 1\r\n",
      "    80,                 q Slack 1,                         $q$ Slack 1\r\n",
      "    81,               Id GENROU 1,                      $I_d$ GENROU 1\r\n",
      "    82,               Id GENROU 2,                      $I_d$ GENROU 2\r\n",
      "    83,               Id GENROU 3,                      $I_d$ GENROU 3\r\n",
      "    84,               Id GENROU 4,                      $I_d$ GENROU 4\r\n",
      "    85,               Iq GENROU 1,                      $I_q$ GENROU 1\r\n",
      "    86,               Iq GENROU 2,                      $I_q$ GENROU 2\r\n",
      "    87,               Iq GENROU 3,                      $I_q$ GENROU 3\r\n",
      "    88,               Iq GENROU 4,                      $I_q$ GENROU 4\r\n",
      "    89,               vd GENROU 1,                      $V_d$ GENROU 1\r\n",
      "    90,               vd GENROU 2,                      $V_d$ GENROU 2\r\n",
      "    91,               vd GENROU 3,                      $V_d$ GENROU 3\r\n",
      "    92,               vd GENROU 4,                      $V_d$ GENROU 4\r\n",
      "    93,               vq GENROU 1,                      $V_q$ GENROU 1\r\n",
      "    94,               vq GENROU 2,                      $V_q$ GENROU 2\r\n",
      "    95,               vq GENROU 3,                      $V_q$ GENROU 3\r\n",
      "    96,               vq GENROU 4,                      $V_q$ GENROU 4\r\n",
      "    97,               tm GENROU 1,                   $\\tau_m$ GENROU 1\r\n",
      "    98,               tm GENROU 2,                   $\\tau_m$ GENROU 2\r\n",
      "    99,               tm GENROU 3,                   $\\tau_m$ GENROU 3\r\n",
      "   100,               tm GENROU 4,                   $\\tau_m$ GENROU 4\r\n",
      "   101,               te GENROU 1,                   $\\tau_e$ GENROU 1\r\n",
      "   102,               te GENROU 2,                   $\\tau_e$ GENROU 2\r\n",
      "   103,               te GENROU 3,                   $\\tau_e$ GENROU 3\r\n",
      "   104,               te GENROU 4,                   $\\tau_e$ GENROU 4\r\n",
      "   105,               vf GENROU 1,                      $v_f$ GENROU 1\r\n",
      "   106,               vf GENROU 2,                      $v_f$ GENROU 2\r\n",
      "   107,               vf GENROU 3,                      $v_f$ GENROU 3\r\n",
      "   108,               vf GENROU 4,                      $v_f$ GENROU 4\r\n",
      "   109,             psid GENROU 1,                   $\\psi_d$ GENROU 1\r\n",
      "   110,             psid GENROU 2,                   $\\psi_d$ GENROU 2\r\n",
      "   111,             psid GENROU 3,                   $\\psi_d$ GENROU 3\r\n",
      "   112,             psid GENROU 4,                   $\\psi_d$ GENROU 4\r\n",
      "   113,             psiq GENROU 1,                   $\\psi_q$ GENROU 1\r\n",
      "   114,             psiq GENROU 2,                   $\\psi_q$ GENROU 2\r\n",
      "   115,             psiq GENROU 3,                   $\\psi_q$ GENROU 3\r\n",
      "   116,             psiq GENROU 4,                   $\\psi_q$ GENROU 4\r\n",
      "   117,            psiaq GENROU 1,                $\\psi_{aq}$ GENROU 1\r\n",
      "   118,            psiaq GENROU 2,                $\\psi_{aq}$ GENROU 2\r\n",
      "   119,            psiaq GENROU 3,                $\\psi_{aq}$ GENROU 3\r\n",
      "   120,            psiaq GENROU 4,                $\\psi_{aq}$ GENROU 4\r\n",
      "   121,            psiad GENROU 1,                $\\psi_{ad}$ GENROU 1\r\n",
      "   122,            psiad GENROU 2,                $\\psi_{ad}$ GENROU 2\r\n",
      "   123,            psiad GENROU 3,                $\\psi_{ad}$ GENROU 3\r\n",
      "   124,            psiad GENROU 4,                $\\psi_{ad}$ GENROU 4\r\n",
      "   125,             psia GENROU 1,                 $\\psi_{a}$ GENROU 1\r\n",
      "   126,             psia GENROU 2,                 $\\psi_{a}$ GENROU 2\r\n",
      "   127,             psia GENROU 3,                 $\\psi_{a}$ GENROU 3\r\n",
      "   128,             psia GENROU 4,                 $\\psi_{a}$ GENROU 4\r\n",
      "   129,               Se GENROU 1,          $S_e(|\\psi_{a}|)$ GENROU 1\r\n",
      "   130,               Se GENROU 2,          $S_e(|\\psi_{a}|)$ GENROU 2\r\n",
      "   131,               Se GENROU 3,          $S_e(|\\psi_{a}|)$ GENROU 3\r\n",
      "   132,               Se GENROU 4,          $S_e(|\\psi_{a}|)$ GENROU 4\r\n",
      "   133,              pout TGOV1 1,                   $P_{out}$ TGOV1 1\r\n",
      "   134,              pout TGOV1 2,                   $P_{out}$ TGOV1 2\r\n",
      "   135,              pout TGOV1 3,                   $P_{out}$ TGOV1 3\r\n",
      "   136,              pout TGOV1 4,                   $P_{out}$ TGOV1 4\r\n",
      "   137,              wref TGOV1 1,              $\\omega_{ref}$ TGOV1 1\r\n",
      "   138,              wref TGOV1 2,              $\\omega_{ref}$ TGOV1 2\r\n",
      "   139,              wref TGOV1 3,              $\\omega_{ref}$ TGOV1 3\r\n",
      "   140,              wref TGOV1 4,              $\\omega_{ref}$ TGOV1 4\r\n",
      "   141,              pref TGOV1 1,                   $P_{ref}$ TGOV1 1\r\n",
      "   142,              pref TGOV1 2,                   $P_{ref}$ TGOV1 2\r\n",
      "   143,              pref TGOV1 3,                   $P_{ref}$ TGOV1 3\r\n",
      "   144,              pref TGOV1 4,                   $P_{ref}$ TGOV1 4\r\n",
      "   145,              paux TGOV1 1,                   $P_{aux}$ TGOV1 1\r\n",
      "   146,              paux TGOV1 2,                   $P_{aux}$ TGOV1 2\r\n",
      "   147,              paux TGOV1 3,                   $P_{aux}$ TGOV1 3\r\n",
      "   148,              paux TGOV1 4,                   $P_{aux}$ TGOV1 4\r\n",
      "   149,                wd TGOV1 1,              $\\omega_{dev}$ TGOV1 1\r\n",
      "   150,                wd TGOV1 2,              $\\omega_{dev}$ TGOV1 2\r\n",
      "   151,                wd TGOV1 3,              $\\omega_{dev}$ TGOV1 3\r\n",
      "   152,                wd TGOV1 4,              $\\omega_{dev}$ TGOV1 4\r\n",
      "   153,                pd TGOV1 1,                       $P_d$ TGOV1 1\r\n",
      "   154,                pd TGOV1 2,                       $P_d$ TGOV1 2\r\n",
      "   155,                pd TGOV1 3,                       $P_d$ TGOV1 3\r\n",
      "   156,                pd TGOV1 4,                       $P_d$ TGOV1 4\r\n",
      "   157,              LL_y TGOV1 1,                    $y_{LL}$ TGOV1 1\r\n",
      "   158,              LL_y TGOV1 2,                    $y_{LL}$ TGOV1 2\r\n",
      "   159,              LL_y TGOV1 3,                    $y_{LL}$ TGOV1 3\r\n",
      "   160,              LL_y TGOV1 4,                    $y_{LL}$ TGOV1 4\r\n",
      "   161,                vi EXDC2 1,                       $V_i$ EXDC2 1\r\n",
      "   162,                vi EXDC2 2,                       $V_i$ EXDC2 2\r\n",
      "   163,                vi EXDC2 3,                       $V_i$ EXDC2 3\r\n",
      "   164,                vi EXDC2 4,                       $V_i$ EXDC2 4\r\n",
      "   165,              vout EXDC2 1,                   $v_{out}$ EXDC2 1\r\n",
      "   166,              vout EXDC2 2,                   $v_{out}$ EXDC2 2\r\n",
      "   167,              vout EXDC2 3,                   $v_{out}$ EXDC2 3\r\n",
      "   168,              vout EXDC2 4,                   $v_{out}$ EXDC2 4\r\n",
      "   169,                Se EXDC2 1,                       $S_e$ EXDC2 1\r\n",
      "   170,                Se EXDC2 2,                       $S_e$ EXDC2 2\r\n",
      "   171,                Se EXDC2 3,                       $S_e$ EXDC2 3\r\n",
      "   172,                Se EXDC2 4,                       $S_e$ EXDC2 4\r\n",
      "   173,              vref EXDC2 1,                   $V_{ref}$ EXDC2 1\r\n",
      "   174,              vref EXDC2 2,                   $V_{ref}$ EXDC2 2\r\n",
      "   175,              vref EXDC2 3,                   $V_{ref}$ EXDC2 3\r\n",
      "   176,              vref EXDC2 4,                   $V_{ref}$ EXDC2 4\r\n",
      "   177,              LL_y EXDC2 1,                    $y_{LL}$ EXDC2 1\r\n",
      "   178,              LL_y EXDC2 2,                    $y_{LL}$ EXDC2 2\r\n",
      "   179,              LL_y EXDC2 3,                    $y_{LL}$ EXDC2 3\r\n",
      "   180,              LL_y EXDC2 4,                    $y_{LL}$ EXDC2 4\r\n",
      "   181,               W_y EXDC2 1,                     $y_{W}$ EXDC2 1\r\n",
      "   182,               W_y EXDC2 2,                     $y_{W}$ EXDC2 2\r\n",
      "   183,               W_y EXDC2 3,                     $y_{W}$ EXDC2 3\r\n",
      "   184,               W_y EXDC2 4,                     $y_{W}$ EXDC2 4\r\n"
     ]
    }
   ],
   "source": [
    "!cat kundur_full_out.lst"
   ]
  },
  {
   "cell_type": "markdown",
   "metadata": {},
   "source": [
    "Windows users may not have `cat` by default in the search path. Do instead\n",
    "\n",
    "```\n",
    "with open('kundur_full_out.lst', 'r') as f:\n",
    "    print(f.read())\n",
    "```"
   ]
  },
  {
   "cell_type": "markdown",
   "metadata": {
    "pycharm": {
     "name": "#%% md\n"
    }
   },
   "source": [
    "## Plot and save to file"
   ]
  },
  {
   "cell_type": "markdown",
   "metadata": {},
   "source": [
    "We found a limitation of using `andes plot` from within Notebook/iPython. The figure won't be displayed correctly. The workaround is to save the image as a file and display it from the notebook.\n",
    "\n",
    "Please let us know if you have better solutions."
   ]
  },
  {
   "cell_type": "code",
   "execution_count": 7,
   "metadata": {
    "scrolled": true
   },
   "outputs": [
    {
     "name": "stdout",
     "output_type": "stream",
     "text": [
      "Figure saved to \"kundur_full_out_1.png\".\n",
      "Figure(640x480)\n"
     ]
    }
   ],
   "source": [
    "!andes plot kundur_full_out.lst 0 5 6 --save"
   ]
  },
  {
   "cell_type": "markdown",
   "metadata": {},
   "source": [
    "## Display image"
   ]
  },
  {
   "cell_type": "code",
   "execution_count": 8,
   "metadata": {
    "pycharm": {
     "name": "#%%\n"
    }
   },
   "outputs": [
    {
     "data": {
      "image/png": "[encoded data removed]",
      "text/plain": [
       "<IPython.core.display.Image object>"
      ]
     },
     "execution_count": 8,
     "metadata": {},
     "output_type": "execute_result"
    }
   ],
   "source": [
    "from IPython.display import Image\n",
    "Image(\"kundur_full_out_1.png\")"
   ]
  },
  {
   "cell_type": "markdown",
   "metadata": {},
   "source": [
    "## Using `xargs` for index loop up"
   ]
  },
  {
   "cell_type": "markdown",
   "metadata": {},
   "source": [
    "A convenient tool in Linux/macOS is `xargs`, which turns the standard output of one program into arguments for another.\n",
    "\n",
    "`andes plot --xargs` accepts an input of search pattern for variable names and returns a list of arguments, including the matched indices, that can be understood by `andes plot`.\n"
   ]
  },
  {
   "cell_type": "markdown",
   "metadata": {},
   "source": [
    "A convenient tool in Linux/macOS is `xargs`, which turns the standard output of one program into arguments for another.\n",
    "\n",
    "`andes plot --xargs` accepts an input of search pattern for variable names and returns a list of arguments, including the matched indices, that can be understood by `andes plot`.\n"
   ]
  },
  {
   "cell_type": "markdown",
   "metadata": {},
   "source": [
    "## Using `xargs` for index loop up"
   ]
  },
  {
   "cell_type": "markdown",
   "metadata": {},
   "source": [
    "A convenient tool in Linux/macOS is `xargs`, which turns the standard output of one program into arguments for another.\n",
    "\n",
    "`andes plot --xargs` accepts an input of search pattern for variable names and returns a list of arguments, including the matched indices, that can be understood by `andes plot`.\n"
   ]
  },
  {
   "cell_type": "markdown",
   "metadata": {},
   "source": [
    "To illustrate, let's look at an example output of `andes plot --xargs`."
   ]
  },
  {
   "cell_type": "code",
   "execution_count": 9,
   "metadata": {},
   "outputs": [
    {
     "name": "stdout",
     "output_type": "stream",
     "text": [
      "kundur_full_out.lst 0 5 6 7 8\r\n"
     ]
    }
   ],
   "source": [
    "!andes plot kundur_full_out.lst --xargs \"omega GENROU\""
   ]
  },
  {
   "cell_type": "markdown",
   "metadata": {},
   "source": [
    "The output consists of the lst file name, the default x-axis index `0`, and the indices for the found variables. The full output can be passed to `andes plot` without modification."
   ]
  },
  {
   "cell_type": "markdown",
   "metadata": {},
   "source": [
    "We use the following command to pass the arguments:"
   ]
  },
  {
   "cell_type": "code",
   "execution_count": 10,
   "metadata": {},
   "outputs": [
    {
     "name": "stdout",
     "output_type": "stream",
     "text": [
      "Figure(640x480)\r\n"
     ]
    }
   ],
   "source": [
    "!andes plot kundur_full_out.lst --xargs \"omega GENROU\" | xargs andes plot"
   ]
  },
  {
   "cell_type": "markdown",
   "metadata": {},
   "source": [
    "where `|` is the pipe operator in shell for piping the standard output of the left-hand side to the right-hand side, `xargs` captures the pipe-in and appends it to `andes plot`. \n",
    "\n",
    "The command is equivalent to manually running"
   ]
  },
  {
   "cell_type": "code",
   "execution_count": 11,
   "metadata": {},
   "outputs": [
    {
     "name": "stdout",
     "output_type": "stream",
     "text": [
      "Figure(640x480)\r\n"
     ]
    }
   ],
   "source": [
    "!andes plot kundur_full_out.lst 5 6 7 8"
   ]
  },
  {
   "cell_type": "markdown",
   "metadata": {},
   "source": [
    "## Cleanup"
   ]
  },
  {
   "cell_type": "markdown",
   "metadata": {},
   "source": [
    "Remove the saved `png` image files."
   ]
  },
  {
   "cell_type": "code",
   "execution_count": 12,
   "metadata": {},
   "outputs": [
    {
     "name": "stdout",
     "output_type": "stream",
     "text": [
      "removed 'kundur_full_out_1.png'\r\n"
     ]
    }
   ],
   "source": [
    "!rm -v *.png"
   ]
  },
  {
   "cell_type": "code",
   "execution_count": 13,
   "metadata": {},
   "outputs": [
    {
     "name": "stdout",
     "output_type": "stream",
     "text": [
      "\r\n",
      "    _           _         | Version 0.8.8.post41.dev0+g56198e1\r\n",
      "   /_\\  _ _  __| |___ ___ | Python 3.7.3 on Linux, 05/02/2020 12:58:06 PM\r\n",
      "  / _ \\| ' \\/ _` / -_|_-< | \r\n",
      " /_/ \\_\\_||_\\__,_\\___/__/ | This program comes with ABSOLUTELY NO WARRANTY.\r\n",
      "\r\n",
      "<kundur_full_out.txt> removed.\r\n",
      "<kundur_full_out.lst> removed.\r\n",
      "<kundur_full_out.npy> removed.\r\n"
     ]
    }
   ],
   "source": [
    "!andes misc -C"
   ]
  }
 ],
 "metadata": {
  "kernelspec": {
   "display_name": "Python 3",
   "language": "python",
   "name": "python3"
  },
  "language_info": {
   "codemirror_mode": {
    "name": "ipython",
    "version": 3
   },
   "file_extension": ".py",
   "mimetype": "text/x-python",
   "name": "python",
   "nbconvert_exporter": "python",
   "pygments_lexer": "ipython3",
   "version": "3.7.3"
  },
  "pycharm": {
   "stem_cell": {
    "cell_type": "raw",
    "metadata": {
     "collapsed": false
    },
    "source": []
   }
  }
 },
 "nbformat": 4,
 "nbformat_minor": 4
}
