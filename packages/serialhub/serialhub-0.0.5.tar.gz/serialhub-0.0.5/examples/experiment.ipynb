{
 "cells": [
  {
   "cell_type": "markdown",
   "metadata": {},
   "source": [
    "# SerialCheck\n",
    "Checking if \"Serial\" is supported..."
   ]
  },
  {
   "cell_type": "code",
   "execution_count": null,
   "metadata": {},
   "outputs": [],
   "source": [
    "from ipywidgets import widgets;\n",
    "import serialhub;\n",
    "serialhub.version_info"
   ]
  },
  {
   "cell_type": "code",
   "execution_count": null,
   "metadata": {},
   "outputs": [],
   "source": [
    "W = serialhub.SerialHubWidget();\n",
    "#print(W.get_state())\n",
    "W"
   ]
  },
  {
   "cell_type": "code",
   "execution_count": null,
   "metadata": {},
   "outputs": [],
   "source": [
    "def on_value_change(change):\n",
    "    print(change.new)\n",
    "\n",
    "W.observe(on_value_change, names='value')\n",
    "#W.value = 'New value 2'\n",
    "print(W.get_state())"
   ]
  },
  {
   "cell_type": "code",
   "execution_count": null,
   "metadata": {},
   "outputs": [],
   "source": [
    "%%javascript\n",
    "let $ = Backbone.$;\n",
    "let W = $(\"div.jupyter-widgets > div.xx-serialhub-widget\")\n",
    "let w = $(\"div.xx-serialhub-widget\")\n",
    "console.log(w[0].innerText, W[0].innerText, W)"
   ]
  },
  {
   "cell_type": "code",
   "execution_count": null,
   "metadata": {},
   "outputs": [],
   "source": [
    "W.comm.__dict__"
   ]
  },
  {
   "cell_type": "code",
   "execution_count": null,
   "metadata": {},
   "outputs": [],
   "source": [
    "%%javascript\n",
    "let F = () => {\n",
    "    console.log(arguments);\n",
    "    let $ = Backbone.$;\n",
    "    if (!'serial' in navigator) return;\n",
    "    const serialCheck = $('#SerialCheck + p')[0];\n",
    "    serialCheck.innerText = 'navigator.serial IS supported.';\n",
    "    const filter = { usbVendorId: 0x2047 }; // TI proper ; is also 0x0451 for \"TI HUB\"\n",
    "    let port = navigator.serial.requestPort( {filters: [filter]} );\n",
    "    console.log(port);\n",
    "    return port;\n",
    "}"
   ]
  },
  {
   "cell_type": "code",
   "execution_count": null,
   "metadata": {},
   "outputs": [],
   "source": [
    "from ipywidgets import widgets;\n",
    "\n",
    "print(widgets.Widget.observe.__doc__)"
   ]
  },
  {
   "cell_type": "code",
   "execution_count": null,
   "metadata": {},
   "outputs": [],
   "source": [
    "import string;\n",
    "int_range = widgets.IntSlider()\n",
    "\n",
    "display(int_range)\n",
    "\n",
    "def on_value_change(change):\n",
    "    W.value = str(change['new'])\n",
    "    #with output2:\n",
    "    #    print(change['new'])\n",
    "\n",
    "int_range.observe(on_value_change, names='value')"
   ]
  },
  {
   "cell_type": "code",
   "execution_count": null,
   "metadata": {},
   "outputs": [],
   "source": [
    "print(W.get_manager_state())"
   ]
  },
  {
   "cell_type": "code",
   "execution_count": null,
   "metadata": {},
   "outputs": [],
   "source": [
    "%%javascript\n",
    "console.log(Backbone.$(\".xx-serialhub-widget\"))"
   ]
  },
  {
   "cell_type": "code",
   "execution_count": null,
   "metadata": {},
   "outputs": [],
   "source": [
    "from IPython.display import Javascript;\n",
    "J = Javascript('console.log(self,\"test2\")');\n",
    "J"
   ]
  },
  {
   "cell_type": "code",
   "execution_count": null,
   "metadata": {
    "jupyter": {
     "source_hidden": true
    }
   },
   "outputs": [],
   "source": []
  }
 ],
 "metadata": {
  "kernelspec": {
   "display_name": "Python 3",
   "language": "python",
   "name": "python3"
  },
  "language_info": {
   "codemirror_mode": {
    "name": "ipython",
    "version": 3
   },
   "file_extension": ".py",
   "mimetype": "text/x-python",
   "name": "python",
   "nbconvert_exporter": "python",
   "pygments_lexer": "ipython3",
   "version": "3.7.6"
  }
 },
 "nbformat": 4,
 "nbformat_minor": 4
}
