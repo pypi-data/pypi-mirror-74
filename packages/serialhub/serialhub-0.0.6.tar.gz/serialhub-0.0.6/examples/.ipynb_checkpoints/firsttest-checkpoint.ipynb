{
 "cells": [
  {
   "cell_type": "code",
   "execution_count": null,
   "metadata": {},
   "outputs": [],
   "source": [
    "### See cell at bottom if \"serialhub\" is not yet installed ###\n",
    "import serialhub;\n",
    "print(serialhub.backend.SerialHubWidget.__doc__)"
   ]
  },
  {
   "cell_type": "code",
   "execution_count": null,
   "metadata": {
    "tags": [
     "test-tag"
    ]
   },
   "outputs": [],
   "source": [
    "W = serialhub.SerialHubWidget()\n",
    "W"
   ]
  },
  {
   "cell_type": "code",
   "execution_count": null,
   "metadata": {},
   "outputs": [],
   "source": [
    "W.isSupported"
   ]
  },
  {
   "cell_type": "code",
   "execution_count": null,
   "metadata": {},
   "outputs": [],
   "source": [
    "W.value += \"TEST\""
   ]
  },
  {
   "cell_type": "code",
   "execution_count": null,
   "metadata": {},
   "outputs": [],
   "source": [
    "W.send_custom({'type':\"text\", 'text':\"1\"})"
   ]
  },
  {
   "cell_type": "code",
   "execution_count": null,
   "metadata": {},
   "outputs": [],
   "source": [
    "ba1 = bytearray(b'abcdefg')\n",
    "ba2 = bytearray(b'XYZ')\n",
    "print(ba1, ba2)\n",
    "W.send_custom({}, [ba1, ba2])"
   ]
  },
  {
   "cell_type": "code",
   "execution_count": null,
   "metadata": {},
   "outputs": [],
   "source": [
    "### TO INSTALL manually for individual user...followed by kernel restart & browser refresh ###\n",
    "%pip install serialhub==0.0.6\n",
    "\n",
    "!jupyter lab build --minimize=False\n",
    "\n",
    "from jupyterlab import labextensions;\n",
    "if (labextensions.check_extension('serialhub')):\n",
    "    import serialhub;\n",
    "    print(serialhub.__version__);\n",
    "    %pip show serialhub\n",
    "else:\n",
    "    print(\"Likely need to let jupyterlab rebuild, and also refresh browser\")\n",
    "#    print(\"I don't know if you also need to do a '%pip install serialhub' or not!\")\n",
    "#    labextensions.install_extension('serialhub');"
   ]
  }
 ],
 "metadata": {
  "kernelspec": {
   "display_name": "Python 3",
   "language": "python",
   "name": "python3"
  },
  "language_info": {
   "codemirror_mode": {
    "name": "ipython",
    "version": 3
   },
   "file_extension": ".py",
   "mimetype": "text/x-python",
   "name": "python",
   "nbconvert_exporter": "python",
   "pygments_lexer": "ipython3",
   "version": "3.7.6"
  }
 },
 "nbformat": 4,
 "nbformat_minor": 4
}
